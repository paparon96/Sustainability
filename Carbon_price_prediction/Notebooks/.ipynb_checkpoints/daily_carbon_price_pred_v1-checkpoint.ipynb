{
 "cells": [
  {
   "cell_type": "markdown",
   "metadata": {},
   "source": [
    "# Import packages"
   ]
  },
  {
   "cell_type": "code",
   "execution_count": 1,
   "metadata": {},
   "outputs": [],
   "source": [
    "# loading packages\n",
    "import numpy as np\n",
    "import pandas as pd\n",
    "import matplotlib.pyplot as plt\n",
    "import os\n",
    "import seaborn as sns\n",
    "plt.rcParams['figure.dpi'] = 300\n",
    "\n",
    "import matplotlib.dates as mdates\n",
    "\n",
    "# ignoring warnings\n",
    "import warnings\n",
    "warnings.simplefilter(\"ignore\")"
   ]
  },
  {
   "cell_type": "code",
   "execution_count": 2,
   "metadata": {},
   "outputs": [],
   "source": [
    "import sklearn as sk\n",
    "import statsmodels.api as sm\n",
    "\n",
    "# Import Statsmodels\n",
    "from statsmodels.tsa.api import VAR\n",
    "from statsmodels.tsa.api import ARMA\n",
    "\n",
    "\n",
    "from statsmodels.tsa.stattools import adfuller\n",
    "from statsmodels.tools.eval_measures import rmse, aic\n",
    "from statsmodels.tsa.stattools import grangercausalitytests\n",
    "from statsmodels.tsa.vector_ar.vecm import coint_johansen\n",
    "from statsmodels.stats.stattools import durbin_watson\n",
    "\n",
    "from sklearn.metrics import r2_score,mean_squared_error\n",
    "from sklearn.linear_model import Lasso\n",
    "from sklearn.model_selection import GridSearchCV\n",
    "\n",
    "from sklearn.ensemble import RandomForestRegressor\n",
    "\n",
    "import copy"
   ]
  },
  {
   "cell_type": "markdown",
   "metadata": {},
   "source": [
    "# Custom functions"
   ]
  },
  {
   "cell_type": "code",
   "execution_count": 3,
   "metadata": {},
   "outputs": [],
   "source": [
    "def diff_for_stationarity(df_input,cols,threshold):\n",
    "    \n",
    "    \"\"\"Checks the series for stationarity then difference it until it is stationary\n",
    "    (with the given threshold)\"\"\"\n",
    "    \n",
    "    df = copy.deepcopy(df_input)\n",
    "    \n",
    "    \n",
    "    # Get length of DF\n",
    "    n = len(df)\n",
    "    \n",
    "    # Loop over columns of interest\n",
    "    for col in cols:\n",
    "        stationarity = False\n",
    "        series = list(df[col].astype(float))\n",
    "        linear_diff = False\n",
    "        \n",
    "        try:\n",
    "        \n",
    "            counter = 0\n",
    "\n",
    "\n",
    "\n",
    "            while not stationarity:\n",
    "\n",
    "                #print(counter)\n",
    "\n",
    "                # Run ADF test\n",
    "                adf_test = adfuller(series)\n",
    "                pval = adf_test[1]\n",
    "\n",
    "                if pval < threshold:\n",
    "                    stationarity = True\n",
    "\n",
    "                else:\n",
    "                    # Difference the series\n",
    "                    #series = [np.log(series[i]/series[i-1]) for i in range(1,n-counter)]\n",
    "                    series = [series[i]-series[i-1] for i in range(1,n-counter)]\n",
    "\n",
    "                    counter += 1\n",
    "                    \n",
    "        except:\n",
    "            \n",
    "            counter = 0\n",
    "            stationarity = False\n",
    "            series = list(df[col].astype(float))\n",
    "            linear_diff = True\n",
    "\n",
    "            while not stationarity:\n",
    "\n",
    "                #print(counter)\n",
    "\n",
    "                # Run ADF test\n",
    "                adf_test = adfuller(series)\n",
    "                pval = adf_test[1]\n",
    "\n",
    "                if pval < threshold:\n",
    "                    stationarity = True\n",
    "\n",
    "                elif counter>1:\n",
    "                    stationarity = True\n",
    "                    series = list(df[col].astype(float))\n",
    "                else:\n",
    "                    # Difference the series\n",
    "                    series = [series[i]-series[i-1] for i in range(1,n-counter)]\n",
    "\n",
    "                    counter += 1\n",
    "        \n",
    "        # Create final series and assign it back to the dataframe\n",
    "        final_series = [None]*counter + series\n",
    "        df[col] = final_series\n",
    "        \n",
    "        if linear_diff:\n",
    "            type_diff = \"linear difference\"\n",
    "        else:\n",
    "            type_diff = \"linear difference\"\n",
    "        \n",
    "        print(\"Variable: {} is {}-order integrated ({})!\".format(col,counter,type_diff))\n",
    "        \n",
    "        \n",
    "    return df"
   ]
  },
  {
   "cell_type": "markdown",
   "metadata": {},
   "source": [
    "# Import data"
   ]
  },
  {
   "cell_type": "code",
   "execution_count": 4,
   "metadata": {
    "scrolled": true
   },
   "outputs": [
    {
     "name": "stdout",
     "output_type": "stream",
     "text": [
      "                  Price\n",
      "Date                   \n",
      "02/01/2017 00:00   6.12\n",
      "03/01/2017 00:00   5.43\n",
      "04/01/2017 00:00   5.72\n",
      "05/01/2017 00:00   5.29\n",
      "06/01/2017 00:00   5.50\n"
     ]
    }
   ],
   "source": [
    "df = pd.read_csv('../Data/daily_prices.csv')\n",
    "\n",
    "df.set_index('Date',inplace=True)\n",
    "\n",
    "print(df.head())"
   ]
  },
  {
   "cell_type": "markdown",
   "metadata": {},
   "source": [
    "# EDA"
   ]
  },
  {
   "cell_type": "code",
   "execution_count": 5,
   "metadata": {},
   "outputs": [
    {
     "data": {
      "image/png": "[encoded data removed]",
      "text/plain": [
       "<Figure size 432x288 with 1 Axes>"
      ]
     },
     "metadata": {
      "needs_background": "light"
     },
     "output_type": "display_data"
    }
   ],
   "source": [
    "plt.plot(np.asarray(df.Price))\n",
    "plt.show()"
   ]
  },
  {
   "cell_type": "markdown",
   "metadata": {},
   "source": [
    "# Data preprocessing"
   ]
  },
  {
   "cell_type": "markdown",
   "metadata": {},
   "source": [
    "## Handle missing values"
   ]
  },
  {
   "cell_type": "code",
   "execution_count": 6,
   "metadata": {},
   "outputs": [],
   "source": [
    "df = df.fillna(method='bfill')"
   ]
  },
  {
   "cell_type": "markdown",
   "metadata": {},
   "source": [
    "## Stationarity checks"
   ]
  },
  {
   "cell_type": "code",
   "execution_count": 7,
   "metadata": {},
   "outputs": [
    {
     "name": "stdout",
     "output_type": "stream",
     "text": [
      "Variable: Price is 1-order integrated (linear difference)!\n"
     ]
    }
   ],
   "source": [
    "# Parameters\n",
    "stacioner_threshold = 0.01\n",
    "arno_cols = df.columns\n",
    "current_df = df\n",
    "\n",
    "# Check for stationarity\n",
    "df_stationer = diff_for_stationarity(df_input=current_df,cols=arno_cols,threshold=stacioner_threshold)"
   ]
  },
  {
   "cell_type": "code",
   "execution_count": 8,
   "metadata": {
    "scrolled": true
   },
   "outputs": [
    {
     "data": {
      "text/html": [
       "<div>\n",
       "<style scoped>\n",
       "    .dataframe tbody tr th:only-of-type {\n",
       "        vertical-align: middle;\n",
       "    }\n",
       "\n",
       "    .dataframe tbody tr th {\n",
       "        vertical-align: top;\n",
       "    }\n",
       "\n",
       "    .dataframe thead th {\n",
       "        text-align: right;\n",
       "    }\n",
       "</style>\n",
       "<table border=\"1\" class=\"dataframe\">\n",
       "  <thead>\n",
       "    <tr style=\"text-align: right;\">\n",
       "      <th></th>\n",
       "      <th>Price</th>\n",
       "    </tr>\n",
       "    <tr>\n",
       "      <th>Date</th>\n",
       "      <th></th>\n",
       "    </tr>\n",
       "  </thead>\n",
       "  <tbody>\n",
       "    <tr>\n",
       "      <td>02/01/2017 00:00</td>\n",
       "      <td>NaN</td>\n",
       "    </tr>\n",
       "    <tr>\n",
       "      <td>03/01/2017 00:00</td>\n",
       "      <td>-0.69</td>\n",
       "    </tr>\n",
       "    <tr>\n",
       "      <td>04/01/2017 00:00</td>\n",
       "      <td>0.29</td>\n",
       "    </tr>\n",
       "    <tr>\n",
       "      <td>05/01/2017 00:00</td>\n",
       "      <td>-0.43</td>\n",
       "    </tr>\n",
       "    <tr>\n",
       "      <td>06/01/2017 00:00</td>\n",
       "      <td>0.21</td>\n",
       "    </tr>\n",
       "    <tr>\n",
       "      <td>...</td>\n",
       "      <td>...</td>\n",
       "    </tr>\n",
       "    <tr>\n",
       "      <td>07/04/2021 00:00</td>\n",
       "      <td>-0.38</td>\n",
       "    </tr>\n",
       "    <tr>\n",
       "      <td>08/04/2021 00:00</td>\n",
       "      <td>-0.38</td>\n",
       "    </tr>\n",
       "    <tr>\n",
       "      <td>09/04/2021 00:00</td>\n",
       "      <td>0.18</td>\n",
       "    </tr>\n",
       "    <tr>\n",
       "      <td>12/04/2021 00:00</td>\n",
       "      <td>0.83</td>\n",
       "    </tr>\n",
       "    <tr>\n",
       "      <td>13/04/2021 00:00</td>\n",
       "      <td>-0.63</td>\n",
       "    </tr>\n",
       "  </tbody>\n",
       "</table>\n",
       "<p>1104 rows × 1 columns</p>\n",
       "</div>"
      ],
      "text/plain": [
       "                  Price\n",
       "Date                   \n",
       "02/01/2017 00:00    NaN\n",
       "03/01/2017 00:00  -0.69\n",
       "04/01/2017 00:00   0.29\n",
       "05/01/2017 00:00  -0.43\n",
       "06/01/2017 00:00   0.21\n",
       "...                 ...\n",
       "07/04/2021 00:00  -0.38\n",
       "08/04/2021 00:00  -0.38\n",
       "09/04/2021 00:00   0.18\n",
       "12/04/2021 00:00   0.83\n",
       "13/04/2021 00:00  -0.63\n",
       "\n",
       "[1104 rows x 1 columns]"
      ]
     },
     "execution_count": 8,
     "metadata": {},
     "output_type": "execute_result"
    }
   ],
   "source": [
    "df_stationer"
   ]
  },
  {
   "cell_type": "code",
   "execution_count": 9,
   "metadata": {},
   "outputs": [],
   "source": [
    "# Drop first row after differencing the series\n",
    "df_stationer = df_stationer.dropna()"
   ]
  },
  {
   "cell_type": "code",
   "execution_count": 10,
   "metadata": {},
   "outputs": [
    {
     "data": {
      "image/png": "[encoded data removed]",
      "text/plain": [
       "<Figure size 432x288 with 1 Axes>"
      ]
     },
     "metadata": {
      "needs_background": "light"
     },
     "output_type": "display_data"
    }
   ],
   "source": [
    "plt.hist(df_stationer.Price)\n",
    "plt.show()"
   ]
  },
  {
   "cell_type": "markdown",
   "metadata": {},
   "source": [
    "# Modelling"
   ]
  },
  {
   "cell_type": "code",
   "execution_count": 11,
   "metadata": {},
   "outputs": [
    {
     "name": "stdout",
     "output_type": "stream",
     "text": [
      "(883, 1)\n",
      "(220, 1)\n"
     ]
    }
   ],
   "source": [
    "# Create train-test sets\n",
    "n = len(df_stationer)\n",
    "testsize = 0.2\n",
    "\n",
    "test_obs = int(n*testsize)\n",
    "df_train, df_test = df_stationer[0:-test_obs], df_stationer[-test_obs:]\n",
    "\n",
    "# Check size\n",
    "print(df_train.shape)\n",
    "print(df_test.shape)\n",
    "\n",
    "# Be careful with time leakage!"
   ]
  },
  {
   "cell_type": "markdown",
   "metadata": {},
   "source": [
    "## ARMA(p,q)"
   ]
  },
  {
   "cell_type": "code",
   "execution_count": 12,
   "metadata": {},
   "outputs": [],
   "source": [
    "# Fit the model\n",
    "res = sm.tsa.arma_order_select_ic(df_train['Price'], ic=[\"aic\", \"bic\",\"hqic\"], trend=\"nc\")"
   ]
  },
  {
   "cell_type": "code",
   "execution_count": 13,
   "metadata": {},
   "outputs": [
    {
     "name": "stdout",
     "output_type": "stream",
     "text": [
      "{'aic':              0            1            2\n",
      "0          NaN  1520.552218  1522.184938\n",
      "1  1520.528546  1520.305567  1521.739969\n",
      "2  1522.060128  1521.818077  1520.336887\n",
      "3  1520.890512  1521.980282  1520.040755\n",
      "4  1522.380827  1523.859906  1521.799772, 'bic':              0            1            2\n",
      "0          NaN  1530.118868  1536.534913\n",
      "1  1530.095196  1534.655543  1540.873270\n",
      "2  1536.410104  1540.951377  1544.253513\n",
      "3  1540.023813  1545.896908  1548.740706\n",
      "4  1546.297453  1552.559857  1555.283048, 'hqic':              0            1            2\n",
      "0          NaN  1524.210087  1527.671742\n",
      "1  1524.186416  1525.792371  1529.055709\n",
      "2  1527.546933  1529.133816  1529.481561\n",
      "3  1528.206251  1531.124956  1531.014364\n",
      "4  1531.525502  1534.833515  1534.602316, 'aic_min_order': (3, 2), 'bic_min_order': (1, 0), 'hqic_min_order': (1, 0)}\n"
     ]
    }
   ],
   "source": [
    "print(res)"
   ]
  },
  {
   "cell_type": "code",
   "execution_count": 14,
   "metadata": {},
   "outputs": [],
   "source": [
    "# Parameters\n",
    "order = (1,0)\n",
    "\n",
    "# Initialise model\n",
    "arma_model = ARMA(df_train['Price'],order)"
   ]
  },
  {
   "cell_type": "code",
   "execution_count": 15,
   "metadata": {},
   "outputs": [
    {
     "data": {
      "text/html": [
       "<table class=\"simpletable\">\n",
       "<caption>ARMA Model Results</caption>\n",
       "<tr>\n",
       "  <th>Dep. Variable:</th>       <td>Price</td>      <th>  No. Observations:  </th>    <td>883</td>  \n",
       "</tr>\n",
       "<tr>\n",
       "  <th>Model:</th>            <td>ARMA(1, 0)</td>    <th>  Log Likelihood     </th> <td>-757.794</td>\n",
       "</tr>\n",
       "<tr>\n",
       "  <th>Method:</th>             <td>css-mle</td>     <th>  S.D. of innovations</th>   <td>0.571</td> \n",
       "</tr>\n",
       "<tr>\n",
       "  <th>Date:</th>          <td>Wed, 14 Apr 2021</td> <th>  AIC                </th> <td>1521.588</td>\n",
       "</tr>\n",
       "<tr>\n",
       "  <th>Time:</th>              <td>23:21:24</td>     <th>  BIC                </th> <td>1535.938</td>\n",
       "</tr>\n",
       "<tr>\n",
       "  <th>Sample:</th>                <td>0</td>        <th>  HQIC               </th> <td>1527.075</td>\n",
       "</tr>\n",
       "<tr>\n",
       "  <th></th>                       <td> </td>        <th>                     </th>     <td> </td>   \n",
       "</tr>\n",
       "</table>\n",
       "<table class=\"simpletable\">\n",
       "<tr>\n",
       "       <td></td>          <th>coef</th>     <th>std err</th>      <th>z</th>      <th>P>|z|</th>  <th>[0.025</th>    <th>0.975]</th>  \n",
       "</tr>\n",
       "<tr>\n",
       "  <th>const</th>       <td>    0.0182</td> <td>    0.019</td> <td>    0.970</td> <td> 0.332</td> <td>   -0.019</td> <td>    0.055</td>\n",
       "</tr>\n",
       "<tr>\n",
       "  <th>ar.L1.Price</th> <td>   -0.0264</td> <td>    0.034</td> <td>   -0.783</td> <td> 0.434</td> <td>   -0.092</td> <td>    0.040</td>\n",
       "</tr>\n",
       "</table>\n",
       "<table class=\"simpletable\">\n",
       "<caption>Roots</caption>\n",
       "<tr>\n",
       "    <td></td>   <th>            Real</th>  <th>         Imaginary</th> <th>         Modulus</th>  <th>        Frequency</th>\n",
       "</tr>\n",
       "<tr>\n",
       "  <th>AR.1</th> <td>         -37.9460</td> <td>          +0.0000j</td> <td>          37.9460</td> <td>           0.5000</td>\n",
       "</tr>\n",
       "</table>"
      ],
      "text/plain": [
       "<class 'statsmodels.iolib.summary.Summary'>\n",
       "\"\"\"\n",
       "                              ARMA Model Results                              \n",
       "==============================================================================\n",
       "Dep. Variable:                  Price   No. Observations:                  883\n",
       "Model:                     ARMA(1, 0)   Log Likelihood                -757.794\n",
       "Method:                       css-mle   S.D. of innovations              0.571\n",
       "Date:                Wed, 14 Apr 2021   AIC                           1521.588\n",
       "Time:                        23:21:24   BIC                           1535.938\n",
       "Sample:                             0   HQIC                          1527.075\n",
       "                                                                              \n",
       "===============================================================================\n",
       "                  coef    std err          z      P>|z|      [0.025      0.975]\n",
       "-------------------------------------------------------------------------------\n",
       "const           0.0182      0.019      0.970      0.332      -0.019       0.055\n",
       "ar.L1.Price    -0.0264      0.034     -0.783      0.434      -0.092       0.040\n",
       "                                    Roots                                    \n",
       "=============================================================================\n",
       "                  Real          Imaginary           Modulus         Frequency\n",
       "-----------------------------------------------------------------------------\n",
       "AR.1          -37.9460           +0.0000j           37.9460            0.5000\n",
       "-----------------------------------------------------------------------------\n",
       "\"\"\""
      ]
     },
     "execution_count": 15,
     "metadata": {},
     "output_type": "execute_result"
    }
   ],
   "source": [
    "# Fit the model with the selected order\n",
    "arma_model_fitted = arma_model.fit()\n",
    "arma_model_fitted.summary()"
   ]
  },
  {
   "cell_type": "code",
   "execution_count": 16,
   "metadata": {},
   "outputs": [
    {
     "data": {
      "image/png": "[encoded data removed]",
      "text/plain": [
       "<Figure size 432x288 with 1 Axes>"
      ]
     },
     "metadata": {
      "needs_background": "light"
     },
     "output_type": "display_data"
    }
   ],
   "source": [
    "# Compare prediction and actual\n",
    "arma_y_pred = arma_model.predict(params = arma_model_fitted.params)\n",
    "y_true = df_train['Price']\n",
    "\n",
    "plt.scatter(y_true,arma_y_pred)\n",
    "plt.show()"
   ]
  },
  {
   "cell_type": "code",
   "execution_count": 17,
   "metadata": {},
   "outputs": [
    {
     "data": {
      "image/png": "[encoded data removed]",
      "text/plain": [
       "<Figure size 432x288 with 1 Axes>"
      ]
     },
     "metadata": {
      "needs_background": "light"
     },
     "output_type": "display_data"
    }
   ],
   "source": [
    "# Compare prediction and actual\n",
    "arma_y_pred_test = arma_model.predict(params = arma_model_fitted.params,\n",
    "                                     start = len(df_train),\n",
    "                                     end = len(df_train)+len(df_test)-1)\n",
    "y_test = df_test['Price']\n",
    "\n",
    "plt.scatter(y_test,arma_y_pred_test)\n",
    "plt.show()"
   ]
  },
  {
   "cell_type": "markdown",
   "metadata": {},
   "source": [
    "## Random forest"
   ]
  },
  {
   "cell_type": "code",
   "execution_count": 18,
   "metadata": {},
   "outputs": [],
   "source": [
    "rf_model = RandomForestRegressor(max_depth=5, n_estimators=30, random_state=0)"
   ]
  },
  {
   "cell_type": "code",
   "execution_count": 19,
   "metadata": {},
   "outputs": [],
   "source": [
    "X_train = df_train.shift(1).iloc[1:,:].values\n",
    "\n",
    "y_train = df_train['Price'].iloc[1:]\n",
    "\n",
    "X_test = df_test.shift(1).iloc[1:,:].values\n",
    "\n",
    "y_test = df_test['Price'].iloc[1:]"
   ]
  },
  {
   "cell_type": "code",
   "execution_count": 20,
   "metadata": {},
   "outputs": [
    {
     "data": {
      "text/plain": [
       "RandomForestRegressor(bootstrap=True, criterion='mse', max_depth=5,\n",
       "                      max_features='auto', max_leaf_nodes=None,\n",
       "                      min_impurity_decrease=0.0, min_impurity_split=None,\n",
       "                      min_samples_leaf=1, min_samples_split=2,\n",
       "                      min_weight_fraction_leaf=0.0, n_estimators=30,\n",
       "                      n_jobs=None, oob_score=False, random_state=0, verbose=0,\n",
       "                      warm_start=False)"
      ]
     },
     "execution_count": 20,
     "metadata": {},
     "output_type": "execute_result"
    }
   ],
   "source": [
    "# Fit the model\n",
    "rf_model.fit(X_train, y_train)"
   ]
  },
  {
   "cell_type": "code",
   "execution_count": 21,
   "metadata": {},
   "outputs": [],
   "source": [
    "# Predict with the model\n",
    "rf_y_pred = rf_model.predict(X_test)"
   ]
  },
  {
   "cell_type": "code",
   "execution_count": 22,
   "metadata": {},
   "outputs": [
    {
     "data": {
      "image/png": "[encoded data removed]",
      "text/plain": [
       "<Figure size 432x288 with 1 Axes>"
      ]
     },
     "metadata": {
      "needs_background": "light"
     },
     "output_type": "display_data"
    }
   ],
   "source": [
    "# Compare prediction and actual in the test set\n",
    "plt.scatter(y_test,rf_y_pred)\n",
    "plt.show()"
   ]
  },
  {
   "cell_type": "code",
   "execution_count": 25,
   "metadata": {},
   "outputs": [
    {
     "data": {
      "image/png": "[encoded data removed]",
      "text/plain": [
       "<Figure size 432x288 with 1 Axes>"
      ]
     },
     "metadata": {
      "needs_background": "light"
     },
     "output_type": "display_data"
    }
   ],
   "source": [
    "# Compare prediction and actual in the test set\n",
    "plt.plot(np.asarray(rf_y_pred),label='RF model prediction')\n",
    "plt.plot(np.asarray(y_test),label='True values')\n",
    "plt.xlabel('Time')\n",
    "plt.ylabel('Daily price change')\n",
    "#plt.yscale('log')\n",
    "plt.title('Random Forest model predictions on the test set')\n",
    "plt.legend(loc='upper left')\n",
    "plt.savefig('../Outputs/daily_pred_rf.pdf')\n",
    "plt.show()"
   ]
  },
  {
   "cell_type": "code",
   "execution_count": 26,
   "metadata": {},
   "outputs": [
    {
     "data": {
      "text/plain": [
       "0.7358365156955068"
      ]
     },
     "execution_count": 26,
     "metadata": {},
     "output_type": "execute_result"
    }
   ],
   "source": [
    "mean_squared_error(rf_y_pred,y_test)"
   ]
  }
 ],
 "metadata": {
  "kernelspec": {
   "display_name": "Python 3",
   "language": "python",
   "name": "python3"
  },
  "language_info": {
   "codemirror_mode": {
    "name": "ipython",
    "version": 3
   },
   "file_extension": ".py",
   "mimetype": "text/x-python",
   "name": "python",
   "nbconvert_exporter": "python",
   "pygments_lexer": "ipython3",
   "version": "3.7.4"
  },
  "toc": {
   "base_numbering": 1,
   "nav_menu": {},
   "number_sections": true,
   "sideBar": true,
   "skip_h1_title": false,
   "title_cell": "Table of Contents",
   "title_sidebar": "Contents",
   "toc_cell": false,
   "toc_position": {},
   "toc_section_display": true,
   "toc_window_display": true
  }
 },
 "nbformat": 4,
 "nbformat_minor": 2
}
