{
  "nbformat": 4,
  "nbformat_minor": 0,
  "metadata": {
    "colab": {
      "name": "Aronnak_merge.ipynb",
      "provenance": [],
      "authorship_tag": "ABX9TyO9eXz+CR1kLAe4cLo7J7jQ",
      "include_colab_link": true
    },
    "kernelspec": {
      "name": "python3",
      "display_name": "Python 3"
    },
    "language_info": {
      "name": "python"
    }
  },
  "cells": [
    {
      "cell_type": "markdown",
      "metadata": {
        "id": "view-in-github",
        "colab_type": "text"
      },
      "source": [
        "<a href=\"https://colab.research.google.com/github/paparon96/Sustainability/blob/main/Carbon_price_prediction/Notebooks/Aronnak_merge.ipynb\" target=\"_parent\"><img src=\"https://colab.research.google.com/assets/colab-badge.svg\" alt=\"Open In Colab\"/></a>"
      ]
    },
    {
      "cell_type": "code",
      "metadata": {
        "id": "nue1P_k4_GMd"
      },
      "source": [
        "import pandas as pd\n",
        "import pickle\n",
        "import nltk\n",
        "from nltk.corpus import stopwords\n",
        "import datetime\n",
        "import re"
      ],
      "execution_count": 33,
      "outputs": []
    },
    {
      "cell_type": "code",
      "metadata": {
        "colab": {
          "base_uri": "https://localhost:8080/"
        },
        "id": "YAzhLZr2JYla",
        "outputId": "ab2a82c3-9995-4eca-d190-581c2f4608c5"
      },
      "source": [
        "# Run this if running in Google Collab\n",
        "# Mount google drive if running from Google Collab\n",
        "from google.colab import drive\n",
        "drive.mount('/content/drive', force_remount=True)"
      ],
      "execution_count": 1,
      "outputs": [
        {
          "output_type": "stream",
          "name": "stdout",
          "text": [
            "Mounted at /content/drive\n"
          ]
        }
      ]
    },
    {
      "cell_type": "code",
      "metadata": {
        "id": "bauhSdD8KtkS"
      },
      "source": [
        "import os\n",
        "os.chdir('/content/drive/My Drive/Carbon_price_prediction/Workspace/Data')"
      ],
      "execution_count": 2,
      "outputs": []
    },
    {
      "cell_type": "code",
      "metadata": {
        "colab": {
          "base_uri": "https://localhost:8080/"
        },
        "id": "Tav8z7vKl1U1",
        "outputId": "e56755c1-a026-4066-aac0-2a56017f79a8"
      },
      "source": [
        "nltk.download('stopwords')"
      ],
      "execution_count": 5,
      "outputs": [
        {
          "output_type": "stream",
          "name": "stdout",
          "text": [
            "[nltk_data] Downloading package stopwords to /root/nltk_data...\n",
            "[nltk_data]   Unzipping corpora/stopwords.zip.\n"
          ]
        },
        {
          "output_type": "execute_result",
          "data": {
            "text/plain": [
              "True"
            ]
          },
          "metadata": {},
          "execution_count": 5
        }
      ]
    },
    {
      "cell_type": "code",
      "metadata": {
        "id": "xMYDpn4a9qkl"
      },
      "source": [
        "full_dict = {}\n",
        "\n",
        "for f_name in os.listdir():\n",
        "  if f_name.startswith('no_keyword_full_article_text'):\n",
        "    with open(f_name, 'rb') as tmp:\n",
        "      raw_article_texts = pickle.load(tmp)\n",
        "      full_dict.update(raw_article_texts)"
      ],
      "execution_count": 6,
      "outputs": []
    },
    {
      "cell_type": "code",
      "metadata": {
        "id": "8sG0vXj89wdB"
      },
      "source": [
        "unique_articles = {}\n",
        "\n",
        "for key,value in full_dict.items():\n",
        "    if value not in unique_articles.values():\n",
        "        unique_articles[key] = value\n"
      ],
      "execution_count": 7,
      "outputs": []
    },
    {
      "cell_type": "code",
      "metadata": {
        "colab": {
          "base_uri": "https://localhost:8080/"
        },
        "id": "N49jrKuzQpDm",
        "outputId": "6804f6c6-8226-4f22-b4af-76b0769b7a9a"
      },
      "source": [
        "df = pd.read_csv(\"./EU_2017_2021_export.csv\", index_col=0)"
      ],
      "execution_count": 13,
      "outputs": [
        {
          "output_type": "stream",
          "name": "stderr",
          "text": [
            "/usr/local/lib/python3.7/dist-packages/IPython/core/interactiveshell.py:2718: DtypeWarning: Columns (11,15,22,25) have mixed types.Specify dtype option on import or set low_memory=False.\n",
            "  interactivity=interactivity, compiler=compiler, result=result)\n"
          ]
        }
      ]
    },
    {
      "cell_type": "code",
      "metadata": {
        "id": "IXZ-Jdg4foEf"
      },
      "source": [
        "df = df[['GLOBALEVENTID','SQLDATE']].set_index('GLOBALEVENTID')"
      ],
      "execution_count": 14,
      "outputs": []
    },
    {
      "cell_type": "code",
      "metadata": {
        "id": "b99sibKHfqAR"
      },
      "source": [
        "dates = pd.to_datetime(df.squeeze(), format=\"%Y%m%d\")\n",
        "dates = dates.to_dict()"
      ],
      "execution_count": 15,
      "outputs": []
    },
    {
      "cell_type": "code",
      "metadata": {
        "id": "HMpaiAf-Q4D0"
      },
      "source": [
        "# A list of contractions from http://stackoverflow.com/questions/19790188/expanding-english-language-contractions-in-python\n",
        "contractions = { \n",
        "\"ain't\": \"am not\",\n",
        "\"aren't\": \"are not\",\n",
        "\"can't\": \"cannot\",\n",
        "\"can't've\": \"cannot have\",\n",
        "\"'cause\": \"because\",\n",
        "\"could've\": \"could have\",\n",
        "\"couldn't\": \"could not\",\n",
        "\"couldn't've\": \"could not have\",\n",
        "\"didn't\": \"did not\",\n",
        "\"doesn't\": \"does not\",\n",
        "\"don't\": \"do not\",\n",
        "\"hadn't\": \"had not\",\n",
        "\"hadn't've\": \"had not have\",\n",
        "\"hasn't\": \"has not\",\n",
        "\"haven't\": \"have not\",\n",
        "\"he'd\": \"he would\",\n",
        "\"he'd've\": \"he would have\",\n",
        "\"he'll\": \"he will\",\n",
        "\"he's\": \"he is\",\n",
        "\"how'd\": \"how did\",\n",
        "\"how'll\": \"how will\",\n",
        "\"how's\": \"how is\",\n",
        "\"i'd\": \"i would\",\n",
        "\"i'll\": \"i will\",\n",
        "\"i'm\": \"i am\",\n",
        "\"i've\": \"i have\",\n",
        "\"isn't\": \"is not\",\n",
        "\"it'd\": \"it would\",\n",
        "\"it'll\": \"it will\",\n",
        "\"it's\": \"it is\",\n",
        "\"let's\": \"let us\",\n",
        "\"ma'am\": \"madam\",\n",
        "\"mayn't\": \"may not\",\n",
        "\"might've\": \"might have\",\n",
        "\"mightn't\": \"might not\",\n",
        "\"must've\": \"must have\",\n",
        "\"mustn't\": \"must not\",\n",
        "\"needn't\": \"need not\",\n",
        "\"oughtn't\": \"ought not\",\n",
        "\"shan't\": \"shall not\",\n",
        "\"sha'n't\": \"shall not\",\n",
        "\"she'd\": \"she would\",\n",
        "\"she'll\": \"she will\",\n",
        "\"she's\": \"she is\",\n",
        "\"should've\": \"should have\",\n",
        "\"shouldn't\": \"should not\",\n",
        "\"that'd\": \"that would\",\n",
        "\"that's\": \"that is\",\n",
        "\"there'd\": \"there had\",\n",
        "\"there's\": \"there is\",\n",
        "\"they'd\": \"they would\",\n",
        "\"they'll\": \"they will\",\n",
        "\"they're\": \"they are\",\n",
        "\"they've\": \"they have\",\n",
        "\"wasn't\": \"was not\",\n",
        "\"we'd\": \"we would\",\n",
        "\"we'll\": \"we will\",\n",
        "\"we're\": \"we are\",\n",
        "\"we've\": \"we have\",\n",
        "\"weren't\": \"were not\",\n",
        "\"what'll\": \"what will\",\n",
        "\"what're\": \"what are\",\n",
        "\"what's\": \"what is\",\n",
        "\"what've\": \"what have\",\n",
        "\"where'd\": \"where did\",\n",
        "\"where's\": \"where is\",\n",
        "\"who'll\": \"who will\",\n",
        "\"who's\": \"who is\",\n",
        "\"won't\": \"will not\",\n",
        "\"wouldn't\": \"would not\",\n",
        "\"you'd\": \"you would\",\n",
        "\"you'll\": \"you will\",\n",
        "\"you're\": \"you are\"\n",
        "}"
      ],
      "execution_count": 30,
      "outputs": []
    },
    {
      "cell_type": "code",
      "metadata": {
        "id": "_WiOfj2RixSn"
      },
      "source": [
        "def text_cleaner(text, remove_stopwords = True):\n",
        "    '''Remove unwanted characters and format the text to create fewer nulls word embeddings'''\n",
        "    \n",
        "    # Convert words to lower case\n",
        "    text = text.lower()\n",
        "    \n",
        "    # Replace contractions with their longer forms \n",
        "    if True:\n",
        "        text = text.split()\n",
        "        new_text = []\n",
        "        for word in text:\n",
        "            if word in contractions:\n",
        "                new_text.append(contractions[word])\n",
        "            else:\n",
        "                new_text.append(word)\n",
        "        text = \" \".join(new_text)\n",
        "    \n",
        "    # Format words and remove unwanted characters\n",
        "    text = re.sub(r'&amp;', '', text) \n",
        "    text = re.sub(r'0,0', '00', text) \n",
        "    text = re.sub(r'[_\"\\-;%()|.,+&=*%.,!?:#@\\[\\]]', ' ', text)\n",
        "    text = re.sub(r'\\'', ' ', text)\n",
        "    text = re.sub(r'\\$', ' $ ', text)\n",
        "    text = re.sub(r'u s ', ' united states ', text)\n",
        "    text = re.sub(r'u n ', ' united nations ', text)\n",
        "    text = re.sub(r'u k ', ' united kingdom ', text)\n",
        "    text = re.sub(r'j k ', ' jk ', text)\n",
        "    text = re.sub(r' s ', ' ', text)\n",
        "    text = re.sub(r' yr ', ' year ', text)\n",
        "    text = re.sub(r' l g b t ', ' lgbt ', text)\n",
        "    text = re.sub(r'0km ', '0 km ', text)\n",
        "    \n",
        "    # Optionally, remove stop words\n",
        "    if remove_stopwords:\n",
        "        text = text.split()\n",
        "        stops = set(stopwords.words(\"english\"))\n",
        "        text = [w for w in text if not w in stops]\n",
        "        text = \" \".join(text)\n",
        "\n",
        "    return text"
      ],
      "execution_count": 31,
      "outputs": []
    },
    {
      "cell_type": "code",
      "metadata": {
        "id": "sFOTJkOTLTDB"
      },
      "source": [
        "text = {'date':[],\n",
        "        'text':[]}\n",
        "\n",
        "for k, v in unique_articles.items():\n",
        "    try:\n",
        "        text['text'].append(text_cleaner(v))\n",
        "        text['date'].append(dates[k].normalize())\n",
        "    except:\n",
        "        pass"
      ],
      "execution_count": 38,
      "outputs": []
    },
    {
      "cell_type": "code",
      "metadata": {
        "colab": {
          "base_uri": "https://localhost:8080/",
          "height": 121
        },
        "id": "NHKowq9l_iY-",
        "outputId": "96a7e6d0-1229-4934-8890-fce8168ecd67"
      },
      "source": [
        "text['text'][0]"
      ],
      "execution_count": 42,
      "outputs": [
        {
          "output_type": "execute_result",
          "data": {
            "application/vnd.google.colaboratory.intrinsic+json": {
              "type": "string"
            },
            "text/plain": [
              "'conceit every generation believe experience unique partly fails understand lessons history partly idea future holds year 2016 finally end underscored basic human dilemma year long gestating problems came head greater understanding gone unexpected terrible events barbaric climax war syria election donald trump britain’s vote leave european union might shocking time full impact begin felt new year beginning fundamentally unknowable uncertainty 2017’s watchword inspiring sense trepidation deep foreboding yet take step back plain gloomy outlook whole story easy get things perspective every day today included thousands healthy babies born around world families cases able care children parents parents every week 2016 seemed bring news medical discoveries potentially help fight diseases cancer dementia hottest year record significant advances environmental protection including paris climate change agreement 170 country kigali pact cutting greenhouse gases creation world’s largest marine park ross sea antarctica although un reports global total refugees rose 5 million people 2016 many among world’s record numbers displaced homeless distressed found safe given asylum third countries assisted myriad agencies charities many need benefited queen christmas message called “ordinary people extraordinary things volunteers carers community organisers good neighbours” every day saw acts love kindness unreported unremarked although 2016 talk mostly tumult terror division colombia world’s longest running insurgency brought peaceful negotiated conclusion cuba revolution came cold even leader fidel castro departed burma democrats took charge bigger picture emerging 2016 distorted unsettling intellectual ideas chief among suggestion era globalisation meaning ever greater interaction interdependency peoples nations drawing close argument proceeds large part possible return trade protectionism hard borders curbs free movement labour another fashionable thesis concerned advance populist nativist forces however defined exponents seemed mean uncomfortable political shifts resulting supposedly anti democratic illiberal rise economically “left behind” yet phenomena open positive interpretations left particular argue globalisation undoubtedly benefiting developing countries exacerbated exploitative tendencies multinational capitalism increasing inequality social disparities rebalancing long overdue time idea global interconnectivity somehow reversed age ubiquitous social media internet mobile communication fanciful similarly one person might see threatening populism could another’s electrifying opportunity years politicians pollsters bemoaned lack public engagement born alienation disillusion logically celebrate vigorous grassroots involvement recently seen britain parts europe forces channelled directed one 2017’s bigger uncertainties britain stormy aftermath june’s eu referendum given way uneasy stalemate theresa may’s government appears caught state fearful paralysis deeply unsure proceed even self imposed march deadline triggering brexit approaches supreme court due deliver verdict month parliament’s role may continues discourage rigorous public scrutiny negotiating strategy ever embarrassingly clear beset conflicting advice enormous bureaucratic complexities cabinet divisions cannot decide strategy actually may’s stance undemocratic labour’s jeremy corbyn pointed last week untenable longer run looming question whether may resort general election bolster faltering position britain’s voters might welcome move far still energised last summer’s furious brexit debate appear subsided grumpy surly mood resignation suspicion remainers see every price rise investment warning european snub grist “told so” mill leavers view every suggestion even minor compromise brussels proof imminent brexit betrayal seems little doubt following sterling’s devaluation worse come march cost living rise sharply households 2017 little doubt also negative trend compounded rising global oil prices little confidence demand separate single market access scotland shunted aside nicola sturgeon resist temptation call another independence referendum scottish nationalists breaking united kingdom natural consequence breaking eu europe whole 2017 promises torrid year discussed previously turn french voters express anti establishment anger presidential parliamentary polls spring alarming result could replacement françois hollande front national’s anti eu anti immigrant marine le pen similar regression conceivable netherlands march even germany september angela merkel seek fourth term chancellor contests common centre cannot hold progressive politicians fail make case possible misdirection eminently understandable popular discontent politics usual support far right xenophobic extreme nationalist forces successes groups could threaten survival european union already battered britain’s defection eurozone stresses mass migration external threats repeat islamist terrorist attacks similar berlin nice brussels add existential strain terrorism aside biggest external threat europe presented vladimir putin 2016 good year russia’s belligerent president intervention syria saved barbaric regime bashar al assad fall aleppo turned course war putin turkey iran current allies convenience posing peacemaker exclusion us putin boosted trump’s election barack obama’s attempt impose penalty russia’s cyber meddling us polls may outlive 20 january inauguration instead new american president expected seek kind old fashioned great power accommodation moscow turn would bad news nato particular eastern european members emerged russia’s cold war sphere influence past 20 years eu facing russian military build along baltic’s frontiers putin poses growing problem 2017 putin’s syrian ceasefire efforts defuse acute tensions affecting entire middle east region two factors – continuing fallout 2011 arab spring revolts decline american leverage engagement obama – continue unpredictable consequences war yemen far much libya remains state anarchy iran’s rivalry saudi arabia gulf allies likely intensify following tehran’s syrian success broader sunni shia schism religious fault line sustains foul jihadis islamic state feeds lethal extremism terrorism nigeria bangladesh contributes destructive polarisation across muslim world scant reason believe next 12 months bring substantial improvement 2017 indeed year uncertainty biggest new contributory factor donald trump rarely ever lifetimes advent american president aroused widespread sense foreboding trump’s extraordinary combination ignorance aggression personal insecurity threatens post 1945 system law based universal values international institutions shows nothing contempt un else dangerous world international disputes peacefully addressed however imperfectly humanitarian crises managed praise torture hostility media trump encourages human rights abusers enemies free speech everywhere loose talk encouraging nuclear arms race trump endangers global security justifies proliferation weapons mass destruction least rogue regime north korea climate change denial noisily echoed cabinet government agency nominees trump threatens historic setback cause environmental protection moment polar ice melting record speeds trump’s thoughtless baiting china particularly taiwan demonstrates fast becoming trademark behaviour recklessness mixed stupidity even taiwanese alarmed antics us concerns china’s illegal military island building south china sea justified tweeted insults aimed beijing way deal problem like year 2017 trump’s presidency may turn bad feared practical considerations wise advice limitations us power may temper worst instincts wilder ideas outcome devoutly wished one international flashpoint deserves particular attention developing conflict israel iran reacting last week’s occupied territories settlements row obama israel’s hawkish prime minister benjamin netanyahu trump pledged unquestioning support latter risk inflaming regional opinion already indicated de facto recognition jerusalem israel’s undivided capital new ambassador militantly pro settler regardless rights palestinians trump vowed tear last year’s nuclear accord tehran netanyahu believes fundamentally threatens israel’s security trump shows every sign buying hard right narrative encouraged washington’s sunni allies israeli hawks iran front foot iraq syria yemen freed oil sanctions allegedly secretly seeking acquire nuclear weapons must stopped costs extremely dangerous thinking firmly resisted britain western democracies whatever 2017 brings last thing world needs another war middle east'"
            ]
          },
          "metadata": {},
          "execution_count": 42
        }
      ]
    },
    {
      "cell_type": "code",
      "metadata": {
        "id": "hqcFojwm_643"
      },
      "source": [
        ""
      ],
      "execution_count": null,
      "outputs": []
    }
  ]
}