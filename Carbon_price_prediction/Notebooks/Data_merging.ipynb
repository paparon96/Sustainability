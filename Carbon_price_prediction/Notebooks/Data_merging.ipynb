{
 "cells": [
  {
   "cell_type": "markdown",
   "metadata": {},
   "source": [
    "# Import packages"
   ]
  },
  {
   "cell_type": "code",
   "execution_count": 1,
   "metadata": {},
   "outputs": [],
   "source": [
    "import pandas as pd"
   ]
  },
  {
   "cell_type": "markdown",
   "metadata": {},
   "source": [
    "# Import raw data"
   ]
  },
  {
   "cell_type": "code",
   "execution_count": 2,
   "metadata": {
    "scrolled": true
   },
   "outputs": [
    {
     "name": "stdout",
     "output_type": "stream",
     "text": [
      "            Price\n",
      "Date             \n",
      "2017-01-02   6.12\n",
      "2017-01-03   5.43\n",
      "2017-01-04   5.72\n",
      "2017-01-05   5.29\n",
      "2017-01-06   5.50\n"
     ]
    }
   ],
   "source": [
    "## Carbon prices\n",
    "df = pd.read_csv('../Data/daily_prices.csv')\n",
    "df['Date'] = pd.to_datetime(df['Date'], format=\"%d/%m/%Y %H:%M\")\n",
    "df.set_index('Date',inplace=True)\n",
    "\n",
    "print(df.head())"
   ]
  },
  {
   "cell_type": "code",
   "execution_count": 3,
   "metadata": {
    "scrolled": true
   },
   "outputs": [
    {
     "data": {
      "text/plain": [
       "DatetimeIndex(['2017-01-02', '2017-01-03', '2017-01-04', '2017-01-05',\n",
       "               '2017-01-06', '2017-01-09', '2017-01-10', '2017-01-11',\n",
       "               '2017-01-12', '2017-01-13',\n",
       "               ...\n",
       "               '2021-03-30', '2021-03-31', '2021-04-01', '2021-04-05',\n",
       "               '2021-04-06', '2021-04-07', '2021-04-08', '2021-04-09',\n",
       "               '2021-04-12', '2021-04-13'],\n",
       "              dtype='datetime64[ns]', name='Date', length=1104, freq=None)"
      ]
     },
     "execution_count": 3,
     "metadata": {},
     "output_type": "execute_result"
    }
   ],
   "source": [
    "df.index"
   ]
  },
  {
   "cell_type": "code",
   "execution_count": 4,
   "metadata": {},
   "outputs": [
    {
     "name": "stdout",
     "output_type": "stream",
     "text": [
      "           DCOILWTICO\n",
      "DATE                 \n",
      "2021-05-18      65.49\n",
      "2021-05-19      63.28\n",
      "2021-05-20      61.95\n",
      "2021-05-21      63.61\n",
      "2021-05-24      66.13\n"
     ]
    }
   ],
   "source": [
    "## Oil price\n",
    "oil_price = pd.read_csv('../Data/DCOILWTICO.csv')\n",
    "oil_price['DATE'] = pd.to_datetime(oil_price['DATE'])\n",
    "oil_price.set_index('DATE',inplace=True)\n",
    "\n",
    "print(oil_price.tail())"
   ]
  },
  {
   "cell_type": "code",
   "execution_count": 5,
   "metadata": {
    "scrolled": true
   },
   "outputs": [
    {
     "data": {
      "text/plain": [
       "DatetimeIndex(['1986-01-02', '1986-01-03', '1986-01-06', '1986-01-07',\n",
       "               '1986-01-08', '1986-01-09', '1986-01-10', '1986-01-13',\n",
       "               '1986-01-14', '1986-01-15',\n",
       "               ...\n",
       "               '2021-05-11', '2021-05-12', '2021-05-13', '2021-05-14',\n",
       "               '2021-05-17', '2021-05-18', '2021-05-19', '2021-05-20',\n",
       "               '2021-05-21', '2021-05-24'],\n",
       "              dtype='datetime64[ns]', name='DATE', length=9233, freq=None)"
      ]
     },
     "execution_count": 5,
     "metadata": {},
     "output_type": "execute_result"
    }
   ],
   "source": [
    "oil_price.index"
   ]
  },
  {
   "cell_type": "code",
   "execution_count": 6,
   "metadata": {},
   "outputs": [
    {
     "name": "stdout",
     "output_type": "stream",
     "text": [
      "           DHHNGSP\n",
      "DATE              \n",
      "2021-05-19    2.88\n",
      "2021-05-20    2.86\n",
      "2021-05-21    2.84\n",
      "2021-05-24    2.78\n",
      "2021-05-25    2.87\n"
     ]
    }
   ],
   "source": [
    "## Gas price\n",
    "gas_price = pd.read_csv('../Data/DHHNGSP.csv')\n",
    "gas_price['DATE'] = pd.to_datetime(gas_price['DATE'])\n",
    "gas_price.set_index('DATE',inplace=True)\n",
    "\n",
    "print(gas_price.tail())"
   ]
  },
  {
   "cell_type": "code",
   "execution_count": 7,
   "metadata": {},
   "outputs": [
    {
     "data": {
      "text/html": [
       "<div>\n",
       "<style scoped>\n",
       "    .dataframe tbody tr th:only-of-type {\n",
       "        vertical-align: middle;\n",
       "    }\n",
       "\n",
       "    .dataframe tbody tr th {\n",
       "        vertical-align: top;\n",
       "    }\n",
       "\n",
       "    .dataframe thead th {\n",
       "        text-align: right;\n",
       "    }\n",
       "</style>\n",
       "<table border=\"1\" class=\"dataframe\">\n",
       "  <thead>\n",
       "    <tr style=\"text-align: right;\">\n",
       "      <th></th>\n",
       "      <th>Adj Close</th>\n",
       "    </tr>\n",
       "    <tr>\n",
       "      <th>Date</th>\n",
       "      <th></th>\n",
       "    </tr>\n",
       "  </thead>\n",
       "  <tbody>\n",
       "    <tr>\n",
       "      <td>2007-03-30</td>\n",
       "      <td>4181.029785</td>\n",
       "    </tr>\n",
       "    <tr>\n",
       "      <td>2007-04-02</td>\n",
       "      <td>4189.549805</td>\n",
       "    </tr>\n",
       "    <tr>\n",
       "      <td>2007-04-03</td>\n",
       "      <td>4246.299805</td>\n",
       "    </tr>\n",
       "    <tr>\n",
       "      <td>2007-04-04</td>\n",
       "      <td>4261.830078</td>\n",
       "    </tr>\n",
       "    <tr>\n",
       "      <td>2007-04-05</td>\n",
       "      <td>4271.540039</td>\n",
       "    </tr>\n",
       "  </tbody>\n",
       "</table>\n",
       "</div>"
      ],
      "text/plain": [
       "              Adj Close\n",
       "Date                   \n",
       "2007-03-30  4181.029785\n",
       "2007-04-02  4189.549805\n",
       "2007-04-03  4246.299805\n",
       "2007-04-04  4261.830078\n",
       "2007-04-05  4271.540039"
      ]
     },
     "execution_count": 7,
     "metadata": {},
     "output_type": "execute_result"
    }
   ],
   "source": [
    "## Euro stock market price index\n",
    "euro_stock_market_index = pd.read_csv('../Data/ESTOXX50.csv')\n",
    "\n",
    "euro_stock_market_index['Date'] = pd.to_datetime(euro_stock_market_index['Date'])\n",
    "euro_stock_market_index = euro_stock_market_index[['Date', 'Adj Close']]\n",
    "euro_stock_market_index.set_index('Date',inplace=True)\n",
    "\n",
    "euro_stock_market_index.head()"
   ]
  },
  {
   "cell_type": "code",
   "execution_count": 18,
   "metadata": {},
   "outputs": [
    {
     "data": {
      "text/html": [
       "<div>\n",
       "<style scoped>\n",
       "    .dataframe tbody tr th:only-of-type {\n",
       "        vertical-align: middle;\n",
       "    }\n",
       "\n",
       "    .dataframe tbody tr th {\n",
       "        vertical-align: top;\n",
       "    }\n",
       "\n",
       "    .dataframe thead th {\n",
       "        text-align: right;\n",
       "    }\n",
       "</style>\n",
       "<table border=\"1\" class=\"dataframe\">\n",
       "  <thead>\n",
       "    <tr style=\"text-align: right;\">\n",
       "      <th></th>\n",
       "      <th>HU_price</th>\n",
       "    </tr>\n",
       "    <tr>\n",
       "      <th>Date</th>\n",
       "      <th></th>\n",
       "    </tr>\n",
       "  </thead>\n",
       "  <tbody>\n",
       "    <tr>\n",
       "      <td>2021-01-01</td>\n",
       "      <td>39.884167</td>\n",
       "    </tr>\n",
       "    <tr>\n",
       "      <td>2021-01-02</td>\n",
       "      <td>51.419583</td>\n",
       "    </tr>\n",
       "    <tr>\n",
       "      <td>2021-01-03</td>\n",
       "      <td>38.682500</td>\n",
       "    </tr>\n",
       "    <tr>\n",
       "      <td>2021-01-04</td>\n",
       "      <td>51.449167</td>\n",
       "    </tr>\n",
       "    <tr>\n",
       "      <td>2021-01-05</td>\n",
       "      <td>52.316250</td>\n",
       "    </tr>\n",
       "  </tbody>\n",
       "</table>\n",
       "</div>"
      ],
      "text/plain": [
       "             HU_price\n",
       "Date                 \n",
       "2021-01-01  39.884167\n",
       "2021-01-02  51.419583\n",
       "2021-01-03  38.682500\n",
       "2021-01-04  51.449167\n",
       "2021-01-05  52.316250"
      ]
     },
     "execution_count": 18,
     "metadata": {},
     "output_type": "execute_result"
    }
   ],
   "source": [
    "# HUN electricity prices\n",
    "hupx = pd.read_excel('../Data/DAM_Market_Data_Prices_ATC_FLOW_2021.xlsx', sheet_name='Daily_Prices', header=1)\n",
    "hupx = hupx.iloc[:,:2]\n",
    "hupx.columns = ['Date','HU_price']\n",
    "hupx['Date'] = pd.to_datetime(hupx['Date'], format=\"%d.%m.%Y\")\n",
    "\n",
    "hupx.set_index('Date',inplace=True)\n",
    "\n",
    "\n",
    "hupx.head()"
   ]
  },
  {
   "cell_type": "markdown",
   "metadata": {},
   "source": [
    "# Merge datasets"
   ]
  },
  {
   "cell_type": "code",
   "execution_count": 19,
   "metadata": {},
   "outputs": [],
   "source": [
    "df = df.merge(oil_price,left_index=True,right_index=True,how='left')"
   ]
  },
  {
   "cell_type": "code",
   "execution_count": 20,
   "metadata": {},
   "outputs": [],
   "source": [
    "df = df.merge(gas_price,left_index=True,right_index=True,how='left')"
   ]
  },
  {
   "cell_type": "code",
   "execution_count": 21,
   "metadata": {},
   "outputs": [],
   "source": [
    "df = df.merge(euro_stock_market_index,left_index=True,right_index=True,how='left')"
   ]
  },
  {
   "cell_type": "code",
   "execution_count": 22,
   "metadata": {},
   "outputs": [],
   "source": [
    "df = df.merge(hupx,left_index=True,right_index=True,how='left')"
   ]
  },
  {
   "cell_type": "code",
   "execution_count": 23,
   "metadata": {
    "scrolled": true
   },
   "outputs": [
    {
     "data": {
      "text/html": [
       "<div>\n",
       "<style scoped>\n",
       "    .dataframe tbody tr th:only-of-type {\n",
       "        vertical-align: middle;\n",
       "    }\n",
       "\n",
       "    .dataframe tbody tr th {\n",
       "        vertical-align: top;\n",
       "    }\n",
       "\n",
       "    .dataframe thead th {\n",
       "        text-align: right;\n",
       "    }\n",
       "</style>\n",
       "<table border=\"1\" class=\"dataframe\">\n",
       "  <thead>\n",
       "    <tr style=\"text-align: right;\">\n",
       "      <th></th>\n",
       "      <th>Price</th>\n",
       "      <th>DCOILWTICO</th>\n",
       "      <th>DHHNGSP</th>\n",
       "      <th>Adj Close</th>\n",
       "      <th>HU_price</th>\n",
       "    </tr>\n",
       "    <tr>\n",
       "      <th>Date</th>\n",
       "      <th></th>\n",
       "      <th></th>\n",
       "      <th></th>\n",
       "      <th></th>\n",
       "      <th></th>\n",
       "    </tr>\n",
       "  </thead>\n",
       "  <tbody>\n",
       "    <tr>\n",
       "      <td>2021-04-07</td>\n",
       "      <td>43.76</td>\n",
       "      <td>59.77</td>\n",
       "      <td>2.43</td>\n",
       "      <td>3956.770020</td>\n",
       "      <td>65.572500</td>\n",
       "    </tr>\n",
       "    <tr>\n",
       "      <td>2021-04-08</td>\n",
       "      <td>43.38</td>\n",
       "      <td>59.61</td>\n",
       "      <td>2.47</td>\n",
       "      <td>3977.830078</td>\n",
       "      <td>68.886250</td>\n",
       "    </tr>\n",
       "    <tr>\n",
       "      <td>2021-04-09</td>\n",
       "      <td>43.56</td>\n",
       "      <td>59.29</td>\n",
       "      <td>2.48</td>\n",
       "      <td>3978.840088</td>\n",
       "      <td>63.886250</td>\n",
       "    </tr>\n",
       "    <tr>\n",
       "      <td>2021-04-12</td>\n",
       "      <td>44.39</td>\n",
       "      <td>59.7</td>\n",
       "      <td>2.5</td>\n",
       "      <td>3961.899902</td>\n",
       "      <td>66.790417</td>\n",
       "    </tr>\n",
       "    <tr>\n",
       "      <td>2021-04-13</td>\n",
       "      <td>43.76</td>\n",
       "      <td>60.2</td>\n",
       "      <td>2.57</td>\n",
       "      <td>3966.989990</td>\n",
       "      <td>71.423333</td>\n",
       "    </tr>\n",
       "  </tbody>\n",
       "</table>\n",
       "</div>"
      ],
      "text/plain": [
       "            Price DCOILWTICO DHHNGSP    Adj Close   HU_price\n",
       "Date                                                        \n",
       "2021-04-07  43.76      59.77    2.43  3956.770020  65.572500\n",
       "2021-04-08  43.38      59.61    2.47  3977.830078  68.886250\n",
       "2021-04-09  43.56      59.29    2.48  3978.840088  63.886250\n",
       "2021-04-12  44.39       59.7     2.5  3961.899902  66.790417\n",
       "2021-04-13  43.76       60.2    2.57  3966.989990  71.423333"
      ]
     },
     "execution_count": 23,
     "metadata": {},
     "output_type": "execute_result"
    }
   ],
   "source": [
    "df.tail()"
   ]
  },
  {
   "cell_type": "code",
   "execution_count": 24,
   "metadata": {},
   "outputs": [],
   "source": [
    "df.columns = ['carbon_price', 'oil_price', 'gas_price', 'stock_market_index_level', 'hupx']"
   ]
  },
  {
   "cell_type": "code",
   "execution_count": 25,
   "metadata": {},
   "outputs": [],
   "source": [
    "# Handle non-numeric values\n",
    "def isnumber(x):\n",
    "    try:\n",
    "        float(x)\n",
    "        return True\n",
    "    except:\n",
    "        return False\n",
    "\n",
    "df = df[df.applymap(isnumber)]"
   ]
  },
  {
   "cell_type": "code",
   "execution_count": 26,
   "metadata": {},
   "outputs": [
    {
     "data": {
      "text/html": [
       "<div>\n",
       "<style scoped>\n",
       "    .dataframe tbody tr th:only-of-type {\n",
       "        vertical-align: middle;\n",
       "    }\n",
       "\n",
       "    .dataframe tbody tr th {\n",
       "        vertical-align: top;\n",
       "    }\n",
       "\n",
       "    .dataframe thead th {\n",
       "        text-align: right;\n",
       "    }\n",
       "</style>\n",
       "<table border=\"1\" class=\"dataframe\">\n",
       "  <thead>\n",
       "    <tr style=\"text-align: right;\">\n",
       "      <th></th>\n",
       "      <th>carbon_price</th>\n",
       "      <th>oil_price</th>\n",
       "      <th>gas_price</th>\n",
       "      <th>stock_market_index_level</th>\n",
       "      <th>hupx</th>\n",
       "    </tr>\n",
       "    <tr>\n",
       "      <th>Date</th>\n",
       "      <th></th>\n",
       "      <th></th>\n",
       "      <th></th>\n",
       "      <th></th>\n",
       "      <th></th>\n",
       "    </tr>\n",
       "  </thead>\n",
       "  <tbody>\n",
       "    <tr>\n",
       "      <td>2017-01-02</td>\n",
       "      <td>6.12</td>\n",
       "      <td>NaN</td>\n",
       "      <td>3.71</td>\n",
       "      <td>NaN</td>\n",
       "      <td>NaN</td>\n",
       "    </tr>\n",
       "    <tr>\n",
       "      <td>2017-01-03</td>\n",
       "      <td>5.43</td>\n",
       "      <td>52.36</td>\n",
       "      <td>3.41</td>\n",
       "      <td>3315.020020</td>\n",
       "      <td>NaN</td>\n",
       "    </tr>\n",
       "    <tr>\n",
       "      <td>2017-01-04</td>\n",
       "      <td>5.72</td>\n",
       "      <td>53.26</td>\n",
       "      <td>3.42</td>\n",
       "      <td>3317.520020</td>\n",
       "      <td>NaN</td>\n",
       "    </tr>\n",
       "    <tr>\n",
       "      <td>2017-01-05</td>\n",
       "      <td>5.29</td>\n",
       "      <td>53.77</td>\n",
       "      <td>3.42</td>\n",
       "      <td>3316.469971</td>\n",
       "      <td>NaN</td>\n",
       "    </tr>\n",
       "    <tr>\n",
       "      <td>2017-01-06</td>\n",
       "      <td>5.50</td>\n",
       "      <td>53.98</td>\n",
       "      <td>3.38</td>\n",
       "      <td>3321.169922</td>\n",
       "      <td>NaN</td>\n",
       "    </tr>\n",
       "  </tbody>\n",
       "</table>\n",
       "</div>"
      ],
      "text/plain": [
       "            carbon_price oil_price gas_price  stock_market_index_level  hupx\n",
       "Date                                                                        \n",
       "2017-01-02          6.12       NaN      3.71                       NaN   NaN\n",
       "2017-01-03          5.43     52.36      3.41               3315.020020   NaN\n",
       "2017-01-04          5.72     53.26      3.42               3317.520020   NaN\n",
       "2017-01-05          5.29     53.77      3.42               3316.469971   NaN\n",
       "2017-01-06          5.50     53.98      3.38               3321.169922   NaN"
      ]
     },
     "execution_count": 26,
     "metadata": {},
     "output_type": "execute_result"
    }
   ],
   "source": [
    "df.head()"
   ]
  },
  {
   "cell_type": "markdown",
   "metadata": {},
   "source": [
    "# Data preprocessing (ffill etc)"
   ]
  },
  {
   "cell_type": "markdown",
   "metadata": {},
   "source": [
    "# Export result"
   ]
  },
  {
   "cell_type": "code",
   "execution_count": 27,
   "metadata": {},
   "outputs": [],
   "source": [
    "df.to_csv('../Data/merged_dataset.csv',index=True)"
   ]
  },
  {
   "cell_type": "code",
   "execution_count": 28,
   "metadata": {
    "scrolled": true
   },
   "outputs": [
    {
     "data": {
      "text/html": [
       "<div>\n",
       "<style scoped>\n",
       "    .dataframe tbody tr th:only-of-type {\n",
       "        vertical-align: middle;\n",
       "    }\n",
       "\n",
       "    .dataframe tbody tr th {\n",
       "        vertical-align: top;\n",
       "    }\n",
       "\n",
       "    .dataframe thead th {\n",
       "        text-align: right;\n",
       "    }\n",
       "</style>\n",
       "<table border=\"1\" class=\"dataframe\">\n",
       "  <thead>\n",
       "    <tr style=\"text-align: right;\">\n",
       "      <th></th>\n",
       "      <th>carbon_price</th>\n",
       "      <th>oil_price</th>\n",
       "      <th>gas_price</th>\n",
       "      <th>stock_market_index_level</th>\n",
       "      <th>hupx</th>\n",
       "    </tr>\n",
       "    <tr>\n",
       "      <th>Date</th>\n",
       "      <th></th>\n",
       "      <th></th>\n",
       "      <th></th>\n",
       "      <th></th>\n",
       "      <th></th>\n",
       "    </tr>\n",
       "  </thead>\n",
       "  <tbody>\n",
       "    <tr>\n",
       "      <td>2017-01-02</td>\n",
       "      <td>6.12</td>\n",
       "      <td>NaN</td>\n",
       "      <td>3.71</td>\n",
       "      <td>NaN</td>\n",
       "      <td>NaN</td>\n",
       "    </tr>\n",
       "    <tr>\n",
       "      <td>2017-01-03</td>\n",
       "      <td>5.43</td>\n",
       "      <td>52.36</td>\n",
       "      <td>3.41</td>\n",
       "      <td>3315.020020</td>\n",
       "      <td>NaN</td>\n",
       "    </tr>\n",
       "    <tr>\n",
       "      <td>2017-01-04</td>\n",
       "      <td>5.72</td>\n",
       "      <td>53.26</td>\n",
       "      <td>3.42</td>\n",
       "      <td>3317.520020</td>\n",
       "      <td>NaN</td>\n",
       "    </tr>\n",
       "    <tr>\n",
       "      <td>2017-01-05</td>\n",
       "      <td>5.29</td>\n",
       "      <td>53.77</td>\n",
       "      <td>3.42</td>\n",
       "      <td>3316.469971</td>\n",
       "      <td>NaN</td>\n",
       "    </tr>\n",
       "    <tr>\n",
       "      <td>2017-01-06</td>\n",
       "      <td>5.50</td>\n",
       "      <td>53.98</td>\n",
       "      <td>3.38</td>\n",
       "      <td>3321.169922</td>\n",
       "      <td>NaN</td>\n",
       "    </tr>\n",
       "  </tbody>\n",
       "</table>\n",
       "</div>"
      ],
      "text/plain": [
       "            carbon_price  oil_price  gas_price  stock_market_index_level  hupx\n",
       "Date                                                                          \n",
       "2017-01-02          6.12        NaN       3.71                       NaN   NaN\n",
       "2017-01-03          5.43      52.36       3.41               3315.020020   NaN\n",
       "2017-01-04          5.72      53.26       3.42               3317.520020   NaN\n",
       "2017-01-05          5.29      53.77       3.42               3316.469971   NaN\n",
       "2017-01-06          5.50      53.98       3.38               3321.169922   NaN"
      ]
     },
     "execution_count": 28,
     "metadata": {},
     "output_type": "execute_result"
    }
   ],
   "source": [
    "pd.read_csv('../Data/merged_dataset.csv', index_col=0).head()"
   ]
  },
  {
   "cell_type": "code",
   "execution_count": 29,
   "metadata": {},
   "outputs": [
    {
     "data": {
      "text/html": [
       "<div>\n",
       "<style scoped>\n",
       "    .dataframe tbody tr th:only-of-type {\n",
       "        vertical-align: middle;\n",
       "    }\n",
       "\n",
       "    .dataframe tbody tr th {\n",
       "        vertical-align: top;\n",
       "    }\n",
       "\n",
       "    .dataframe thead th {\n",
       "        text-align: right;\n",
       "    }\n",
       "</style>\n",
       "<table border=\"1\" class=\"dataframe\">\n",
       "  <thead>\n",
       "    <tr style=\"text-align: right;\">\n",
       "      <th></th>\n",
       "      <th>carbon_price</th>\n",
       "      <th>oil_price</th>\n",
       "      <th>gas_price</th>\n",
       "      <th>stock_market_index_level</th>\n",
       "      <th>hupx</th>\n",
       "    </tr>\n",
       "    <tr>\n",
       "      <th>Date</th>\n",
       "      <th></th>\n",
       "      <th></th>\n",
       "      <th></th>\n",
       "      <th></th>\n",
       "      <th></th>\n",
       "    </tr>\n",
       "  </thead>\n",
       "  <tbody>\n",
       "    <tr>\n",
       "      <td>2021-04-07</td>\n",
       "      <td>43.76</td>\n",
       "      <td>59.77</td>\n",
       "      <td>2.43</td>\n",
       "      <td>3956.770020</td>\n",
       "      <td>65.572500</td>\n",
       "    </tr>\n",
       "    <tr>\n",
       "      <td>2021-04-08</td>\n",
       "      <td>43.38</td>\n",
       "      <td>59.61</td>\n",
       "      <td>2.47</td>\n",
       "      <td>3977.830078</td>\n",
       "      <td>68.886250</td>\n",
       "    </tr>\n",
       "    <tr>\n",
       "      <td>2021-04-09</td>\n",
       "      <td>43.56</td>\n",
       "      <td>59.29</td>\n",
       "      <td>2.48</td>\n",
       "      <td>3978.840088</td>\n",
       "      <td>63.886250</td>\n",
       "    </tr>\n",
       "    <tr>\n",
       "      <td>2021-04-12</td>\n",
       "      <td>44.39</td>\n",
       "      <td>59.70</td>\n",
       "      <td>2.50</td>\n",
       "      <td>3961.899902</td>\n",
       "      <td>66.790417</td>\n",
       "    </tr>\n",
       "    <tr>\n",
       "      <td>2021-04-13</td>\n",
       "      <td>43.76</td>\n",
       "      <td>60.20</td>\n",
       "      <td>2.57</td>\n",
       "      <td>3966.989990</td>\n",
       "      <td>71.423333</td>\n",
       "    </tr>\n",
       "  </tbody>\n",
       "</table>\n",
       "</div>"
      ],
      "text/plain": [
       "            carbon_price  oil_price  gas_price  stock_market_index_level  \\\n",
       "Date                                                                       \n",
       "2021-04-07         43.76      59.77       2.43               3956.770020   \n",
       "2021-04-08         43.38      59.61       2.47               3977.830078   \n",
       "2021-04-09         43.56      59.29       2.48               3978.840088   \n",
       "2021-04-12         44.39      59.70       2.50               3961.899902   \n",
       "2021-04-13         43.76      60.20       2.57               3966.989990   \n",
       "\n",
       "                 hupx  \n",
       "Date                   \n",
       "2021-04-07  65.572500  \n",
       "2021-04-08  68.886250  \n",
       "2021-04-09  63.886250  \n",
       "2021-04-12  66.790417  \n",
       "2021-04-13  71.423333  "
      ]
     },
     "execution_count": 29,
     "metadata": {},
     "output_type": "execute_result"
    }
   ],
   "source": [
    "pd.read_csv('../Data/merged_dataset.csv', index_col=0).tail()"
   ]
  },
  {
   "cell_type": "code",
   "execution_count": null,
   "metadata": {},
   "outputs": [],
   "source": []
  }
 ],
 "metadata": {
  "kernelspec": {
   "display_name": "Python 3",
   "language": "python",
   "name": "python3"
  },
  "language_info": {
   "codemirror_mode": {
    "name": "ipython",
    "version": 3
   },
   "file_extension": ".py",
   "mimetype": "text/x-python",
   "name": "python",
   "nbconvert_exporter": "python",
   "pygments_lexer": "ipython3",
   "version": "3.7.4"
  },
  "toc": {
   "base_numbering": 1,
   "nav_menu": {},
   "number_sections": true,
   "sideBar": true,
   "skip_h1_title": false,
   "title_cell": "Table of Contents",
   "title_sidebar": "Contents",
   "toc_cell": false,
   "toc_position": {
    "height": "calc(100% - 180px)",
    "left": "10px",
    "top": "150px",
    "width": "165px"
   },
   "toc_section_display": true,
   "toc_window_display": true
  }
 },
 "nbformat": 4,
 "nbformat_minor": 2
}
