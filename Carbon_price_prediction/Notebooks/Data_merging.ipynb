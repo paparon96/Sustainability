{
 "cells": [
  {
   "cell_type": "markdown",
   "metadata": {},
   "source": [
    "# Import packages"
   ]
  },
  {
   "cell_type": "code",
   "execution_count": 27,
   "metadata": {},
   "outputs": [],
   "source": [
    "import pandas as pd\n",
    "import matplotlib.pyplot as plt"
   ]
  },
  {
   "cell_type": "markdown",
   "metadata": {},
   "source": [
    "# Settings"
   ]
  },
  {
   "cell_type": "code",
   "execution_count": 32,
   "metadata": {},
   "outputs": [],
   "source": [
    "control_only = False # Whether only control variables are merged or news signals as well"
   ]
  },
  {
   "cell_type": "markdown",
   "metadata": {},
   "source": [
    "# Import raw data"
   ]
  },
  {
   "cell_type": "code",
   "execution_count": 2,
   "metadata": {
    "scrolled": true
   },
   "outputs": [
    {
     "name": "stdout",
     "output_type": "stream",
     "text": [
      "            Price\n",
      "Date             \n",
      "2017-01-02   6.12\n",
      "2017-01-03   5.43\n",
      "2017-01-04   5.72\n",
      "2017-01-05   5.29\n",
      "2017-01-06   5.50\n"
     ]
    }
   ],
   "source": [
    "## Carbon prices\n",
    "df = pd.read_csv('../Data/daily_prices.csv')\n",
    "df['Date'] = pd.to_datetime(df['Date'], format=\"%d/%m/%Y %H:%M\")\n",
    "df.set_index('Date',inplace=True)\n",
    "\n",
    "print(df.head())"
   ]
  },
  {
   "cell_type": "code",
   "execution_count": 3,
   "metadata": {
    "scrolled": true
   },
   "outputs": [
    {
     "data": {
      "text/plain": [
       "DatetimeIndex(['2017-01-02', '2017-01-03', '2017-01-04', '2017-01-05',\n",
       "               '2017-01-06', '2017-01-09', '2017-01-10', '2017-01-11',\n",
       "               '2017-01-12', '2017-01-13',\n",
       "               ...\n",
       "               '2021-03-30', '2021-03-31', '2021-04-01', '2021-04-05',\n",
       "               '2021-04-06', '2021-04-07', '2021-04-08', '2021-04-09',\n",
       "               '2021-04-12', '2021-04-13'],\n",
       "              dtype='datetime64[ns]', name='Date', length=1104, freq=None)"
      ]
     },
     "execution_count": 3,
     "metadata": {},
     "output_type": "execute_result"
    }
   ],
   "source": [
    "df.index"
   ]
  },
  {
   "cell_type": "code",
   "execution_count": 4,
   "metadata": {},
   "outputs": [
    {
     "name": "stdout",
     "output_type": "stream",
     "text": [
      "            Price   Open   High    Low     Vol. Change %\n",
      "Date                                                    \n",
      "2021-07-05  77.16  76.23  77.26  75.70  157.22K    1.30%\n",
      "2021-07-06  74.53  77.06  77.84  74.13  410.70K   -3.41%\n",
      "2021-07-07  73.43  74.69  75.99  72.60  387.43K   -1.48%\n",
      "2021-07-08  74.12  73.35  74.40  72.11  314.34K    0.94%\n",
      "2021-07-09  75.55  74.39  75.80  73.80  248.18K    1.93%\n"
     ]
    }
   ],
   "source": [
    "## Oil price\n",
    "oil_price = pd.read_csv('../Data/Brent Oil Futures Historical Data.csv')\n",
    "oil_price['Date'] = pd.to_datetime(oil_price['Date'])\n",
    "oil_price.set_index('Date',inplace=True)\n",
    "oil_price.sort_index(ascending=True, inplace = True)\n",
    "print(oil_price.tail())"
   ]
  },
  {
   "cell_type": "code",
   "execution_count": 5,
   "metadata": {
    "scrolled": true
   },
   "outputs": [
    {
     "data": {
      "text/plain": [
       "DatetimeIndex(['2017-01-02', '2017-01-03', '2017-01-04', '2017-01-05',\n",
       "               '2017-01-06', '2017-01-09', '2017-01-10', '2017-01-11',\n",
       "               '2017-01-12', '2017-01-13',\n",
       "               ...\n",
       "               '2021-06-28', '2021-06-29', '2021-06-30', '2021-07-01',\n",
       "               '2021-07-02', '2021-07-05', '2021-07-06', '2021-07-07',\n",
       "               '2021-07-08', '2021-07-09'],\n",
       "              dtype='datetime64[ns]', name='Date', length=1167, freq=None)"
      ]
     },
     "execution_count": 5,
     "metadata": {},
     "output_type": "execute_result"
    }
   ],
   "source": [
    "oil_price.index"
   ]
  },
  {
   "cell_type": "code",
   "execution_count": 6,
   "metadata": {},
   "outputs": [
    {
     "name": "stdout",
     "output_type": "stream",
     "text": [
      "            Price   Open   High    Low   Vol. Change %\n",
      "Date                                                  \n",
      "2021-07-05  93.22  89.50  94.68  89.50  4.78K    4.81%\n",
      "2021-07-06  83.54  94.58  94.58  80.61  8.29K  -10.38%\n",
      "2021-07-07  79.23  81.50  89.20  79.00  5.84K   -5.16%\n",
      "2021-07-08  82.15  79.63  83.93  76.69  6.89K    3.69%\n",
      "2021-07-09  90.02  85.60  90.66  85.60  5.86K    9.58%\n"
     ]
    }
   ],
   "source": [
    "## Gas price\n",
    "gas_price = pd.read_csv('../Data/Natural Gas Futures Historical Data.csv')\n",
    "gas_price['Date'] = pd.to_datetime(gas_price['Date'])\n",
    "gas_price.set_index('Date',inplace=True)\n",
    "gas_price.sort_index(ascending=True, inplace = True)\n",
    "\n",
    "print(gas_price.tail())"
   ]
  },
  {
   "cell_type": "code",
   "execution_count": 7,
   "metadata": {},
   "outputs": [
    {
     "name": "stdout",
     "output_type": "stream",
     "text": [
      "             Price    Open    High     Low   Vol. Change %\n",
      "Date                                                      \n",
      "2021-07-05  127.25  127.25  127.25  127.25  0.07K    2.95%\n",
      "2021-07-06  123.80  123.80  123.80  123.80  0.06K   -2.71%\n",
      "2021-07-07  124.65  124.25  124.25  124.25  0.07K    0.69%\n",
      "2021-07-08  125.50  125.00  125.75  124.90  0.10K    0.68%\n",
      "2021-07-09  126.80  126.80  126.80  126.80  0.02K    1.04%\n"
     ]
    }
   ],
   "source": [
    "# Rotterdam Coal Futures Historical Data\n",
    "\n",
    "coal_price = pd.read_csv('../Data/Rotterdam Coal Futures Historical Data.csv')\n",
    "coal_price['Date'] = pd.to_datetime(coal_price['Date'])\n",
    "coal_price.set_index('Date',inplace=True)\n",
    "coal_price.sort_index(ascending=True, inplace = True)\n",
    "\n",
    "print(coal_price.tail())"
   ]
  },
  {
   "cell_type": "code",
   "execution_count": 8,
   "metadata": {},
   "outputs": [
    {
     "data": {
      "text/html": [
       "<div>\n",
       "<style scoped>\n",
       "    .dataframe tbody tr th:only-of-type {\n",
       "        vertical-align: middle;\n",
       "    }\n",
       "\n",
       "    .dataframe tbody tr th {\n",
       "        vertical-align: top;\n",
       "    }\n",
       "\n",
       "    .dataframe thead th {\n",
       "        text-align: right;\n",
       "    }\n",
       "</style>\n",
       "<table border=\"1\" class=\"dataframe\">\n",
       "  <thead>\n",
       "    <tr style=\"text-align: right;\">\n",
       "      <th></th>\n",
       "      <th>Price</th>\n",
       "      <th>Open</th>\n",
       "      <th>High</th>\n",
       "      <th>Low</th>\n",
       "      <th>Vol.</th>\n",
       "      <th>Change %</th>\n",
       "    </tr>\n",
       "    <tr>\n",
       "      <th>Date</th>\n",
       "      <th></th>\n",
       "      <th></th>\n",
       "      <th></th>\n",
       "      <th></th>\n",
       "      <th></th>\n",
       "      <th></th>\n",
       "    </tr>\n",
       "  </thead>\n",
       "  <tbody>\n",
       "    <tr>\n",
       "      <td>2017-01-02</td>\n",
       "      <td>363.18</td>\n",
       "      <td>361.24</td>\n",
       "      <td>363.76</td>\n",
       "      <td>360.90</td>\n",
       "      <td>117.04M</td>\n",
       "      <td>0.49%</td>\n",
       "    </tr>\n",
       "    <tr>\n",
       "      <td>2017-01-03</td>\n",
       "      <td>365.71</td>\n",
       "      <td>364.25</td>\n",
       "      <td>367.07</td>\n",
       "      <td>364.25</td>\n",
       "      <td>262.62M</td>\n",
       "      <td>0.70%</td>\n",
       "    </tr>\n",
       "    <tr>\n",
       "      <td>2017-01-04</td>\n",
       "      <td>365.26</td>\n",
       "      <td>365.61</td>\n",
       "      <td>366.19</td>\n",
       "      <td>363.95</td>\n",
       "      <td>230.27M</td>\n",
       "      <td>-0.12%</td>\n",
       "    </tr>\n",
       "    <tr>\n",
       "      <td>2017-01-05</td>\n",
       "      <td>365.64</td>\n",
       "      <td>364.02</td>\n",
       "      <td>365.92</td>\n",
       "      <td>363.66</td>\n",
       "      <td>224.31M</td>\n",
       "      <td>0.10%</td>\n",
       "    </tr>\n",
       "    <tr>\n",
       "      <td>2017-01-06</td>\n",
       "      <td>365.45</td>\n",
       "      <td>365.07</td>\n",
       "      <td>365.78</td>\n",
       "      <td>364.33</td>\n",
       "      <td>185.54M</td>\n",
       "      <td>-0.05%</td>\n",
       "    </tr>\n",
       "  </tbody>\n",
       "</table>\n",
       "</div>"
      ],
      "text/plain": [
       "             Price    Open    High     Low     Vol. Change %\n",
       "Date                                                        \n",
       "2017-01-02  363.18  361.24  363.76  360.90  117.04M    0.49%\n",
       "2017-01-03  365.71  364.25  367.07  364.25  262.62M    0.70%\n",
       "2017-01-04  365.26  365.61  366.19  363.95  230.27M   -0.12%\n",
       "2017-01-05  365.64  364.02  365.92  363.66  224.31M    0.10%\n",
       "2017-01-06  365.45  365.07  365.78  364.33  185.54M   -0.05%"
      ]
     },
     "execution_count": 8,
     "metadata": {},
     "output_type": "execute_result"
    }
   ],
   "source": [
    "## Euro stock market price index\n",
    "euro_stock_market_index = pd.read_csv('../Data/STOXX 600 Historical Data.csv')\n",
    "\n",
    "euro_stock_market_index['Date'] = pd.to_datetime(euro_stock_market_index['Date'])\n",
    "# euro_stock_market_index = euro_stock_market_index[['Date', 'Adj Close']]\n",
    "euro_stock_market_index.set_index('Date',inplace=True)\n",
    "euro_stock_market_index.sort_index(ascending=True, inplace = True)\n",
    "\n",
    "euro_stock_market_index.head()"
   ]
  },
  {
   "cell_type": "code",
   "execution_count": 9,
   "metadata": {},
   "outputs": [
    {
     "data": {
      "text/html": [
       "<div>\n",
       "<style scoped>\n",
       "    .dataframe tbody tr th:only-of-type {\n",
       "        vertical-align: middle;\n",
       "    }\n",
       "\n",
       "    .dataframe tbody tr th {\n",
       "        vertical-align: top;\n",
       "    }\n",
       "\n",
       "    .dataframe thead th {\n",
       "        text-align: right;\n",
       "    }\n",
       "</style>\n",
       "<table border=\"1\" class=\"dataframe\">\n",
       "  <thead>\n",
       "    <tr style=\"text-align: right;\">\n",
       "      <th></th>\n",
       "      <th>Price</th>\n",
       "      <th>Open</th>\n",
       "      <th>High</th>\n",
       "      <th>Low</th>\n",
       "      <th>Vol.</th>\n",
       "      <th>Change %</th>\n",
       "    </tr>\n",
       "    <tr>\n",
       "      <th>Date</th>\n",
       "      <th></th>\n",
       "      <th></th>\n",
       "      <th></th>\n",
       "      <th></th>\n",
       "      <th></th>\n",
       "      <th></th>\n",
       "    </tr>\n",
       "  </thead>\n",
       "  <tbody>\n",
       "    <tr>\n",
       "      <td>2021-07-05</td>\n",
       "      <td>2535.71</td>\n",
       "      <td>2531.29</td>\n",
       "      <td>2543.00</td>\n",
       "      <td>2509.73</td>\n",
       "      <td>-</td>\n",
       "      <td>0.00</td>\n",
       "    </tr>\n",
       "    <tr>\n",
       "      <td>2021-07-06</td>\n",
       "      <td>2576.53</td>\n",
       "      <td>2535.83</td>\n",
       "      <td>2585.84</td>\n",
       "      <td>2521.62</td>\n",
       "      <td>-</td>\n",
       "      <td>0.02</td>\n",
       "    </tr>\n",
       "    <tr>\n",
       "      <td>2021-07-07</td>\n",
       "      <td>2599.00</td>\n",
       "      <td>2576.52</td>\n",
       "      <td>2628.14</td>\n",
       "      <td>2552.78</td>\n",
       "      <td>-</td>\n",
       "      <td>0.01</td>\n",
       "    </tr>\n",
       "    <tr>\n",
       "      <td>2021-07-08</td>\n",
       "      <td>2547.57</td>\n",
       "      <td>2599.99</td>\n",
       "      <td>2599.99</td>\n",
       "      <td>2530.95</td>\n",
       "      <td>-</td>\n",
       "      <td>-0.02</td>\n",
       "    </tr>\n",
       "    <tr>\n",
       "      <td>2021-07-09</td>\n",
       "      <td>2517.64</td>\n",
       "      <td>2547.92</td>\n",
       "      <td>2567.41</td>\n",
       "      <td>2494.23</td>\n",
       "      <td>-</td>\n",
       "      <td>-0.01</td>\n",
       "    </tr>\n",
       "  </tbody>\n",
       "</table>\n",
       "</div>"
      ],
      "text/plain": [
       "              Price     Open     High      Low Vol.  Change %\n",
       "Date                                                         \n",
       "2021-07-05  2535.71  2531.29  2543.00  2509.73    -      0.00\n",
       "2021-07-06  2576.53  2535.83  2585.84  2521.62    -      0.02\n",
       "2021-07-07  2599.00  2576.52  2628.14  2552.78    -      0.01\n",
       "2021-07-08  2547.57  2599.99  2599.99  2530.95    -     -0.02\n",
       "2021-07-09  2517.64  2547.92  2567.41  2494.23    -     -0.01"
      ]
     },
     "execution_count": 9,
     "metadata": {},
     "output_type": "execute_result"
    }
   ],
   "source": [
    "# European Renewable Energy Total Return Historical Data\n",
    "energy_price = pd.read_csv('../Data/European Renewable Energy Total Return Historical Data.csv')\n",
    "energy_price['Date'] = pd.to_datetime(energy_price['Date'])\n",
    "# euro_stock_market_index = euro_stock_market_index[['Date', 'Adj Close']]\n",
    "energy_price.set_index('Date',inplace=True)\n",
    "energy_price.sort_index(ascending=True, inplace = True)\n",
    "\n",
    "energy_price.tail()"
   ]
  },
  {
   "cell_type": "code",
   "execution_count": 34,
   "metadata": {},
   "outputs": [
    {
     "name": "stdout",
     "output_type": "stream",
     "text": [
      "                pred\n",
      "Date                \n",
      "2015-11-18 -0.012647\n",
      "2015-11-19 -0.012647\n",
      "2015-11-20 -0.012647\n",
      "2015-11-23 -0.012647\n",
      "2015-11-24 -0.012647\n",
      "...              ...\n",
      "2021-08-30 -0.012647\n",
      "2021-08-31 -0.012647\n",
      "2021-09-01 -0.012647\n",
      "2021-09-02 -0.012647\n",
      "2021-09-03 -0.012647\n",
      "\n",
      "[1498 rows x 1 columns]\n"
     ]
    }
   ],
   "source": [
    "# Carbon Pulse news signal\n",
    "if not control_only:\n",
    "    cp_news_signal = pd.read_csv('../Data/cp_news_signal_2015_11_18_2021_09_03.csv')\n",
    "    cp_news_signal = cp_news_signal.rename(columns={'date': 'Date'}).set_index('Date')\n",
    "    print(cp_news_signal)"
   ]
  },
  {
   "cell_type": "markdown",
   "metadata": {},
   "source": [
    "# Merge datasets"
   ]
  },
  {
   "cell_type": "code",
   "execution_count": 15,
   "metadata": {},
   "outputs": [],
   "source": [
    "df = df.merge(oil_price.Price,left_index=True,right_index=True,how='left')"
   ]
  },
  {
   "cell_type": "code",
   "execution_count": 16,
   "metadata": {},
   "outputs": [],
   "source": [
    "df = df.merge(gas_price.Price,left_index=True,right_index=True,how='left')"
   ]
  },
  {
   "cell_type": "code",
   "execution_count": 17,
   "metadata": {},
   "outputs": [],
   "source": [
    "df = df.merge(euro_stock_market_index.Price,left_index=True,right_index=True,how='left')"
   ]
  },
  {
   "cell_type": "code",
   "execution_count": 18,
   "metadata": {},
   "outputs": [],
   "source": [
    "df = df.merge(energy_price.Price,left_index=True,right_index=True,how='left')"
   ]
  },
  {
   "cell_type": "code",
   "execution_count": 19,
   "metadata": {},
   "outputs": [],
   "source": [
    "df = df.merge(coal_price.Price,left_index=True,right_index=True,how='left')"
   ]
  },
  {
   "cell_type": "code",
   "execution_count": 21,
   "metadata": {},
   "outputs": [],
   "source": [
    "df = df.merge(cp_news_signal.pred,left_index=True,right_index=True,how='left')"
   ]
  },
  {
   "cell_type": "code",
   "execution_count": 22,
   "metadata": {
    "scrolled": true
   },
   "outputs": [
    {
     "data": {
      "text/html": [
       "<div>\n",
       "<style scoped>\n",
       "    .dataframe tbody tr th:only-of-type {\n",
       "        vertical-align: middle;\n",
       "    }\n",
       "\n",
       "    .dataframe tbody tr th {\n",
       "        vertical-align: top;\n",
       "    }\n",
       "\n",
       "    .dataframe thead th {\n",
       "        text-align: right;\n",
       "    }\n",
       "</style>\n",
       "<table border=\"1\" class=\"dataframe\">\n",
       "  <thead>\n",
       "    <tr style=\"text-align: right;\">\n",
       "      <th></th>\n",
       "      <th>Price_x</th>\n",
       "      <th>Price_y</th>\n",
       "      <th>Price_x</th>\n",
       "      <th>Price_y</th>\n",
       "      <th>Price_x</th>\n",
       "      <th>Price_y</th>\n",
       "      <th>pred</th>\n",
       "    </tr>\n",
       "    <tr>\n",
       "      <th>Date</th>\n",
       "      <th></th>\n",
       "      <th></th>\n",
       "      <th></th>\n",
       "      <th></th>\n",
       "      <th></th>\n",
       "      <th></th>\n",
       "      <th></th>\n",
       "    </tr>\n",
       "  </thead>\n",
       "  <tbody>\n",
       "    <tr>\n",
       "      <td>2021-04-07</td>\n",
       "      <td>43.76</td>\n",
       "      <td>63.16</td>\n",
       "      <td>47.96</td>\n",
       "      <td>434.32</td>\n",
       "      <td>2573.84</td>\n",
       "      <td>68.80</td>\n",
       "      <td>-0.012647</td>\n",
       "    </tr>\n",
       "    <tr>\n",
       "      <td>2021-04-08</td>\n",
       "      <td>43.38</td>\n",
       "      <td>63.20</td>\n",
       "      <td>47.20</td>\n",
       "      <td>436.86</td>\n",
       "      <td>2613.25</td>\n",
       "      <td>67.20</td>\n",
       "      <td>-0.012647</td>\n",
       "    </tr>\n",
       "    <tr>\n",
       "      <td>2021-04-09</td>\n",
       "      <td>43.56</td>\n",
       "      <td>62.95</td>\n",
       "      <td>46.86</td>\n",
       "      <td>437.23</td>\n",
       "      <td>2609.93</td>\n",
       "      <td>67.55</td>\n",
       "      <td>-0.012647</td>\n",
       "    </tr>\n",
       "    <tr>\n",
       "      <td>2021-04-12</td>\n",
       "      <td>44.39</td>\n",
       "      <td>63.28</td>\n",
       "      <td>49.14</td>\n",
       "      <td>435.24</td>\n",
       "      <td>2552.15</td>\n",
       "      <td>68.35</td>\n",
       "      <td>-0.012647</td>\n",
       "    </tr>\n",
       "    <tr>\n",
       "      <td>2021-04-13</td>\n",
       "      <td>43.76</td>\n",
       "      <td>63.67</td>\n",
       "      <td>48.60</td>\n",
       "      <td>435.75</td>\n",
       "      <td>2568.57</td>\n",
       "      <td>68.85</td>\n",
       "      <td>-0.012647</td>\n",
       "    </tr>\n",
       "  </tbody>\n",
       "</table>\n",
       "</div>"
      ],
      "text/plain": [
       "            Price_x  Price_y  Price_x  Price_y  Price_x  Price_y      pred\n",
       "Date                                                                      \n",
       "2021-04-07    43.76    63.16    47.96   434.32  2573.84    68.80 -0.012647\n",
       "2021-04-08    43.38    63.20    47.20   436.86  2613.25    67.20 -0.012647\n",
       "2021-04-09    43.56    62.95    46.86   437.23  2609.93    67.55 -0.012647\n",
       "2021-04-12    44.39    63.28    49.14   435.24  2552.15    68.35 -0.012647\n",
       "2021-04-13    43.76    63.67    48.60   435.75  2568.57    68.85 -0.012647"
      ]
     },
     "execution_count": 22,
     "metadata": {},
     "output_type": "execute_result"
    }
   ],
   "source": [
    "df.tail()"
   ]
  },
  {
   "cell_type": "code",
   "execution_count": 23,
   "metadata": {},
   "outputs": [],
   "source": [
    "df.columns = ['carbon_price', 'oil_price', 'gas_price', 'stock_market_index_level',\n",
    "              'energy_price', 'coal_price', 'news_signal']"
   ]
  },
  {
   "cell_type": "code",
   "execution_count": 24,
   "metadata": {},
   "outputs": [],
   "source": [
    "# Handle non-numeric values\n",
    "def isnumber(x):\n",
    "    try:\n",
    "        float(x)\n",
    "        return True\n",
    "    except:\n",
    "        return False\n",
    "\n",
    "df = df[df.applymap(isnumber)]"
   ]
  },
  {
   "cell_type": "code",
   "execution_count": 25,
   "metadata": {},
   "outputs": [
    {
     "data": {
      "text/html": [
       "<div>\n",
       "<style scoped>\n",
       "    .dataframe tbody tr th:only-of-type {\n",
       "        vertical-align: middle;\n",
       "    }\n",
       "\n",
       "    .dataframe tbody tr th {\n",
       "        vertical-align: top;\n",
       "    }\n",
       "\n",
       "    .dataframe thead th {\n",
       "        text-align: right;\n",
       "    }\n",
       "</style>\n",
       "<table border=\"1\" class=\"dataframe\">\n",
       "  <thead>\n",
       "    <tr style=\"text-align: right;\">\n",
       "      <th></th>\n",
       "      <th>carbon_price</th>\n",
       "      <th>oil_price</th>\n",
       "      <th>gas_price</th>\n",
       "      <th>stock_market_index_level</th>\n",
       "      <th>energy_price</th>\n",
       "      <th>coal_price</th>\n",
       "      <th>news_signal</th>\n",
       "    </tr>\n",
       "    <tr>\n",
       "      <th>Date</th>\n",
       "      <th></th>\n",
       "      <th></th>\n",
       "      <th></th>\n",
       "      <th></th>\n",
       "      <th></th>\n",
       "      <th></th>\n",
       "      <th></th>\n",
       "    </tr>\n",
       "  </thead>\n",
       "  <tbody>\n",
       "    <tr>\n",
       "      <td>2017-01-02</td>\n",
       "      <td>6.12</td>\n",
       "      <td>56.82</td>\n",
       "      <td>NaN</td>\n",
       "      <td>363.18</td>\n",
       "      <td>NaN</td>\n",
       "      <td>NaN</td>\n",
       "      <td>NaN</td>\n",
       "    </tr>\n",
       "    <tr>\n",
       "      <td>2017-01-03</td>\n",
       "      <td>5.43</td>\n",
       "      <td>55.47</td>\n",
       "      <td>49.45</td>\n",
       "      <td>365.71</td>\n",
       "      <td>NaN</td>\n",
       "      <td>82.50</td>\n",
       "      <td>-0.012647</td>\n",
       "    </tr>\n",
       "    <tr>\n",
       "      <td>2017-01-04</td>\n",
       "      <td>5.72</td>\n",
       "      <td>56.46</td>\n",
       "      <td>50.68</td>\n",
       "      <td>365.26</td>\n",
       "      <td>NaN</td>\n",
       "      <td>84.20</td>\n",
       "      <td>-0.012647</td>\n",
       "    </tr>\n",
       "    <tr>\n",
       "      <td>2017-01-05</td>\n",
       "      <td>5.29</td>\n",
       "      <td>56.89</td>\n",
       "      <td>50.69</td>\n",
       "      <td>365.64</td>\n",
       "      <td>NaN</td>\n",
       "      <td>85.75</td>\n",
       "      <td>-0.012647</td>\n",
       "    </tr>\n",
       "    <tr>\n",
       "      <td>2017-01-06</td>\n",
       "      <td>5.50</td>\n",
       "      <td>57.10</td>\n",
       "      <td>49.77</td>\n",
       "      <td>365.45</td>\n",
       "      <td>NaN</td>\n",
       "      <td>84.75</td>\n",
       "      <td>-0.012647</td>\n",
       "    </tr>\n",
       "  </tbody>\n",
       "</table>\n",
       "</div>"
      ],
      "text/plain": [
       "            carbon_price  oil_price  gas_price  stock_market_index_level  \\\n",
       "Date                                                                       \n",
       "2017-01-02          6.12      56.82        NaN                    363.18   \n",
       "2017-01-03          5.43      55.47      49.45                    365.71   \n",
       "2017-01-04          5.72      56.46      50.68                    365.26   \n",
       "2017-01-05          5.29      56.89      50.69                    365.64   \n",
       "2017-01-06          5.50      57.10      49.77                    365.45   \n",
       "\n",
       "            energy_price  coal_price  news_signal  \n",
       "Date                                               \n",
       "2017-01-02           NaN         NaN          NaN  \n",
       "2017-01-03           NaN       82.50    -0.012647  \n",
       "2017-01-04           NaN       84.20    -0.012647  \n",
       "2017-01-05           NaN       85.75    -0.012647  \n",
       "2017-01-06           NaN       84.75    -0.012647  "
      ]
     },
     "execution_count": 25,
     "metadata": {},
     "output_type": "execute_result"
    }
   ],
   "source": [
    "df.head()"
   ]
  },
  {
   "cell_type": "code",
   "execution_count": 28,
   "metadata": {},
   "outputs": [
    {
     "name": "stderr",
     "output_type": "stream",
     "text": [
      "/Users/MacBook/opt/anaconda3/lib/python3.7/site-packages/pandas/plotting/_matplotlib/converter.py:103: FutureWarning: Using an implicitly registered datetime converter for a matplotlib plotting method. The converter was registered by pandas on import. Future versions of pandas will require you to explicitly register matplotlib converters.\n",
      "\n",
      "To register the converters:\n",
      "\t>>> from pandas.plotting import register_matplotlib_converters\n",
      "\t>>> register_matplotlib_converters()\n",
      "  warnings.warn(msg, FutureWarning)\n"
     ]
    },
    {
     "data": {
      "text/plain": [
       "[<matplotlib.lines.Line2D at 0x114537d50>]"
      ]
     },
     "execution_count": 28,
     "metadata": {},
     "output_type": "execute_result"
    },
    {
     "data": {
      "image/png": "[encoded data removed]",
      "text/plain": [
       "<Figure size 432x288 with 1 Axes>"
      ]
     },
     "metadata": {
      "needs_background": "light"
     },
     "output_type": "display_data"
    }
   ],
   "source": [
    "plt.plot(df.news_signal)"
   ]
  },
  {
   "cell_type": "markdown",
   "metadata": {},
   "source": [
    "# Data preprocessing (ffill etc)"
   ]
  },
  {
   "cell_type": "markdown",
   "metadata": {},
   "source": [
    "# Export result"
   ]
  },
  {
   "cell_type": "code",
   "execution_count": 35,
   "metadata": {},
   "outputs": [
    {
     "name": "stdout",
     "output_type": "stream",
     "text": [
      "News signal as well\n"
     ]
    }
   ],
   "source": [
    "if control_only:\n",
    "    df.to_csv('../Data/merged_dataset.csv',index=True)\n",
    "    print(\"Control-only\")\n",
    "else:\n",
    "    df.to_csv('../Data/merged_signal_dataset.csv',index=True)\n",
    "    print(\"News signal as well\")"
   ]
  },
  {
   "cell_type": "code",
   "execution_count": null,
   "metadata": {},
   "outputs": [],
   "source": []
  },
  {
   "cell_type": "code",
   "execution_count": null,
   "metadata": {},
   "outputs": [],
   "source": []
  },
  {
   "cell_type": "markdown",
   "metadata": {},
   "source": [
    "# Support"
   ]
  },
  {
   "cell_type": "code",
   "execution_count": 30,
   "metadata": {
    "scrolled": true
   },
   "outputs": [
    {
     "data": {
      "text/html": [
       "<div>\n",
       "<style scoped>\n",
       "    .dataframe tbody tr th:only-of-type {\n",
       "        vertical-align: middle;\n",
       "    }\n",
       "\n",
       "    .dataframe tbody tr th {\n",
       "        vertical-align: top;\n",
       "    }\n",
       "\n",
       "    .dataframe thead th {\n",
       "        text-align: right;\n",
       "    }\n",
       "</style>\n",
       "<table border=\"1\" class=\"dataframe\">\n",
       "  <thead>\n",
       "    <tr style=\"text-align: right;\">\n",
       "      <th></th>\n",
       "      <th>carbon_price</th>\n",
       "      <th>oil_price</th>\n",
       "      <th>gas_price</th>\n",
       "      <th>stock_market_index_level</th>\n",
       "      <th>energy_price</th>\n",
       "      <th>coal_price</th>\n",
       "      <th>news_signal</th>\n",
       "    </tr>\n",
       "    <tr>\n",
       "      <th>Date</th>\n",
       "      <th></th>\n",
       "      <th></th>\n",
       "      <th></th>\n",
       "      <th></th>\n",
       "      <th></th>\n",
       "      <th></th>\n",
       "      <th></th>\n",
       "    </tr>\n",
       "  </thead>\n",
       "  <tbody>\n",
       "    <tr>\n",
       "      <td>2017-01-02</td>\n",
       "      <td>6.12</td>\n",
       "      <td>56.82</td>\n",
       "      <td>NaN</td>\n",
       "      <td>363.18</td>\n",
       "      <td>NaN</td>\n",
       "      <td>NaN</td>\n",
       "      <td>NaN</td>\n",
       "    </tr>\n",
       "    <tr>\n",
       "      <td>2017-01-03</td>\n",
       "      <td>5.43</td>\n",
       "      <td>55.47</td>\n",
       "      <td>49.45</td>\n",
       "      <td>365.71</td>\n",
       "      <td>NaN</td>\n",
       "      <td>82.50</td>\n",
       "      <td>-0.012647</td>\n",
       "    </tr>\n",
       "    <tr>\n",
       "      <td>2017-01-04</td>\n",
       "      <td>5.72</td>\n",
       "      <td>56.46</td>\n",
       "      <td>50.68</td>\n",
       "      <td>365.26</td>\n",
       "      <td>NaN</td>\n",
       "      <td>84.20</td>\n",
       "      <td>-0.012647</td>\n",
       "    </tr>\n",
       "    <tr>\n",
       "      <td>2017-01-05</td>\n",
       "      <td>5.29</td>\n",
       "      <td>56.89</td>\n",
       "      <td>50.69</td>\n",
       "      <td>365.64</td>\n",
       "      <td>NaN</td>\n",
       "      <td>85.75</td>\n",
       "      <td>-0.012647</td>\n",
       "    </tr>\n",
       "    <tr>\n",
       "      <td>2017-01-06</td>\n",
       "      <td>5.50</td>\n",
       "      <td>57.10</td>\n",
       "      <td>49.77</td>\n",
       "      <td>365.45</td>\n",
       "      <td>NaN</td>\n",
       "      <td>84.75</td>\n",
       "      <td>-0.012647</td>\n",
       "    </tr>\n",
       "  </tbody>\n",
       "</table>\n",
       "</div>"
      ],
      "text/plain": [
       "            carbon_price  oil_price  gas_price  stock_market_index_level  \\\n",
       "Date                                                                       \n",
       "2017-01-02          6.12      56.82        NaN                    363.18   \n",
       "2017-01-03          5.43      55.47      49.45                    365.71   \n",
       "2017-01-04          5.72      56.46      50.68                    365.26   \n",
       "2017-01-05          5.29      56.89      50.69                    365.64   \n",
       "2017-01-06          5.50      57.10      49.77                    365.45   \n",
       "\n",
       "            energy_price  coal_price  news_signal  \n",
       "Date                                               \n",
       "2017-01-02           NaN         NaN          NaN  \n",
       "2017-01-03           NaN       82.50    -0.012647  \n",
       "2017-01-04           NaN       84.20    -0.012647  \n",
       "2017-01-05           NaN       85.75    -0.012647  \n",
       "2017-01-06           NaN       84.75    -0.012647  "
      ]
     },
     "execution_count": 30,
     "metadata": {},
     "output_type": "execute_result"
    }
   ],
   "source": [
    "pd.read_csv('../Data/merged_signal_dataset.csv', index_col=0).head()"
   ]
  },
  {
   "cell_type": "code",
   "execution_count": 31,
   "metadata": {},
   "outputs": [
    {
     "data": {
      "text/html": [
       "<div>\n",
       "<style scoped>\n",
       "    .dataframe tbody tr th:only-of-type {\n",
       "        vertical-align: middle;\n",
       "    }\n",
       "\n",
       "    .dataframe tbody tr th {\n",
       "        vertical-align: top;\n",
       "    }\n",
       "\n",
       "    .dataframe thead th {\n",
       "        text-align: right;\n",
       "    }\n",
       "</style>\n",
       "<table border=\"1\" class=\"dataframe\">\n",
       "  <thead>\n",
       "    <tr style=\"text-align: right;\">\n",
       "      <th></th>\n",
       "      <th>carbon_price</th>\n",
       "      <th>oil_price</th>\n",
       "      <th>gas_price</th>\n",
       "      <th>stock_market_index_level</th>\n",
       "      <th>energy_price</th>\n",
       "      <th>coal_price</th>\n",
       "      <th>news_signal</th>\n",
       "    </tr>\n",
       "    <tr>\n",
       "      <th>Date</th>\n",
       "      <th></th>\n",
       "      <th></th>\n",
       "      <th></th>\n",
       "      <th></th>\n",
       "      <th></th>\n",
       "      <th></th>\n",
       "      <th></th>\n",
       "    </tr>\n",
       "  </thead>\n",
       "  <tbody>\n",
       "    <tr>\n",
       "      <td>2021-04-07</td>\n",
       "      <td>43.76</td>\n",
       "      <td>63.16</td>\n",
       "      <td>47.96</td>\n",
       "      <td>434.32</td>\n",
       "      <td>2573.84</td>\n",
       "      <td>68.80</td>\n",
       "      <td>-0.012647</td>\n",
       "    </tr>\n",
       "    <tr>\n",
       "      <td>2021-04-08</td>\n",
       "      <td>43.38</td>\n",
       "      <td>63.20</td>\n",
       "      <td>47.20</td>\n",
       "      <td>436.86</td>\n",
       "      <td>2613.25</td>\n",
       "      <td>67.20</td>\n",
       "      <td>-0.012647</td>\n",
       "    </tr>\n",
       "    <tr>\n",
       "      <td>2021-04-09</td>\n",
       "      <td>43.56</td>\n",
       "      <td>62.95</td>\n",
       "      <td>46.86</td>\n",
       "      <td>437.23</td>\n",
       "      <td>2609.93</td>\n",
       "      <td>67.55</td>\n",
       "      <td>-0.012647</td>\n",
       "    </tr>\n",
       "    <tr>\n",
       "      <td>2021-04-12</td>\n",
       "      <td>44.39</td>\n",
       "      <td>63.28</td>\n",
       "      <td>49.14</td>\n",
       "      <td>435.24</td>\n",
       "      <td>2552.15</td>\n",
       "      <td>68.35</td>\n",
       "      <td>-0.012647</td>\n",
       "    </tr>\n",
       "    <tr>\n",
       "      <td>2021-04-13</td>\n",
       "      <td>43.76</td>\n",
       "      <td>63.67</td>\n",
       "      <td>48.60</td>\n",
       "      <td>435.75</td>\n",
       "      <td>2568.57</td>\n",
       "      <td>68.85</td>\n",
       "      <td>-0.012647</td>\n",
       "    </tr>\n",
       "  </tbody>\n",
       "</table>\n",
       "</div>"
      ],
      "text/plain": [
       "            carbon_price  oil_price  gas_price  stock_market_index_level  \\\n",
       "Date                                                                       \n",
       "2021-04-07         43.76      63.16      47.96                    434.32   \n",
       "2021-04-08         43.38      63.20      47.20                    436.86   \n",
       "2021-04-09         43.56      62.95      46.86                    437.23   \n",
       "2021-04-12         44.39      63.28      49.14                    435.24   \n",
       "2021-04-13         43.76      63.67      48.60                    435.75   \n",
       "\n",
       "            energy_price  coal_price  news_signal  \n",
       "Date                                               \n",
       "2021-04-07       2573.84       68.80    -0.012647  \n",
       "2021-04-08       2613.25       67.20    -0.012647  \n",
       "2021-04-09       2609.93       67.55    -0.012647  \n",
       "2021-04-12       2552.15       68.35    -0.012647  \n",
       "2021-04-13       2568.57       68.85    -0.012647  "
      ]
     },
     "execution_count": 31,
     "metadata": {},
     "output_type": "execute_result"
    }
   ],
   "source": [
    "pd.read_csv('../Data/merged_signal_dataset.csv', index_col=0).tail()"
   ]
  },
  {
   "cell_type": "code",
   "execution_count": null,
   "metadata": {},
   "outputs": [],
   "source": []
  }
 ],
 "metadata": {
  "kernelspec": {
   "display_name": "Python 3",
   "language": "python",
   "name": "python3"
  },
  "language_info": {
   "codemirror_mode": {
    "name": "ipython",
    "version": 3
   },
   "file_extension": ".py",
   "mimetype": "text/x-python",
   "name": "python",
   "nbconvert_exporter": "python",
   "pygments_lexer": "ipython3",
   "version": "3.7.4"
  },
  "toc": {
   "base_numbering": 1,
   "nav_menu": {},
   "number_sections": true,
   "sideBar": true,
   "skip_h1_title": false,
   "title_cell": "Table of Contents",
   "title_sidebar": "Contents",
   "toc_cell": false,
   "toc_position": {
    "height": "calc(100% - 180px)",
    "left": "10px",
    "top": "150px",
    "width": "165px"
   },
   "toc_section_display": true,
   "toc_window_display": true
  }
 },
 "nbformat": 4,
 "nbformat_minor": 2
}
