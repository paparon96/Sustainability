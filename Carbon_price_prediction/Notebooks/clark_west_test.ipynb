{
 "cells": [
  {
   "attachments": {},
   "cell_type": "markdown",
   "metadata": {},
   "source": [
    "The goal of this notebook is to carry out the Clark-West Equal Predictive Ability test."
   ]
  },
  {
   "attachments": {},
   "cell_type": "markdown",
   "metadata": {},
   "source": [
    "# Import packages"
   ]
  },
  {
   "cell_type": "code",
   "execution_count": null,
   "metadata": {},
   "outputs": [],
   "source": [
    "import numpy as np\n",
    "import pandas as pd\n",
    "import statsmodels.formula.api as smf\n",
    "\n",
    "import scipy.stats"
   ]
  },
  {
   "attachments": {},
   "cell_type": "markdown",
   "metadata": {},
   "source": [
    "# Custom functions"
   ]
  },
  {
   "cell_type": "code",
   "execution_count": null,
   "metadata": {},
   "outputs": [],
   "source": [
    "def squared_error(x, y):\n",
    "    return (x - y)**2"
   ]
  },
  {
   "cell_type": "code",
   "execution_count": null,
   "metadata": {},
   "outputs": [],
   "source": [
    "def f(true_values, model1_predictions, model2_predictions):\n",
    "    return squared_error(true_values, model1_predictions) - \\\n",
    "        (squared_error(true_values, model2_predictions) - squared_error(model1_predictions, model2_predictions))"
   ]
  },
  {
   "cell_type": "code",
   "execution_count": null,
   "metadata": {},
   "outputs": [],
   "source": [
    "def clark_west_epa_test_stat(true_values, model1_predictions, model2_predictions):\n",
    "\n",
    "    df = pd.DataFrame({'loss': f(true_values, model1_predictions, model2_predictions)})\n",
    "\n",
    "    reg = smf.ols('loss ~ 1', data=df).fit(cov_type='HAC', cov_kwds={'maxlags': 1})\n",
    "\n",
    "    return reg.params[0] / reg.bse[0]"
   ]
  },
  {
   "cell_type": "code",
   "execution_count": null,
   "metadata": {},
   "outputs": [],
   "source": [
    "def critical_value(significance_level, n):\n",
    "    \"\"\"\n",
    "    Note that we are assuming a 2-sided hypothesis test here.\n",
    "    \"\"\"\n",
    "    return scipy.stats.t.ppf(q=1-significance_level/2, df=n-1)"
   ]
  },
  {
   "cell_type": "code",
   "execution_count": null,
   "metadata": {},
   "outputs": [],
   "source": [
    "def p_value(test_stat, n):\n",
    "    \"\"\"\n",
    "    Note that we are assuming a 2-sided hypothesis test here.\n",
    "    \"\"\"\n",
    "    return scipy.stats.t.sf(np.abs(test_stat), n-1) * 2"
   ]
  },
  {
   "cell_type": "code",
   "execution_count": null,
   "metadata": {},
   "outputs": [],
   "source": [
    "def clark_west_epa_test(full_model_predictions, control_model_predictions, y_true, alpha):\n",
    "\n",
    "    n = len(full_model_predictions)\n",
    "\n",
    "    test_stat = clark_west_epa_test_stat(y_true, control_model_predictions, full_model_predictions)\n",
    "\n",
    "    c_val = critical_value(alpha, n-1)\n",
    "\n",
    "    p_val = p_value(test_stat, n)\n",
    "\n",
    "    return test_stat > c_val, p_val"
   ]
  },
  {
   "attachments": {},
   "cell_type": "markdown",
   "metadata": {},
   "source": [
    "# Constants / Parameters"
   ]
  },
  {
   "cell_type": "code",
   "execution_count": null,
   "metadata": {},
   "outputs": [],
   "source": [
    "n = 10 # Number of periods\n",
    "alpha = 0.05 # Significance level for the test"
   ]
  },
  {
   "attachments": {},
   "cell_type": "markdown",
   "metadata": {},
   "source": [
    "# Generate dummy data"
   ]
  },
  {
   "cell_type": "code",
   "execution_count": null,
   "metadata": {},
   "outputs": [],
   "source": [
    "full_model_predictions = np.random.normal(size=n)\n",
    "control_model_predictions = np.random.normal(size=n)\n",
    "y_true = np.random.normal(size=n)"
   ]
  },
  {
   "attachments": {},
   "cell_type": "markdown",
   "metadata": {},
   "source": [
    "# Carry out the test"
   ]
  },
  {
   "cell_type": "code",
   "execution_count": null,
   "metadata": {},
   "outputs": [],
   "source": [
    "clark_west_epa_test(full_model_predictions, control_model_predictions, y_true, alpha)"
   ]
  },
  {
   "attachments": {},
   "cell_type": "markdown",
   "metadata": {},
   "source": [
    "# Archive"
   ]
  },
  {
   "cell_type": "code",
   "execution_count": null,
   "metadata": {},
   "outputs": [],
   "source": [
    "reg = clark_west_epa(y_true, control_model_predictions, full_model_predictions)\n",
    "\n",
    "reg.params[0] / reg.bse[0]\n",
    "\n",
    "reg.summary()"
   ]
  },
  {
   "cell_type": "code",
   "execution_count": null,
   "metadata": {},
   "outputs": [],
   "source": [
    "# Test p-value function\n",
    "p_value(1.96, 10000)"
   ]
  },
  {
   "cell_type": "code",
   "execution_count": null,
   "metadata": {},
   "outputs": [],
   "source": [
    "full_model_loss = np.array([squared_error(full_model_predictions[i], y_true[i]) for i in range(n)])\n",
    "control_model_loss = np.array([squared_error(control_model_predictions[i], y_true[i]) for i in range(n)])\n",
    "loss_differential = full_model_loss - control_model_loss"
   ]
  },
  {
   "cell_type": "code",
   "execution_count": null,
   "metadata": {},
   "outputs": [],
   "source": [
    "loss_differential"
   ]
  },
  {
   "cell_type": "code",
   "execution_count": null,
   "metadata": {},
   "outputs": [],
   "source": [
    "\n"
   ]
  },
  {
   "cell_type": "code",
   "execution_count": null,
   "metadata": {},
   "outputs": [],
   "source": [
    "df = pd.DataFrame({'loss':loss_differential})\n",
    "\n",
    "reg = smf.ols('loss ~ 1',data=df).fit(cov_type='HAC', cov_kwds={'maxlags': 1})"
   ]
  },
  {
   "cell_type": "code",
   "execution_count": null,
   "metadata": {},
   "outputs": [],
   "source": [
    "reg.summary()"
   ]
  },
  {
   "cell_type": "code",
   "execution_count": null,
   "metadata": {},
   "outputs": [],
   "source": [
    "ld_var = reg.bse[0]"
   ]
  },
  {
   "cell_type": "code",
   "execution_count": null,
   "metadata": {},
   "outputs": [],
   "source": [
    "test_stat = np.mean(loss_differential) / np.sqrt(ld_var / len(loss_differential))"
   ]
  },
  {
   "cell_type": "code",
   "execution_count": null,
   "metadata": {},
   "outputs": [],
   "source": []
  },
  {
   "cell_type": "code",
   "execution_count": null,
   "metadata": {},
   "outputs": [],
   "source": [
    "test_stat > critical_value(alpha, n)"
   ]
  },
  {
   "cell_type": "code",
   "execution_count": null,
   "metadata": {},
   "outputs": [],
   "source": []
  }
 ],
 "metadata": {
  "kernelspec": {
   "display_name": "mlops-course",
   "language": "python",
   "name": "python3"
  },
  "language_info": {
   "codemirror_mode": {
    "name": "ipython",
    "version": 3
   },
   "file_extension": ".py",
   "mimetype": "text/x-python",
   "name": "python",
   "nbconvert_exporter": "python",
   "pygments_lexer": "ipython3",
   "version": "3.8.13"
  },
  "orig_nbformat": 4,
  "vscode": {
   "interpreter": {
    "hash": "64350ad345ca6d0ea13dbd5a2e19ad48babc5c17f2285d647c3fd647776889c7"
   }
  }
 },
 "nbformat": 4,
 "nbformat_minor": 2
}
