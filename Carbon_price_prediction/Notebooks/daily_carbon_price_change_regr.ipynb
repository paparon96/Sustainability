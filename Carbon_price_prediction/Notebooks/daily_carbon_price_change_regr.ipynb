{
 "cells": [
  {
   "cell_type": "markdown",
   "metadata": {},
   "source": [
    "# Import packages"
   ]
  },
  {
   "cell_type": "code",
   "execution_count": 1,
   "metadata": {},
   "outputs": [],
   "source": [
    "# loading packages\n",
    "import numpy as np\n",
    "import pandas as pd\n",
    "import matplotlib.pyplot as plt\n",
    "import os\n",
    "import seaborn as sns\n",
    "plt.rcParams['figure.dpi'] = 300\n",
    "\n",
    "import matplotlib.dates as mdates\n",
    "\n",
    "# ignoring warnings\n",
    "import warnings\n",
    "warnings.simplefilter(\"ignore\")"
   ]
  },
  {
   "cell_type": "code",
   "execution_count": 2,
   "metadata": {},
   "outputs": [],
   "source": [
    "import sklearn as sk\n",
    "import statsmodels.api as sm\n",
    "\n",
    "# Import Statsmodels\n",
    "from statsmodels.tsa.api import VAR\n",
    "from statsmodels.tsa.api import ARMA\n",
    "import statsmodels.api as sm\n",
    "import statsmodels.formula.api as smf\n",
    "\n",
    "\n",
    "from statsmodels.tsa.stattools import adfuller\n",
    "from statsmodels.tools.eval_measures import rmse, aic\n",
    "from statsmodels.tsa.stattools import grangercausalitytests\n",
    "from statsmodels.tsa.vector_ar.vecm import coint_johansen\n",
    "from statsmodels.stats.stattools import durbin_watson\n",
    "# from statsmodels.tsa.vector_ar.var_model import VAR\n",
    "\n",
    "from sklearn.metrics import r2_score,mean_squared_error\n",
    "from sklearn.linear_model import Lasso\n",
    "from sklearn.model_selection import GridSearchCV\n",
    "\n",
    "from sklearn.ensemble import RandomForestRegressor\n",
    "\n",
    "import copy"
   ]
  },
  {
   "cell_type": "markdown",
   "metadata": {},
   "source": [
    "# Custom functions"
   ]
  },
  {
   "cell_type": "code",
   "execution_count": 3,
   "metadata": {},
   "outputs": [],
   "source": [
    "def diff_for_stationarity(df_input,cols,threshold):\n",
    "    \n",
    "    \"\"\"Checks the series for stationarity then difference it until it is stationary\n",
    "    (with the given threshold)\"\"\"\n",
    "    \n",
    "    df = copy.deepcopy(df_input)\n",
    "    \n",
    "    \n",
    "    # Get length of DF\n",
    "    n = len(df)\n",
    "    \n",
    "    # Loop over columns of interest\n",
    "    for col in cols:\n",
    "        stationarity = False\n",
    "        series = list(df[col].astype(float))\n",
    "        linear_diff = False\n",
    "                \n",
    "        try:\n",
    "        \n",
    "            counter = 0\n",
    "\n",
    "\n",
    "\n",
    "            while not stationarity:\n",
    "\n",
    "                #print(counter)\n",
    "\n",
    "                # Run ADF test\n",
    "                adf_test = adfuller(series)\n",
    "                pval = adf_test[1]\n",
    "\n",
    "                if pval < threshold:\n",
    "                    stationarity = True\n",
    "\n",
    "                else:\n",
    "                    # Difference the series\n",
    "                    series = [np.log(series[i]/series[i-1]) for i in range(1,n-counter)]\n",
    "                    #series = [series[i]-series[i-1] for i in range(1,n-counter)]\n",
    "\n",
    "                    counter += 1\n",
    "                    \n",
    "        except:\n",
    "            \n",
    "            counter = 0\n",
    "            stationarity = False\n",
    "            series = list(df[col].astype(float))\n",
    "            linear_diff = True\n",
    "\n",
    "            while not stationarity:\n",
    "\n",
    "                #print(counter)\n",
    "\n",
    "                # Run ADF test\n",
    "                adf_test = adfuller(series)\n",
    "                pval = adf_test[1]\n",
    "\n",
    "                if pval < threshold:\n",
    "                    stationarity = True\n",
    "\n",
    "                elif counter>1:\n",
    "                    stationarity = True\n",
    "                    series = list(df[col].astype(float))\n",
    "                else:\n",
    "                    # Difference the series\n",
    "                    series = [series[i]-series[i-1] for i in range(1,n-counter)]\n",
    "\n",
    "                    counter += 1\n",
    "        \n",
    "        # Create final series and assign it back to the dataframe\n",
    "        final_series = [None]*counter + series\n",
    "        df[col] = final_series\n",
    "        \n",
    "        if not linear_diff:\n",
    "            type_diff = \"log difference\"\n",
    "        else:\n",
    "            type_diff = \"linear difference\"\n",
    "        \n",
    "        print(\"Variable: {} is {}-order integrated ({})!\".format(col,counter,type_diff))\n",
    "        \n",
    "        \n",
    "    return df"
   ]
  },
  {
   "cell_type": "markdown",
   "metadata": {},
   "source": [
    "# Parameters / Settings"
   ]
  },
  {
   "cell_type": "code",
   "execution_count": 4,
   "metadata": {},
   "outputs": [],
   "source": [
    "signal_names = ['cp_news_signal', 'carbon_news_mentions_sma_30']\n",
    "signal_name = signal_names[1]"
   ]
  },
  {
   "cell_type": "markdown",
   "metadata": {},
   "source": [
    "# Import data"
   ]
  },
  {
   "cell_type": "markdown",
   "metadata": {},
   "source": [
    "## Control variables and target"
   ]
  },
  {
   "cell_type": "code",
   "execution_count": 5,
   "metadata": {},
   "outputs": [],
   "source": [
    "df = pd.read_csv('../Data/merged_dataset.csv', index_col=0) "
   ]
  },
  {
   "cell_type": "markdown",
   "metadata": {},
   "source": [
    "## Signal variable"
   ]
  },
  {
   "cell_type": "code",
   "execution_count": 6,
   "metadata": {},
   "outputs": [],
   "source": [
    "signal_df = pd.read_csv(f'../Data/signals/{signal_name}.csv', index_col=0)\n",
    "signal_df.columns = ['signal']"
   ]
  },
  {
   "cell_type": "markdown",
   "metadata": {},
   "source": [
    "# EDA"
   ]
  },
  {
   "cell_type": "code",
   "execution_count": 7,
   "metadata": {},
   "outputs": [
    {
     "data": {
      "text/html": [
       "<div>\n",
       "<style scoped>\n",
       "    .dataframe tbody tr th:only-of-type {\n",
       "        vertical-align: middle;\n",
       "    }\n",
       "\n",
       "    .dataframe tbody tr th {\n",
       "        vertical-align: top;\n",
       "    }\n",
       "\n",
       "    .dataframe thead th {\n",
       "        text-align: right;\n",
       "    }\n",
       "</style>\n",
       "<table border=\"1\" class=\"dataframe\">\n",
       "  <thead>\n",
       "    <tr style=\"text-align: right;\">\n",
       "      <th></th>\n",
       "      <th>carbon_price</th>\n",
       "      <th>oil_price</th>\n",
       "      <th>gas_price</th>\n",
       "      <th>stock_market_index_level</th>\n",
       "      <th>energy_price</th>\n",
       "      <th>coal_price</th>\n",
       "    </tr>\n",
       "    <tr>\n",
       "      <th>Date</th>\n",
       "      <th></th>\n",
       "      <th></th>\n",
       "      <th></th>\n",
       "      <th></th>\n",
       "      <th></th>\n",
       "      <th></th>\n",
       "    </tr>\n",
       "  </thead>\n",
       "  <tbody>\n",
       "    <tr>\n",
       "      <td>2017-01-02</td>\n",
       "      <td>6.12</td>\n",
       "      <td>56.82</td>\n",
       "      <td>NaN</td>\n",
       "      <td>363.18</td>\n",
       "      <td>NaN</td>\n",
       "      <td>NaN</td>\n",
       "    </tr>\n",
       "    <tr>\n",
       "      <td>2017-01-03</td>\n",
       "      <td>5.43</td>\n",
       "      <td>55.47</td>\n",
       "      <td>49.45</td>\n",
       "      <td>365.71</td>\n",
       "      <td>NaN</td>\n",
       "      <td>82.50</td>\n",
       "    </tr>\n",
       "    <tr>\n",
       "      <td>2017-01-04</td>\n",
       "      <td>5.72</td>\n",
       "      <td>56.46</td>\n",
       "      <td>50.68</td>\n",
       "      <td>365.26</td>\n",
       "      <td>NaN</td>\n",
       "      <td>84.20</td>\n",
       "    </tr>\n",
       "    <tr>\n",
       "      <td>2017-01-05</td>\n",
       "      <td>5.29</td>\n",
       "      <td>56.89</td>\n",
       "      <td>50.69</td>\n",
       "      <td>365.64</td>\n",
       "      <td>NaN</td>\n",
       "      <td>85.75</td>\n",
       "    </tr>\n",
       "    <tr>\n",
       "      <td>2017-01-06</td>\n",
       "      <td>5.50</td>\n",
       "      <td>57.10</td>\n",
       "      <td>49.77</td>\n",
       "      <td>365.45</td>\n",
       "      <td>NaN</td>\n",
       "      <td>84.75</td>\n",
       "    </tr>\n",
       "  </tbody>\n",
       "</table>\n",
       "</div>"
      ],
      "text/plain": [
       "            carbon_price  oil_price  gas_price  stock_market_index_level  \\\n",
       "Date                                                                       \n",
       "2017-01-02          6.12      56.82        NaN                    363.18   \n",
       "2017-01-03          5.43      55.47      49.45                    365.71   \n",
       "2017-01-04          5.72      56.46      50.68                    365.26   \n",
       "2017-01-05          5.29      56.89      50.69                    365.64   \n",
       "2017-01-06          5.50      57.10      49.77                    365.45   \n",
       "\n",
       "            energy_price  coal_price  \n",
       "Date                                  \n",
       "2017-01-02           NaN         NaN  \n",
       "2017-01-03           NaN       82.50  \n",
       "2017-01-04           NaN       84.20  \n",
       "2017-01-05           NaN       85.75  \n",
       "2017-01-06           NaN       84.75  "
      ]
     },
     "execution_count": 7,
     "metadata": {},
     "output_type": "execute_result"
    }
   ],
   "source": [
    "df.head()"
   ]
  },
  {
   "cell_type": "code",
   "execution_count": 8,
   "metadata": {},
   "outputs": [
    {
     "data": {
      "text/html": [
       "<div>\n",
       "<style scoped>\n",
       "    .dataframe tbody tr th:only-of-type {\n",
       "        vertical-align: middle;\n",
       "    }\n",
       "\n",
       "    .dataframe tbody tr th {\n",
       "        vertical-align: top;\n",
       "    }\n",
       "\n",
       "    .dataframe thead th {\n",
       "        text-align: right;\n",
       "    }\n",
       "</style>\n",
       "<table border=\"1\" class=\"dataframe\">\n",
       "  <thead>\n",
       "    <tr style=\"text-align: right;\">\n",
       "      <th></th>\n",
       "      <th>signal</th>\n",
       "    </tr>\n",
       "    <tr>\n",
       "      <th>SQLDATE</th>\n",
       "      <th></th>\n",
       "    </tr>\n",
       "  </thead>\n",
       "  <tbody>\n",
       "    <tr>\n",
       "      <td>2020-01-06</td>\n",
       "      <td>NaN</td>\n",
       "    </tr>\n",
       "    <tr>\n",
       "      <td>2020-01-07</td>\n",
       "      <td>NaN</td>\n",
       "    </tr>\n",
       "    <tr>\n",
       "      <td>2020-01-08</td>\n",
       "      <td>NaN</td>\n",
       "    </tr>\n",
       "    <tr>\n",
       "      <td>2020-01-12</td>\n",
       "      <td>NaN</td>\n",
       "    </tr>\n",
       "    <tr>\n",
       "      <td>2020-01-13</td>\n",
       "      <td>NaN</td>\n",
       "    </tr>\n",
       "  </tbody>\n",
       "</table>\n",
       "</div>"
      ],
      "text/plain": [
       "            signal\n",
       "SQLDATE           \n",
       "2020-01-06     NaN\n",
       "2020-01-07     NaN\n",
       "2020-01-08     NaN\n",
       "2020-01-12     NaN\n",
       "2020-01-13     NaN"
      ]
     },
     "execution_count": 8,
     "metadata": {},
     "output_type": "execute_result"
    }
   ],
   "source": [
    "signal_df.head()"
   ]
  },
  {
   "cell_type": "code",
   "execution_count": 9,
   "metadata": {},
   "outputs": [
    {
     "data": {
      "image/png": "[encoded data removed]",
      "text/plain": [
       "<Figure size 432x288 with 1 Axes>"
      ]
     },
     "metadata": {
      "needs_background": "light"
     },
     "output_type": "display_data"
    }
   ],
   "source": [
    "df.index = pd.DatetimeIndex(df.index)\n",
    "\n",
    "\n",
    "plt.plot(df.carbon_price)\n",
    "plt.show()"
   ]
  },
  {
   "cell_type": "code",
   "execution_count": 10,
   "metadata": {},
   "outputs": [
    {
     "data": {
      "image/png": "[encoded data removed]",
      "text/plain": [
       "<Figure size 432x288 with 1 Axes>"
      ]
     },
     "metadata": {
      "needs_background": "light"
     },
     "output_type": "display_data"
    }
   ],
   "source": [
    "signal_df.index = pd.DatetimeIndex(signal_df.index)\n",
    "plt.plot(signal_df)\n",
    "plt.show()"
   ]
  },
  {
   "cell_type": "markdown",
   "metadata": {},
   "source": [
    "# Data preprocessing"
   ]
  },
  {
   "cell_type": "markdown",
   "metadata": {},
   "source": [
    "## Merge datasets"
   ]
  },
  {
   "cell_type": "code",
   "execution_count": 11,
   "metadata": {},
   "outputs": [
    {
     "name": "stdout",
     "output_type": "stream",
     "text": [
      "(1104, 6)\n",
      "(1104, 7)\n"
     ]
    },
    {
     "data": {
      "text/html": [
       "<div>\n",
       "<style scoped>\n",
       "    .dataframe tbody tr th:only-of-type {\n",
       "        vertical-align: middle;\n",
       "    }\n",
       "\n",
       "    .dataframe tbody tr th {\n",
       "        vertical-align: top;\n",
       "    }\n",
       "\n",
       "    .dataframe thead th {\n",
       "        text-align: right;\n",
       "    }\n",
       "</style>\n",
       "<table border=\"1\" class=\"dataframe\">\n",
       "  <thead>\n",
       "    <tr style=\"text-align: right;\">\n",
       "      <th></th>\n",
       "      <th>carbon_price</th>\n",
       "      <th>oil_price</th>\n",
       "      <th>gas_price</th>\n",
       "      <th>stock_market_index_level</th>\n",
       "      <th>energy_price</th>\n",
       "      <th>coal_price</th>\n",
       "      <th>signal</th>\n",
       "    </tr>\n",
       "    <tr>\n",
       "      <th>Date</th>\n",
       "      <th></th>\n",
       "      <th></th>\n",
       "      <th></th>\n",
       "      <th></th>\n",
       "      <th></th>\n",
       "      <th></th>\n",
       "      <th></th>\n",
       "    </tr>\n",
       "  </thead>\n",
       "  <tbody>\n",
       "    <tr>\n",
       "      <td>2017-01-02</td>\n",
       "      <td>6.12</td>\n",
       "      <td>56.82</td>\n",
       "      <td>NaN</td>\n",
       "      <td>363.18</td>\n",
       "      <td>NaN</td>\n",
       "      <td>NaN</td>\n",
       "      <td>NaN</td>\n",
       "    </tr>\n",
       "    <tr>\n",
       "      <td>2017-01-03</td>\n",
       "      <td>5.43</td>\n",
       "      <td>55.47</td>\n",
       "      <td>49.45</td>\n",
       "      <td>365.71</td>\n",
       "      <td>NaN</td>\n",
       "      <td>82.50</td>\n",
       "      <td>NaN</td>\n",
       "    </tr>\n",
       "    <tr>\n",
       "      <td>2017-01-04</td>\n",
       "      <td>5.72</td>\n",
       "      <td>56.46</td>\n",
       "      <td>50.68</td>\n",
       "      <td>365.26</td>\n",
       "      <td>NaN</td>\n",
       "      <td>84.20</td>\n",
       "      <td>NaN</td>\n",
       "    </tr>\n",
       "    <tr>\n",
       "      <td>2017-01-05</td>\n",
       "      <td>5.29</td>\n",
       "      <td>56.89</td>\n",
       "      <td>50.69</td>\n",
       "      <td>365.64</td>\n",
       "      <td>NaN</td>\n",
       "      <td>85.75</td>\n",
       "      <td>NaN</td>\n",
       "    </tr>\n",
       "    <tr>\n",
       "      <td>2017-01-06</td>\n",
       "      <td>5.50</td>\n",
       "      <td>57.10</td>\n",
       "      <td>49.77</td>\n",
       "      <td>365.45</td>\n",
       "      <td>NaN</td>\n",
       "      <td>84.75</td>\n",
       "      <td>NaN</td>\n",
       "    </tr>\n",
       "    <tr>\n",
       "      <td>...</td>\n",
       "      <td>...</td>\n",
       "      <td>...</td>\n",
       "      <td>...</td>\n",
       "      <td>...</td>\n",
       "      <td>...</td>\n",
       "      <td>...</td>\n",
       "      <td>...</td>\n",
       "    </tr>\n",
       "    <tr>\n",
       "      <td>2021-04-07</td>\n",
       "      <td>43.76</td>\n",
       "      <td>63.16</td>\n",
       "      <td>47.96</td>\n",
       "      <td>434.32</td>\n",
       "      <td>2573.84</td>\n",
       "      <td>68.80</td>\n",
       "      <td>6.733333</td>\n",
       "    </tr>\n",
       "    <tr>\n",
       "      <td>2021-04-08</td>\n",
       "      <td>43.38</td>\n",
       "      <td>63.20</td>\n",
       "      <td>47.20</td>\n",
       "      <td>436.86</td>\n",
       "      <td>2613.25</td>\n",
       "      <td>67.20</td>\n",
       "      <td>6.933333</td>\n",
       "    </tr>\n",
       "    <tr>\n",
       "      <td>2021-04-09</td>\n",
       "      <td>43.56</td>\n",
       "      <td>62.95</td>\n",
       "      <td>46.86</td>\n",
       "      <td>437.23</td>\n",
       "      <td>2609.93</td>\n",
       "      <td>67.55</td>\n",
       "      <td>6.133333</td>\n",
       "    </tr>\n",
       "    <tr>\n",
       "      <td>2021-04-12</td>\n",
       "      <td>44.39</td>\n",
       "      <td>63.28</td>\n",
       "      <td>49.14</td>\n",
       "      <td>435.24</td>\n",
       "      <td>2552.15</td>\n",
       "      <td>68.35</td>\n",
       "      <td>5.466667</td>\n",
       "    </tr>\n",
       "    <tr>\n",
       "      <td>2021-04-13</td>\n",
       "      <td>43.76</td>\n",
       "      <td>63.67</td>\n",
       "      <td>48.60</td>\n",
       "      <td>435.75</td>\n",
       "      <td>2568.57</td>\n",
       "      <td>68.85</td>\n",
       "      <td>4.700000</td>\n",
       "    </tr>\n",
       "  </tbody>\n",
       "</table>\n",
       "<p>1104 rows × 7 columns</p>\n",
       "</div>"
      ],
      "text/plain": [
       "            carbon_price  oil_price  gas_price  stock_market_index_level  \\\n",
       "Date                                                                       \n",
       "2017-01-02          6.12      56.82        NaN                    363.18   \n",
       "2017-01-03          5.43      55.47      49.45                    365.71   \n",
       "2017-01-04          5.72      56.46      50.68                    365.26   \n",
       "2017-01-05          5.29      56.89      50.69                    365.64   \n",
       "2017-01-06          5.50      57.10      49.77                    365.45   \n",
       "...                  ...        ...        ...                       ...   \n",
       "2021-04-07         43.76      63.16      47.96                    434.32   \n",
       "2021-04-08         43.38      63.20      47.20                    436.86   \n",
       "2021-04-09         43.56      62.95      46.86                    437.23   \n",
       "2021-04-12         44.39      63.28      49.14                    435.24   \n",
       "2021-04-13         43.76      63.67      48.60                    435.75   \n",
       "\n",
       "            energy_price  coal_price    signal  \n",
       "Date                                            \n",
       "2017-01-02           NaN         NaN       NaN  \n",
       "2017-01-03           NaN       82.50       NaN  \n",
       "2017-01-04           NaN       84.20       NaN  \n",
       "2017-01-05           NaN       85.75       NaN  \n",
       "2017-01-06           NaN       84.75       NaN  \n",
       "...                  ...         ...       ...  \n",
       "2021-04-07       2573.84       68.80  6.733333  \n",
       "2021-04-08       2613.25       67.20  6.933333  \n",
       "2021-04-09       2609.93       67.55  6.133333  \n",
       "2021-04-12       2552.15       68.35  5.466667  \n",
       "2021-04-13       2568.57       68.85  4.700000  \n",
       "\n",
       "[1104 rows x 7 columns]"
      ]
     },
     "metadata": {},
     "output_type": "display_data"
    }
   ],
   "source": [
    "print(df.shape)\n",
    "df = df.merge(signal_df, left_index=True, right_index=True, how='left')\n",
    "print(df.shape)\n",
    "display(df)"
   ]
  },
  {
   "cell_type": "markdown",
   "metadata": {},
   "source": [
    "## Handle missing values"
   ]
  },
  {
   "cell_type": "code",
   "execution_count": 12,
   "metadata": {},
   "outputs": [],
   "source": [
    "df = df.fillna(method='bfill')"
   ]
  },
  {
   "cell_type": "code",
   "execution_count": 13,
   "metadata": {},
   "outputs": [
    {
     "data": {
      "text/html": [
       "<div>\n",
       "<style scoped>\n",
       "    .dataframe tbody tr th:only-of-type {\n",
       "        vertical-align: middle;\n",
       "    }\n",
       "\n",
       "    .dataframe tbody tr th {\n",
       "        vertical-align: top;\n",
       "    }\n",
       "\n",
       "    .dataframe thead th {\n",
       "        text-align: right;\n",
       "    }\n",
       "</style>\n",
       "<table border=\"1\" class=\"dataframe\">\n",
       "  <thead>\n",
       "    <tr style=\"text-align: right;\">\n",
       "      <th></th>\n",
       "      <th>carbon_price</th>\n",
       "      <th>oil_price</th>\n",
       "      <th>gas_price</th>\n",
       "      <th>stock_market_index_level</th>\n",
       "      <th>energy_price</th>\n",
       "      <th>coal_price</th>\n",
       "      <th>signal</th>\n",
       "    </tr>\n",
       "    <tr>\n",
       "      <th>Date</th>\n",
       "      <th></th>\n",
       "      <th></th>\n",
       "      <th></th>\n",
       "      <th></th>\n",
       "      <th></th>\n",
       "      <th></th>\n",
       "      <th></th>\n",
       "    </tr>\n",
       "  </thead>\n",
       "  <tbody>\n",
       "    <tr>\n",
       "      <td>2017-01-02</td>\n",
       "      <td>6.12</td>\n",
       "      <td>56.82</td>\n",
       "      <td>49.45</td>\n",
       "      <td>363.18</td>\n",
       "      <td>1032.24</td>\n",
       "      <td>82.50</td>\n",
       "      <td>4.166667</td>\n",
       "    </tr>\n",
       "    <tr>\n",
       "      <td>2017-01-03</td>\n",
       "      <td>5.43</td>\n",
       "      <td>55.47</td>\n",
       "      <td>49.45</td>\n",
       "      <td>365.71</td>\n",
       "      <td>1032.24</td>\n",
       "      <td>82.50</td>\n",
       "      <td>4.166667</td>\n",
       "    </tr>\n",
       "    <tr>\n",
       "      <td>2017-01-04</td>\n",
       "      <td>5.72</td>\n",
       "      <td>56.46</td>\n",
       "      <td>50.68</td>\n",
       "      <td>365.26</td>\n",
       "      <td>1032.24</td>\n",
       "      <td>84.20</td>\n",
       "      <td>4.166667</td>\n",
       "    </tr>\n",
       "    <tr>\n",
       "      <td>2017-01-05</td>\n",
       "      <td>5.29</td>\n",
       "      <td>56.89</td>\n",
       "      <td>50.69</td>\n",
       "      <td>365.64</td>\n",
       "      <td>1032.24</td>\n",
       "      <td>85.75</td>\n",
       "      <td>4.166667</td>\n",
       "    </tr>\n",
       "    <tr>\n",
       "      <td>2017-01-06</td>\n",
       "      <td>5.50</td>\n",
       "      <td>57.10</td>\n",
       "      <td>49.77</td>\n",
       "      <td>365.45</td>\n",
       "      <td>1032.24</td>\n",
       "      <td>84.75</td>\n",
       "      <td>4.166667</td>\n",
       "    </tr>\n",
       "  </tbody>\n",
       "</table>\n",
       "</div>"
      ],
      "text/plain": [
       "            carbon_price  oil_price  gas_price  stock_market_index_level  \\\n",
       "Date                                                                       \n",
       "2017-01-02          6.12      56.82      49.45                    363.18   \n",
       "2017-01-03          5.43      55.47      49.45                    365.71   \n",
       "2017-01-04          5.72      56.46      50.68                    365.26   \n",
       "2017-01-05          5.29      56.89      50.69                    365.64   \n",
       "2017-01-06          5.50      57.10      49.77                    365.45   \n",
       "\n",
       "            energy_price  coal_price    signal  \n",
       "Date                                            \n",
       "2017-01-02       1032.24       82.50  4.166667  \n",
       "2017-01-03       1032.24       82.50  4.166667  \n",
       "2017-01-04       1032.24       84.20  4.166667  \n",
       "2017-01-05       1032.24       85.75  4.166667  \n",
       "2017-01-06       1032.24       84.75  4.166667  "
      ]
     },
     "execution_count": 13,
     "metadata": {},
     "output_type": "execute_result"
    }
   ],
   "source": [
    "df.head()"
   ]
  },
  {
   "cell_type": "markdown",
   "metadata": {},
   "source": [
    "## Stationarity checks"
   ]
  },
  {
   "cell_type": "code",
   "execution_count": 14,
   "metadata": {},
   "outputs": [
    {
     "name": "stdout",
     "output_type": "stream",
     "text": [
      "Variable: carbon_price is 1-order integrated (log difference)!\n",
      "Variable: oil_price is 1-order integrated (log difference)!\n",
      "Variable: gas_price is 1-order integrated (log difference)!\n",
      "Variable: stock_market_index_level is 1-order integrated (log difference)!\n",
      "Variable: energy_price is 1-order integrated (log difference)!\n",
      "Variable: coal_price is 1-order integrated (log difference)!\n",
      "Variable: signal is 0-order integrated (log difference)!\n"
     ]
    }
   ],
   "source": [
    "# Parameters\n",
    "stacioner_threshold = 0.01\n",
    "arno_cols = df.columns\n",
    "current_df = df\n",
    "\n",
    "# Check for stationarity\n",
    "df_stationer = diff_for_stationarity(df_input=current_df,cols=arno_cols,threshold=stacioner_threshold)"
   ]
  },
  {
   "cell_type": "code",
   "execution_count": 15,
   "metadata": {
    "scrolled": true
   },
   "outputs": [
    {
     "data": {
      "text/html": [
       "<div>\n",
       "<style scoped>\n",
       "    .dataframe tbody tr th:only-of-type {\n",
       "        vertical-align: middle;\n",
       "    }\n",
       "\n",
       "    .dataframe tbody tr th {\n",
       "        vertical-align: top;\n",
       "    }\n",
       "\n",
       "    .dataframe thead th {\n",
       "        text-align: right;\n",
       "    }\n",
       "</style>\n",
       "<table border=\"1\" class=\"dataframe\">\n",
       "  <thead>\n",
       "    <tr style=\"text-align: right;\">\n",
       "      <th></th>\n",
       "      <th>carbon_price</th>\n",
       "      <th>oil_price</th>\n",
       "      <th>gas_price</th>\n",
       "      <th>stock_market_index_level</th>\n",
       "      <th>energy_price</th>\n",
       "      <th>coal_price</th>\n",
       "      <th>signal</th>\n",
       "    </tr>\n",
       "    <tr>\n",
       "      <th>Date</th>\n",
       "      <th></th>\n",
       "      <th></th>\n",
       "      <th></th>\n",
       "      <th></th>\n",
       "      <th></th>\n",
       "      <th></th>\n",
       "      <th></th>\n",
       "    </tr>\n",
       "  </thead>\n",
       "  <tbody>\n",
       "    <tr>\n",
       "      <td>2017-01-02</td>\n",
       "      <td>NaN</td>\n",
       "      <td>NaN</td>\n",
       "      <td>NaN</td>\n",
       "      <td>NaN</td>\n",
       "      <td>NaN</td>\n",
       "      <td>NaN</td>\n",
       "      <td>4.166667</td>\n",
       "    </tr>\n",
       "    <tr>\n",
       "      <td>2017-01-03</td>\n",
       "      <td>-0.119623</td>\n",
       "      <td>-0.024046</td>\n",
       "      <td>0.000000</td>\n",
       "      <td>0.006942</td>\n",
       "      <td>0.000000</td>\n",
       "      <td>0.000000</td>\n",
       "      <td>4.166667</td>\n",
       "    </tr>\n",
       "    <tr>\n",
       "      <td>2017-01-04</td>\n",
       "      <td>0.052030</td>\n",
       "      <td>0.017690</td>\n",
       "      <td>0.024569</td>\n",
       "      <td>-0.001231</td>\n",
       "      <td>0.000000</td>\n",
       "      <td>0.020397</td>\n",
       "      <td>4.166667</td>\n",
       "    </tr>\n",
       "    <tr>\n",
       "      <td>2017-01-05</td>\n",
       "      <td>-0.078151</td>\n",
       "      <td>0.007587</td>\n",
       "      <td>0.000197</td>\n",
       "      <td>0.001040</td>\n",
       "      <td>0.000000</td>\n",
       "      <td>0.018241</td>\n",
       "      <td>4.166667</td>\n",
       "    </tr>\n",
       "    <tr>\n",
       "      <td>2017-01-06</td>\n",
       "      <td>0.038930</td>\n",
       "      <td>0.003685</td>\n",
       "      <td>-0.018316</td>\n",
       "      <td>-0.000520</td>\n",
       "      <td>0.000000</td>\n",
       "      <td>-0.011730</td>\n",
       "      <td>4.166667</td>\n",
       "    </tr>\n",
       "    <tr>\n",
       "      <td>...</td>\n",
       "      <td>...</td>\n",
       "      <td>...</td>\n",
       "      <td>...</td>\n",
       "      <td>...</td>\n",
       "      <td>...</td>\n",
       "      <td>...</td>\n",
       "      <td>...</td>\n",
       "    </tr>\n",
       "    <tr>\n",
       "      <td>2021-04-07</td>\n",
       "      <td>-0.008646</td>\n",
       "      <td>0.006672</td>\n",
       "      <td>-0.020841</td>\n",
       "      <td>-0.002162</td>\n",
       "      <td>-0.017229</td>\n",
       "      <td>-0.021568</td>\n",
       "      <td>6.733333</td>\n",
       "    </tr>\n",
       "    <tr>\n",
       "      <td>2021-04-08</td>\n",
       "      <td>-0.008722</td>\n",
       "      <td>0.000633</td>\n",
       "      <td>-0.015973</td>\n",
       "      <td>0.005831</td>\n",
       "      <td>0.015196</td>\n",
       "      <td>-0.023530</td>\n",
       "      <td>6.933333</td>\n",
       "    </tr>\n",
       "    <tr>\n",
       "      <td>2021-04-09</td>\n",
       "      <td>0.004141</td>\n",
       "      <td>-0.003964</td>\n",
       "      <td>-0.007229</td>\n",
       "      <td>0.000847</td>\n",
       "      <td>-0.001271</td>\n",
       "      <td>0.005195</td>\n",
       "      <td>6.133333</td>\n",
       "    </tr>\n",
       "    <tr>\n",
       "      <td>2021-04-12</td>\n",
       "      <td>0.018875</td>\n",
       "      <td>0.005229</td>\n",
       "      <td>0.047509</td>\n",
       "      <td>-0.004562</td>\n",
       "      <td>-0.022387</td>\n",
       "      <td>0.011773</td>\n",
       "      <td>5.466667</td>\n",
       "    </tr>\n",
       "    <tr>\n",
       "      <td>2021-04-13</td>\n",
       "      <td>-0.014294</td>\n",
       "      <td>0.006144</td>\n",
       "      <td>-0.011050</td>\n",
       "      <td>0.001171</td>\n",
       "      <td>0.006413</td>\n",
       "      <td>0.007289</td>\n",
       "      <td>4.700000</td>\n",
       "    </tr>\n",
       "  </tbody>\n",
       "</table>\n",
       "<p>1104 rows × 7 columns</p>\n",
       "</div>"
      ],
      "text/plain": [
       "            carbon_price  oil_price  gas_price  stock_market_index_level  \\\n",
       "Date                                                                       \n",
       "2017-01-02           NaN        NaN        NaN                       NaN   \n",
       "2017-01-03     -0.119623  -0.024046   0.000000                  0.006942   \n",
       "2017-01-04      0.052030   0.017690   0.024569                 -0.001231   \n",
       "2017-01-05     -0.078151   0.007587   0.000197                  0.001040   \n",
       "2017-01-06      0.038930   0.003685  -0.018316                 -0.000520   \n",
       "...                  ...        ...        ...                       ...   \n",
       "2021-04-07     -0.008646   0.006672  -0.020841                 -0.002162   \n",
       "2021-04-08     -0.008722   0.000633  -0.015973                  0.005831   \n",
       "2021-04-09      0.004141  -0.003964  -0.007229                  0.000847   \n",
       "2021-04-12      0.018875   0.005229   0.047509                 -0.004562   \n",
       "2021-04-13     -0.014294   0.006144  -0.011050                  0.001171   \n",
       "\n",
       "            energy_price  coal_price    signal  \n",
       "Date                                            \n",
       "2017-01-02           NaN         NaN  4.166667  \n",
       "2017-01-03      0.000000    0.000000  4.166667  \n",
       "2017-01-04      0.000000    0.020397  4.166667  \n",
       "2017-01-05      0.000000    0.018241  4.166667  \n",
       "2017-01-06      0.000000   -0.011730  4.166667  \n",
       "...                  ...         ...       ...  \n",
       "2021-04-07     -0.017229   -0.021568  6.733333  \n",
       "2021-04-08      0.015196   -0.023530  6.933333  \n",
       "2021-04-09     -0.001271    0.005195  6.133333  \n",
       "2021-04-12     -0.022387    0.011773  5.466667  \n",
       "2021-04-13      0.006413    0.007289  4.700000  \n",
       "\n",
       "[1104 rows x 7 columns]"
      ]
     },
     "execution_count": 15,
     "metadata": {},
     "output_type": "execute_result"
    }
   ],
   "source": [
    "df_stationer"
   ]
  },
  {
   "cell_type": "code",
   "execution_count": 16,
   "metadata": {},
   "outputs": [],
   "source": [
    "# Drop first row after differencing the series\n",
    "df_stationer = df_stationer.dropna()"
   ]
  },
  {
   "cell_type": "code",
   "execution_count": 17,
   "metadata": {},
   "outputs": [
    {
     "data": {
      "image/png": "[encoded data removed]",
      "text/plain": [
       "<Figure size 432x288 with 1 Axes>"
      ]
     },
     "metadata": {
      "needs_background": "light"
     },
     "output_type": "display_data"
    }
   ],
   "source": [
    "plt.hist(df_stationer.carbon_price)\n",
    "plt.show()"
   ]
  },
  {
   "cell_type": "markdown",
   "metadata": {},
   "source": [
    "# Modelling"
   ]
  },
  {
   "cell_type": "code",
   "execution_count": 18,
   "metadata": {},
   "outputs": [],
   "source": [
    "results = {}"
   ]
  },
  {
   "cell_type": "code",
   "execution_count": 19,
   "metadata": {},
   "outputs": [
    {
     "name": "stdout",
     "output_type": "stream",
     "text": [
      "(883, 7)\n",
      "(220, 7)\n"
     ]
    }
   ],
   "source": [
    "# Create train-test sets\n",
    "n = len(df_stationer)\n",
    "testsize = 0.2\n",
    "\n",
    "test_obs = int(n*testsize)\n",
    "df_train, df_test = df_stationer[0:-test_obs], df_stationer[-test_obs:]\n",
    "\n",
    "# Check size\n",
    "print(df_train.shape)\n",
    "print(df_test.shape)\n",
    "\n",
    "# Be careful with time leakage!"
   ]
  },
  {
   "cell_type": "markdown",
   "metadata": {},
   "source": [
    "## ARMA(p,q)"
   ]
  },
  {
   "cell_type": "code",
   "execution_count": 20,
   "metadata": {},
   "outputs": [],
   "source": [
    "# Fit the model\n",
    "res = sm.tsa.arma_order_select_ic(df_train['carbon_price'], ic=[\"aic\", \"bic\",\"hqic\"], trend=\"nc\")"
   ]
  },
  {
   "cell_type": "code",
   "execution_count": 21,
   "metadata": {},
   "outputs": [
    {
     "name": "stdout",
     "output_type": "stream",
     "text": [
      "{'aic':              0            1            2\n",
      "0          NaN -3317.213661 -3315.622450\n",
      "1 -3315.385683 -3315.736433 -3313.760794\n",
      "2 -3315.265625 -3312.732084 -3313.528397\n",
      "3 -3313.631264 -3311.728070 -3312.044523\n",
      "4 -3311.700290 -3310.587710 -3310.069652, 'bic':              0            1            2\n",
      "0          NaN -3307.647011 -3301.272474\n",
      "1 -3305.819032 -3301.386457 -3294.627493\n",
      "2 -3300.915650 -3293.598783 -3289.611771\n",
      "3 -3294.497963 -3287.811444 -3283.344572\n",
      "4 -3287.783664 -3281.887759 -3276.586376, 'hqic':              0            1            2\n",
      "0          NaN -3313.555792 -3310.135645\n",
      "1 -3311.727813 -3310.249628 -3306.445055\n",
      "2 -3309.778821 -3305.416344 -3304.383723\n",
      "3 -3306.315525 -3302.583396 -3301.070914\n",
      "4 -3302.555616 -3299.614101 -3297.267109, 'aic_min_order': (0, 1), 'bic_min_order': (0, 1), 'hqic_min_order': (0, 1)}\n"
     ]
    }
   ],
   "source": [
    "print(res)"
   ]
  },
  {
   "cell_type": "code",
   "execution_count": 22,
   "metadata": {},
   "outputs": [],
   "source": [
    "# Parameters\n",
    "order = (0,1)\n",
    "\n",
    "# Initialise model\n",
    "arma_model = ARMA(df_train['carbon_price'],order)"
   ]
  },
  {
   "cell_type": "code",
   "execution_count": 23,
   "metadata": {},
   "outputs": [
    {
     "data": {
      "text/html": [
       "<table class=\"simpletable\">\n",
       "<caption>ARMA Model Results</caption>\n",
       "<tr>\n",
       "  <th>Dep. Variable:</th>   <td>carbon_price</td>   <th>  No. Observations:  </th>    <td>883</td>   \n",
       "</tr>\n",
       "<tr>\n",
       "  <th>Model:</th>            <td>ARMA(0, 1)</td>    <th>  Log Likelihood     </th> <td>1661.668</td> \n",
       "</tr>\n",
       "<tr>\n",
       "  <th>Method:</th>             <td>css-mle</td>     <th>  S.D. of innovations</th>   <td>0.037</td>  \n",
       "</tr>\n",
       "<tr>\n",
       "  <th>Date:</th>          <td>Sat, 23 Oct 2021</td> <th>  AIC                </th> <td>-3317.337</td>\n",
       "</tr>\n",
       "<tr>\n",
       "  <th>Time:</th>              <td>22:41:54</td>     <th>  BIC                </th> <td>-3302.987</td>\n",
       "</tr>\n",
       "<tr>\n",
       "  <th>Sample:</th>                <td>0</td>        <th>  HQIC               </th> <td>-3311.850</td>\n",
       "</tr>\n",
       "<tr>\n",
       "  <th></th>                       <td> </td>        <th>                     </th>     <td> </td>    \n",
       "</tr>\n",
       "</table>\n",
       "<table class=\"simpletable\">\n",
       "<tr>\n",
       "           <td></td>             <th>coef</th>     <th>std err</th>      <th>z</th>      <th>P>|z|</th>  <th>[0.025</th>    <th>0.975]</th>  \n",
       "</tr>\n",
       "<tr>\n",
       "  <th>const</th>              <td>    0.0015</td> <td>    0.001</td> <td>    1.461</td> <td> 0.144</td> <td>   -0.001</td> <td>    0.003</td>\n",
       "</tr>\n",
       "<tr>\n",
       "  <th>ma.L1.carbon_price</th> <td>   -0.1837</td> <td>    0.034</td> <td>   -5.375</td> <td> 0.000</td> <td>   -0.251</td> <td>   -0.117</td>\n",
       "</tr>\n",
       "</table>\n",
       "<table class=\"simpletable\">\n",
       "<caption>Roots</caption>\n",
       "<tr>\n",
       "    <td></td>   <th>            Real</th>  <th>         Imaginary</th> <th>         Modulus</th>  <th>        Frequency</th>\n",
       "</tr>\n",
       "<tr>\n",
       "  <th>MA.1</th> <td>           5.4424</td> <td>          +0.0000j</td> <td>           5.4424</td> <td>           0.0000</td>\n",
       "</tr>\n",
       "</table>"
      ],
      "text/plain": [
       "<class 'statsmodels.iolib.summary.Summary'>\n",
       "\"\"\"\n",
       "                              ARMA Model Results                              \n",
       "==============================================================================\n",
       "Dep. Variable:           carbon_price   No. Observations:                  883\n",
       "Model:                     ARMA(0, 1)   Log Likelihood                1661.668\n",
       "Method:                       css-mle   S.D. of innovations              0.037\n",
       "Date:                Sat, 23 Oct 2021   AIC                          -3317.337\n",
       "Time:                        22:41:54   BIC                          -3302.987\n",
       "Sample:                             0   HQIC                         -3311.850\n",
       "                                                                              \n",
       "======================================================================================\n",
       "                         coef    std err          z      P>|z|      [0.025      0.975]\n",
       "--------------------------------------------------------------------------------------\n",
       "const                  0.0015      0.001      1.461      0.144      -0.001       0.003\n",
       "ma.L1.carbon_price    -0.1837      0.034     -5.375      0.000      -0.251      -0.117\n",
       "                                    Roots                                    \n",
       "=============================================================================\n",
       "                  Real          Imaginary           Modulus         Frequency\n",
       "-----------------------------------------------------------------------------\n",
       "MA.1            5.4424           +0.0000j            5.4424            0.0000\n",
       "-----------------------------------------------------------------------------\n",
       "\"\"\""
      ]
     },
     "execution_count": 23,
     "metadata": {},
     "output_type": "execute_result"
    }
   ],
   "source": [
    "# Fit the model with the selected order\n",
    "arma_model_fitted = arma_model.fit()\n",
    "arma_model_fitted.summary()"
   ]
  },
  {
   "cell_type": "code",
   "execution_count": 24,
   "metadata": {},
   "outputs": [
    {
     "data": {
      "image/png": "[encoded data removed]",
      "text/plain": [
       "<Figure size 432x288 with 1 Axes>"
      ]
     },
     "metadata": {
      "needs_background": "light"
     },
     "output_type": "display_data"
    }
   ],
   "source": [
    "# Compare prediction and actual\n",
    "arma_y_pred = arma_model.predict(params = arma_model_fitted.params)\n",
    "y_true = df_train['carbon_price']\n",
    "\n",
    "plt.scatter(y_true,arma_y_pred)\n",
    "plt.show()"
   ]
  },
  {
   "cell_type": "code",
   "execution_count": 25,
   "metadata": {},
   "outputs": [
    {
     "data": {
      "text/plain": [
       "-0.18374364982015648"
      ]
     },
     "execution_count": 25,
     "metadata": {},
     "output_type": "execute_result"
    }
   ],
   "source": [
    "arma_model_fitted.params[1]"
   ]
  },
  {
   "cell_type": "code",
   "execution_count": 26,
   "metadata": {},
   "outputs": [
    {
     "data": {
      "text/plain": [
       "-0.02269848651524193"
      ]
     },
     "execution_count": 26,
     "metadata": {},
     "output_type": "execute_result"
    }
   ],
   "source": [
    "df_test['carbon_price'].values[1]"
   ]
  },
  {
   "cell_type": "code",
   "execution_count": 27,
   "metadata": {},
   "outputs": [
    {
     "data": {
      "image/png": "[encoded data removed]",
      "text/plain": [
       "<Figure size 432x288 with 1 Axes>"
      ]
     },
     "metadata": {
      "needs_background": "light"
     },
     "output_type": "display_data"
    }
   ],
   "source": [
    "# Compare prediction and actual\n",
    "arma_y_pred_test = []\n",
    "for i in range(0,len(df_test)):\n",
    "    if i == 0:\n",
    "        pred = arma_model_fitted.params[1]*df_train['carbon_price'].values[-1] + arma_model_fitted.params[0]\n",
    "    else:\n",
    "        pred = arma_model_fitted.params[1]*df_test['carbon_price'].values[i-1] + arma_model_fitted.params[0]\n",
    "        \n",
    "    arma_y_pred_test.append(pred)\n",
    "\n",
    "#arma_y_pred_test = arma_model_fitted.forecast(steps=len(df_test))\n",
    "y_test = df_test['carbon_price']\n",
    "\n",
    "plt.scatter(y_test,arma_y_pred_test)\n",
    "plt.show()"
   ]
  },
  {
   "cell_type": "code",
   "execution_count": 28,
   "metadata": {},
   "outputs": [
    {
     "data": {
      "image/png": "[encoded data removed]",
      "text/plain": [
       "<Figure size 432x288 with 1 Axes>"
      ]
     },
     "metadata": {
      "needs_background": "light"
     },
     "output_type": "display_data"
    }
   ],
   "source": [
    "# Compare prediction and actual in the test set\n",
    "plt.plot(np.asarray(arma_y_pred_test),label=f'ARMA{order} model prediction')\n",
    "plt.plot(np.asarray(y_test),label='True values')\n",
    "plt.xlabel('Time')\n",
    "plt.ylabel('Daily price change')\n",
    "#plt.yscale('log')\n",
    "plt.title('ARMA model predictions on the test set')\n",
    "plt.legend(loc='upper left')\n",
    "plt.savefig('../Outputs/daily_pred_arma.pdf')\n",
    "plt.show()"
   ]
  },
  {
   "cell_type": "code",
   "execution_count": 29,
   "metadata": {},
   "outputs": [
    {
     "data": {
      "text/plain": [
       "0.0007402748649233892"
      ]
     },
     "execution_count": 29,
     "metadata": {},
     "output_type": "execute_result"
    }
   ],
   "source": [
    "mean_squared_error(arma_y_pred_test, y_test)"
   ]
  },
  {
   "cell_type": "code",
   "execution_count": 30,
   "metadata": {},
   "outputs": [],
   "source": [
    "results['arma_pq_mse'] = mean_squared_error(arma_y_pred_test, y_test)"
   ]
  },
  {
   "cell_type": "markdown",
   "metadata": {},
   "source": [
    "## Random forest"
   ]
  },
  {
   "cell_type": "code",
   "execution_count": 31,
   "metadata": {},
   "outputs": [],
   "source": [
    "rf_model = RandomForestRegressor(max_depth=5, n_estimators=30, random_state=0)"
   ]
  },
  {
   "cell_type": "code",
   "execution_count": 32,
   "metadata": {},
   "outputs": [],
   "source": [
    "X_train = df_train.shift(1).iloc[1:,:].values\n",
    "\n",
    "y_train = df_train['carbon_price'].iloc[1:]\n",
    "\n",
    "X_test = df_test.shift(1).iloc[1:,:].values\n",
    "\n",
    "y_test = df_test['carbon_price'].iloc[1:]"
   ]
  },
  {
   "cell_type": "code",
   "execution_count": 33,
   "metadata": {},
   "outputs": [
    {
     "data": {
      "text/plain": [
       "RandomForestRegressor(bootstrap=True, criterion='mse', max_depth=5,\n",
       "                      max_features='auto', max_leaf_nodes=None,\n",
       "                      min_impurity_decrease=0.0, min_impurity_split=None,\n",
       "                      min_samples_leaf=1, min_samples_split=2,\n",
       "                      min_weight_fraction_leaf=0.0, n_estimators=30,\n",
       "                      n_jobs=None, oob_score=False, random_state=0, verbose=0,\n",
       "                      warm_start=False)"
      ]
     },
     "execution_count": 33,
     "metadata": {},
     "output_type": "execute_result"
    }
   ],
   "source": [
    "# Fit the model\n",
    "rf_model.fit(X_train, y_train)"
   ]
  },
  {
   "cell_type": "code",
   "execution_count": 34,
   "metadata": {},
   "outputs": [],
   "source": [
    "# Predict with the model\n",
    "rf_y_pred = rf_model.predict(X_test)"
   ]
  },
  {
   "cell_type": "code",
   "execution_count": 35,
   "metadata": {},
   "outputs": [
    {
     "data": {
      "image/png": "[encoded data removed]",
      "text/plain": [
       "<Figure size 432x288 with 1 Axes>"
      ]
     },
     "metadata": {
      "needs_background": "light"
     },
     "output_type": "display_data"
    }
   ],
   "source": [
    "# Compare prediction and actual in the test set\n",
    "plt.scatter(y_test,rf_y_pred)\n",
    "plt.show()"
   ]
  },
  {
   "cell_type": "code",
   "execution_count": 36,
   "metadata": {},
   "outputs": [
    {
     "data": {
      "image/png": "[encoded data removed]",
      "text/plain": [
       "<Figure size 432x288 with 1 Axes>"
      ]
     },
     "metadata": {
      "needs_background": "light"
     },
     "output_type": "display_data"
    }
   ],
   "source": [
    "# Compare prediction and actual in the test set\n",
    "plt.plot(np.asarray(rf_y_pred),label='RF model prediction')\n",
    "plt.plot(np.asarray(y_test),label='True values')\n",
    "plt.xlabel('Time')\n",
    "plt.ylabel('Daily price change')\n",
    "#plt.yscale('log')\n",
    "plt.title('Random Forest model predictions on the test set')\n",
    "plt.legend(loc='upper left')\n",
    "plt.savefig('../Outputs/daily_pred_rf.pdf')\n",
    "plt.show()"
   ]
  },
  {
   "cell_type": "code",
   "execution_count": 37,
   "metadata": {},
   "outputs": [
    {
     "data": {
      "text/plain": [
       "0.0007574543045053425"
      ]
     },
     "execution_count": 37,
     "metadata": {},
     "output_type": "execute_result"
    }
   ],
   "source": [
    "mean_squared_error(rf_y_pred, y_test)"
   ]
  },
  {
   "cell_type": "code",
   "execution_count": 38,
   "metadata": {},
   "outputs": [],
   "source": [
    "results['random_forest_mse'] = mean_squared_error(rf_y_pred, y_test)"
   ]
  },
  {
   "cell_type": "markdown",
   "metadata": {},
   "source": [
    "## Granger causility"
   ]
  },
  {
   "cell_type": "code",
   "execution_count": 39,
   "metadata": {},
   "outputs": [
    {
     "name": "stdout",
     "output_type": "stream",
     "text": [
      "\n",
      "Granger Causality\n",
      "number of lags (no zero) 1\n",
      "ssr based F test:         F=0.2795  , p=0.5971  , df_denom=1099, df_num=1\n",
      "ssr based chi2 test:   chi2=0.2803  , p=0.5965  , df=1\n",
      "likelihood ratio test: chi2=0.2802  , p=0.5966  , df=1\n",
      "parameter F test:         F=0.2795  , p=0.5971  , df_denom=1099, df_num=1\n",
      "\n",
      "Granger Causality\n",
      "number of lags (no zero) 2\n",
      "ssr based F test:         F=1.5811  , p=0.2062  , df_denom=1096, df_num=2\n",
      "ssr based chi2 test:   chi2=3.1766  , p=0.2043  , df=2\n",
      "likelihood ratio test: chi2=3.1721  , p=0.2047  , df=2\n",
      "parameter F test:         F=1.5811  , p=0.2062  , df_denom=1096, df_num=2\n",
      "\n",
      "Granger Causality\n",
      "number of lags (no zero) 3\n",
      "ssr based F test:         F=4.5688  , p=0.0035  , df_denom=1093, df_num=3\n",
      "ssr based chi2 test:   chi2=13.7942 , p=0.0032  , df=3\n",
      "likelihood ratio test: chi2=13.7084 , p=0.0033  , df=3\n",
      "parameter F test:         F=4.5688  , p=0.0035  , df_denom=1093, df_num=3\n",
      "\n",
      "Granger Causality\n",
      "number of lags (no zero) 4\n",
      "ssr based F test:         F=3.9953  , p=0.0032  , df_denom=1090, df_num=4\n",
      "ssr based chi2 test:   chi2=16.1131 , p=0.0029  , df=4\n",
      "likelihood ratio test: chi2=15.9961 , p=0.0030  , df=4\n",
      "parameter F test:         F=3.9953  , p=0.0032  , df_denom=1090, df_num=4\n",
      "\n",
      "Granger Causality\n",
      "number of lags (no zero) 5\n",
      "ssr based F test:         F=3.7050  , p=0.0025  , df_denom=1087, df_num=5\n",
      "ssr based chi2 test:   chi2=18.7127 , p=0.0022  , df=5\n",
      "likelihood ratio test: chi2=18.5550 , p=0.0023  , df=5\n",
      "parameter F test:         F=3.7050  , p=0.0025  , df_denom=1087, df_num=5\n"
     ]
    }
   ],
   "source": [
    " gc_res = grangercausalitytests(df_stationer[[ 'carbon_price', 'oil_price']], 5)"
   ]
  },
  {
   "cell_type": "code",
   "execution_count": 40,
   "metadata": {},
   "outputs": [
    {
     "name": "stdout",
     "output_type": "stream",
     "text": [
      "                                 OLS Regression Results                                \n",
      "=======================================================================================\n",
      "Dep. Variable:           carbon_price   R-squared (uncentered):                   0.132\n",
      "Model:                            OLS   Adj. R-squared (uncentered):              0.127\n",
      "Method:                 Least Squares   F-statistic:                              27.73\n",
      "Date:                Sat, 23 Oct 2021   Prob (F-statistic):                    6.24e-31\n",
      "Time:                        22:41:55   Log-Likelihood:                          2186.9\n",
      "No. Observations:                1103   AIC:                                     -4362.\n",
      "Df Residuals:                    1097   BIC:                                     -4332.\n",
      "Df Model:                           6                                                  \n",
      "Covariance Type:            nonrobust                                                  \n",
      "============================================================================================\n",
      "                               coef    std err          t      P>|t|      [0.025      0.975]\n",
      "--------------------------------------------------------------------------------------------\n",
      "oil_price                    0.1523      0.040      3.778      0.000       0.073       0.231\n",
      "gas_price                    0.2092      0.027      7.685      0.000       0.156       0.263\n",
      "stock_market_index_level     0.4363      0.132      3.304      0.001       0.177       0.695\n",
      "energy_price                 0.1722      0.090      1.910      0.056      -0.005       0.349\n",
      "coal_price                   0.1247      0.066      1.900      0.058      -0.004       0.254\n",
      "signal                       0.0003      0.000      1.424      0.155      -0.000       0.001\n",
      "==============================================================================\n",
      "Omnibus:                      112.188   Durbin-Watson:                   2.293\n",
      "Prob(Omnibus):                  0.000   Jarque-Bera (JB):              807.053\n",
      "Skew:                          -0.053   Prob(JB):                    5.63e-176\n",
      "Kurtosis:                       7.189   Cond. No.                         613.\n",
      "==============================================================================\n",
      "\n",
      "Warnings:\n",
      "[1] Standard Errors assume that the covariance matrix of the errors is correctly specified.\n"
     ]
    }
   ],
   "source": [
    "# Simple OLS regression\n",
    "mod = sm.OLS( df_stationer[ 'carbon_price'], df_stationer[ [ 'oil_price', 'gas_price', 'stock_market_index_level',\n",
    "       'energy_price', 'coal_price', 'signal'] ] )\n",
    "\n",
    "res = mod.fit()\n",
    "print(res.summary())"
   ]
  },
  {
   "cell_type": "code",
   "execution_count": 41,
   "metadata": {},
   "outputs": [],
   "source": [
    "results['ols_adj_r2'] = res.rsquared_adj"
   ]
  },
  {
   "cell_type": "code",
   "execution_count": 42,
   "metadata": {
    "scrolled": true
   },
   "outputs": [
    {
     "data": {
      "text/plain": [
       "{'arma_pq_mse': 0.0007402748649233892,\n",
       " 'random_forest_mse': 0.0007574543045053425,\n",
       " 'ols_adj_r2': 0.12693119009581844}"
      ]
     },
     "execution_count": 42,
     "metadata": {},
     "output_type": "execute_result"
    }
   ],
   "source": [
    "results"
   ]
  },
  {
   "cell_type": "code",
   "execution_count": 43,
   "metadata": {},
   "outputs": [
    {
     "name": "stdout",
     "output_type": "stream",
     "text": [
      "            const  carbon_price_lag1  oil_price_lag1  gas_price_lag1  \\\n",
      "Date                                                                   \n",
      "2021-04-07    1.0           0.040926        0.009448        0.000000   \n",
      "2021-04-08    1.0          -0.008646        0.006672       -0.020841   \n",
      "2021-04-09    1.0          -0.008722        0.000633       -0.015973   \n",
      "2021-04-12    1.0           0.004141       -0.003964       -0.007229   \n",
      "2021-04-13    1.0           0.018875        0.005229        0.047509   \n",
      "\n",
      "            stock_market_index_level_lag1  energy_price_lag1  coal_price_lag1  \\\n",
      "Date                                                                            \n",
      "2021-04-07                       0.000000           0.000000         0.001423   \n",
      "2021-04-08                      -0.002162          -0.017229        -0.021568   \n",
      "2021-04-09                       0.005831           0.015196        -0.023530   \n",
      "2021-04-12                       0.000847          -0.001271         0.005195   \n",
      "2021-04-13                      -0.004562          -0.022387         0.011773   \n",
      "\n",
      "            signal_lag1  \n",
      "Date                     \n",
      "2021-04-07     6.633333  \n",
      "2021-04-08     6.733333  \n",
      "2021-04-09     6.933333  \n",
      "2021-04-12     6.133333  \n",
      "2021-04-13     5.466667  \n",
      "                            OLS Regression Results                            \n",
      "==============================================================================\n",
      "Dep. Variable:           carbon_price   R-squared:                       0.033\n",
      "Model:                            OLS   Adj. R-squared:                  0.027\n",
      "Method:                 Least Squares   F-statistic:                     5.388\n",
      "Date:                Sat, 23 Oct 2021   Prob (F-statistic):           4.37e-06\n",
      "Time:                        22:41:55   Log-Likelihood:                 2132.5\n",
      "No. Observations:                1102   AIC:                            -4249.\n",
      "Df Residuals:                    1094   BIC:                            -4209.\n",
      "Df Model:                           7                                         \n",
      "Covariance Type:            nonrobust                                         \n",
      "=================================================================================================\n",
      "                                    coef    std err          t      P>|t|      [0.025      0.975]\n",
      "-------------------------------------------------------------------------------------------------\n",
      "const                             0.0058      0.008      0.737      0.461      -0.010       0.021\n",
      "carbon_price_lag1                -0.1630      0.032     -5.140      0.000      -0.225      -0.101\n",
      "oil_price_lag1                   -0.0155      0.043     -0.365      0.715      -0.099       0.068\n",
      "gas_price_lag1                    0.0010      0.029      0.036      0.972      -0.057       0.059\n",
      "stock_market_index_level_lag1    -0.0406      0.139     -0.292      0.771      -0.314       0.233\n",
      "energy_price_lag1                 0.0319      0.095      0.337      0.737      -0.154       0.218\n",
      "coal_price_lag1                  -0.1225      0.069     -1.774      0.076      -0.258       0.013\n",
      "signal_lag1                      -0.0009      0.002     -0.468      0.640      -0.005       0.003\n",
      "==============================================================================\n",
      "Omnibus:                      110.935   Durbin-Watson:                   2.008\n",
      "Prob(Omnibus):                  0.000   Jarque-Bera (JB):              748.868\n",
      "Skew:                          -0.126   Prob(JB):                    2.43e-163\n",
      "Kurtosis:                       7.031   Cond. No.                         631.\n",
      "==============================================================================\n",
      "\n",
      "Warnings:\n",
      "[1] Standard Errors assume that the covariance matrix of the errors is correctly specified.\n"
     ]
    }
   ],
   "source": [
    "# Regression with lagged values\n",
    "X = pd.DataFrame( index = df_stationer.index )\n",
    "lag = 1\n",
    "for col in df_stationer.columns:\n",
    "    variable_name = col + f'_lag{lag}'\n",
    "    X[ variable_name ] = df_stationer[ col ].shift( lag ) \n",
    "\n",
    "X = sm.add_constant(X)\n",
    "print( X.tail() )\n",
    "y = df_stationer.loc[ :, 'carbon_price' ]\n",
    "\n",
    "\n",
    "model = sm.OLS( y, X, missing='drop' )\n",
    "result = model.fit()\n",
    "print( result.summary() )"
   ]
  },
  {
   "cell_type": "code",
   "execution_count": 44,
   "metadata": {},
   "outputs": [
    {
     "data": {
      "text/plain": [
       "{'arma_pq_mse': 0.0007402748649233892,\n",
       " 'random_forest_mse': 0.0007574543045053425,\n",
       " 'ols_adj_r2': 0.12693119009581844,\n",
       " 'ols_adj_r2_lag1': 0.027138138054692673}"
      ]
     },
     "execution_count": 44,
     "metadata": {},
     "output_type": "execute_result"
    }
   ],
   "source": [
    "results[f'ols_adj_r2_lag{lag}'] = result.rsquared_adj\n",
    "\n",
    "results"
   ]
  },
  {
   "cell_type": "code",
   "execution_count": 45,
   "metadata": {},
   "outputs": [],
   "source": [
    "# Define forward selected regression model\n",
    "def forward_selected( df, response, lags ):\n",
    "    \"\"\"Linear model designed by forward selection.\n",
    "\n",
    "    Parameters:\n",
    "    -----------\n",
    "    data : pandas DataFrame with all possible predictors and response\n",
    "\n",
    "    response: string, name of response column in data\n",
    "    \n",
    "    lags: integer, number of lags used\n",
    "\n",
    "    Returns:\n",
    "    --------\n",
    "    model: an \"optimal\" fitted statsmodels linear model\n",
    "           with an intercept\n",
    "           selected by forward selection\n",
    "           evaluated by adjusted R-squared\n",
    "    \"\"\"\n",
    "    data = df\n",
    "    for lag in range( 1, lags + 1 ):\n",
    "        lag_data = df.shift( lag )\n",
    "        lag_data.columns = [ str( col ) + f'_lag{ lag }' for col in lag_data.columns ]\n",
    "        data = pd.concat( [ data, lag_data ], axis = 1 )\n",
    "    \n",
    "    # Add constant\n",
    "    # data = sm.add_constant( data )\n",
    "    remaining = set( data.columns )\n",
    "\n",
    "    remaining.difference_update(df.columns)\n",
    "    selected = []\n",
    "    current_score, best_new_score = 0.0, 0.0\n",
    "    while remaining and current_score == best_new_score:\n",
    "        scores_with_candidates = []\n",
    "        for candidate in remaining:\n",
    "            formula = \"{} ~ {} + 1\".format(response,\n",
    "                                           ' + '.join(sorted(selected + [candidate])))\n",
    "            score = smf.ols(formula, data).fit().rsquared_adj\n",
    "            scores_with_candidates.append((score, candidate))\n",
    "        scores_with_candidates.sort()\n",
    "        best_new_score, best_candidate = scores_with_candidates.pop()\n",
    "        if current_score < best_new_score:\n",
    "            remaining.remove(best_candidate)\n",
    "            selected.append(best_candidate)\n",
    "            current_score = best_new_score\n",
    "    formula = \"{} ~ {} + 1\".format(response,\n",
    "                                   ' + '.join(sorted(selected)))\n",
    "    model = smf.ols(formula, data).fit()\n",
    "    return model"
   ]
  },
  {
   "cell_type": "code",
   "execution_count": 46,
   "metadata": {},
   "outputs": [
    {
     "name": "stdout",
     "output_type": "stream",
     "text": [
      "carbon_price ~ carbon_price_lag1 + carbon_price_lag2 + carbon_price_lag4 + carbon_price_lag5 + coal_price_lag1 + coal_price_lag2 + coal_price_lag4 + energy_price_lag3 + energy_price_lag5 + gas_price_lag3 + oil_price_lag3 + stock_market_index_level_lag2 + stock_market_index_level_lag3 + stock_market_index_level_lag4 + 1\n",
      "                            OLS Regression Results                            \n",
      "==============================================================================\n",
      "Dep. Variable:           carbon_price   R-squared:                       0.077\n",
      "Model:                            OLS   Adj. R-squared:                  0.065\n",
      "Method:                 Least Squares   F-statistic:                     6.436\n",
      "Date:                Sat, 23 Oct 2021   Prob (F-statistic):           1.38e-12\n",
      "Time:                        22:42:09   Log-Likelihood:                 2152.9\n",
      "No. Observations:                1098   AIC:                            -4276.\n",
      "Df Residuals:                    1083   BIC:                            -4201.\n",
      "Df Model:                          14                                         \n",
      "Covariance Type:            nonrobust                                         \n",
      "=================================================================================================\n",
      "                                    coef    std err          t      P>|t|      [0.025      0.975]\n",
      "-------------------------------------------------------------------------------------------------\n",
      "Intercept                         0.0023      0.001      2.177      0.030       0.000       0.004\n",
      "carbon_price_lag1                -0.1778      0.030     -5.899      0.000      -0.237      -0.119\n",
      "carbon_price_lag2                -0.0651      0.031     -2.110      0.035      -0.126      -0.005\n",
      "carbon_price_lag4                -0.0345      0.031     -1.121      0.263      -0.095       0.026\n",
      "carbon_price_lag5                -0.0755      0.030     -2.510      0.012      -0.135      -0.016\n",
      "coal_price_lag1                  -0.0989      0.067     -1.487      0.137      -0.230       0.032\n",
      "coal_price_lag2                  -0.0759      0.067     -1.126      0.261      -0.208       0.056\n",
      "coal_price_lag4                   0.1854      0.067      2.781      0.006       0.055       0.316\n",
      "energy_price_lag3                 0.2095      0.093      2.244      0.025       0.026       0.393\n",
      "energy_price_lag5                 0.0741      0.073      1.012      0.312      -0.070       0.218\n",
      "gas_price_lag3                   -0.0652      0.028     -2.349      0.019      -0.120      -0.011\n",
      "oil_price_lag3                    0.1425      0.042      3.429      0.001       0.061       0.224\n",
      "stock_market_index_level_lag2     0.2528      0.103      2.460      0.014       0.051       0.454\n",
      "stock_market_index_level_lag3    -0.2475      0.137     -1.802      0.072      -0.517       0.022\n",
      "stock_market_index_level_lag4     0.3280      0.103      3.182      0.002       0.126       0.530\n",
      "==============================================================================\n",
      "Omnibus:                       99.305   Durbin-Watson:                   2.018\n",
      "Prob(Omnibus):                  0.000   Jarque-Bera (JB):              616.623\n",
      "Skew:                           0.002   Prob(JB):                    1.26e-134\n",
      "Kurtosis:                       6.671   Cond. No.                         148.\n",
      "==============================================================================\n",
      "\n",
      "Warnings:\n",
      "[1] Standard Errors assume that the covariance matrix of the errors is correctly specified.\n",
      "Intercept                        0.002276\n",
      "carbon_price_lag1               -0.177767\n",
      "carbon_price_lag2               -0.065087\n",
      "carbon_price_lag4               -0.034464\n",
      "carbon_price_lag5               -0.075545\n",
      "coal_price_lag1                 -0.098949\n",
      "coal_price_lag2                 -0.075898\n",
      "coal_price_lag4                  0.185364\n",
      "energy_price_lag3                0.209470\n",
      "energy_price_lag5                0.074079\n",
      "gas_price_lag3                  -0.065179\n",
      "oil_price_lag3                   0.142531\n",
      "stock_market_index_level_lag2    0.252765\n",
      "stock_market_index_level_lag3   -0.247540\n",
      "stock_market_index_level_lag4    0.327971\n",
      "dtype: float64\n"
     ]
    }
   ],
   "source": [
    "lags = 5\n",
    "response = 'carbon_price'\n",
    "model = forward_selected( df_stationer, response, lags )\n",
    "\n",
    "print( model.model.formula )\n",
    "\n",
    "print( model.summary() )\n",
    "\n",
    "print( model.params )"
   ]
  },
  {
   "cell_type": "code",
   "execution_count": 47,
   "metadata": {},
   "outputs": [
    {
     "data": {
      "text/plain": [
       "{'arma_pq_mse': 0.0007402748649233892,\n",
       " 'random_forest_mse': 0.0007574543045053425,\n",
       " 'ols_adj_r2': 0.12693119009581844,\n",
       " 'ols_adj_r2_lag1': 0.027138138054692673,\n",
       " 'fs_ols_adj_r2': 0.06487687530878328}"
      ]
     },
     "execution_count": 47,
     "metadata": {},
     "output_type": "execute_result"
    }
   ],
   "source": [
    "results[f'fs_ols_adj_r2'] = model.rsquared_adj\n",
    "\n",
    "results"
   ]
  },
  {
   "cell_type": "code",
   "execution_count": 48,
   "metadata": {},
   "outputs": [],
   "source": [
    "# Rolling OLS\n",
    "def RollingOLS( data, y, X, window ):\n",
    "    results = {}\n",
    "    pvalues = pd.DataFrame( columns = X.columns, index = data.index[ window:data.shape[ 0 ] ] )\n",
    "    coefs = pd.DataFrame( columns = X.columns, index = data.index[ window:data.shape[ 0 ] ] )\n",
    "\n",
    "    for end_date in range( window, data.shape[ 0 ] ):\n",
    "        start_date = end_date - window + 1\n",
    "        model = sm.OLS( y.iloc[ start_date:end_date ], X.iloc[ start_date:end_date, : ], missing='drop' )\n",
    "        result = model.fit()\n",
    "        # print( result.summary() )\n",
    "        results[ data.index[ end_date ] ] = result  \n",
    "        pvalues.iloc[ start_date - 1, : ] = result.pvalues\n",
    "        coefs.iloc[ start_date - 1, : ] = result.params\n",
    "\n",
    "    return results, pvalues, coefs\n",
    "\n"
   ]
  },
  {
   "cell_type": "code",
   "execution_count": 49,
   "metadata": {},
   "outputs": [
    {
     "name": "stdout",
     "output_type": "stream",
     "text": [
      "               const carbon_price_lag1 oil_price_lag1 gas_price_lag1  \\\n",
      "Date                                                                   \n",
      "2017-10-11  0.529393       2.55868e-06       0.507468       0.195302   \n",
      "2017-10-12  0.517735       4.54232e-06        0.54034       0.211775   \n",
      "2017-10-13  0.464421       5.03716e-06       0.591482       0.194369   \n",
      "2017-10-16  0.491791       7.88014e-06       0.584934       0.191139   \n",
      "2017-10-17  0.459225       1.04215e-05       0.594298       0.207368   \n",
      "...              ...               ...            ...            ...   \n",
      "2021-04-07  0.175206         0.0818473       0.229205       0.178238   \n",
      "2021-04-08  0.235569          0.103987       0.217357       0.135415   \n",
      "2021-04-09  0.239026         0.0764353       0.198502       0.123323   \n",
      "2021-04-12  0.241348         0.0715598       0.219119       0.119174   \n",
      "2021-04-13  0.263829         0.0818185        0.22741       0.105456   \n",
      "\n",
      "           stock_market_index_level_lag1 energy_price_lag1 coal_price_lag1  \\\n",
      "Date                                                                         \n",
      "2017-10-11                      0.595462          0.681478       0.0760136   \n",
      "2017-10-12                       0.57934          0.789803         0.07301   \n",
      "2017-10-13                      0.562631          0.791661       0.0924957   \n",
      "2017-10-16                       0.55928          0.804403        0.080834   \n",
      "2017-10-17                      0.549951          0.803871        0.072053   \n",
      "...                                  ...               ...             ...   \n",
      "2021-04-07                      0.498153          0.949066        0.347885   \n",
      "2021-04-08                      0.478371          0.945908        0.337615   \n",
      "2021-04-09                      0.458501          0.913067        0.182791   \n",
      "2021-04-12                      0.462535          0.918732        0.193838   \n",
      "2021-04-13                      0.476647          0.920457        0.203736   \n",
      "\n",
      "           signal_lag1  \n",
      "Date                    \n",
      "2017-10-11    0.529393  \n",
      "2017-10-12    0.517735  \n",
      "2017-10-13    0.464421  \n",
      "2017-10-16    0.491791  \n",
      "2017-10-17    0.459225  \n",
      "...                ...  \n",
      "2021-04-07    0.353226  \n",
      "2021-04-08    0.430156  \n",
      "2021-04-09    0.426135  \n",
      "2021-04-12    0.420907  \n",
      "2021-04-13    0.465132  \n",
      "\n",
      "[903 rows x 8 columns]\n"
     ]
    }
   ],
   "source": [
    "rolling_ols_results, pvalues, coefs = RollingOLS( df_stationer, y, X, 200 )\n",
    "print( pvalues )"
   ]
  },
  {
   "cell_type": "code",
   "execution_count": 50,
   "metadata": {},
   "outputs": [
    {
     "data": {
      "text/plain": [
       "<matplotlib.axes._subplots.AxesSubplot at 0x1c203332d0>"
      ]
     },
     "execution_count": 50,
     "metadata": {},
     "output_type": "execute_result"
    },
    {
     "data": {
      "image/png": "[encoded data removed]",
      "text/plain": [
       "<Figure size 432x288 with 1 Axes>"
      ]
     },
     "metadata": {
      "needs_background": "light"
     },
     "output_type": "display_data"
    }
   ],
   "source": [
    "# Plot p values\n",
    "pvalues.plot.line()"
   ]
  },
  {
   "cell_type": "code",
   "execution_count": 51,
   "metadata": {},
   "outputs": [
    {
     "data": {
      "text/plain": [
       "<matplotlib.axes._subplots.AxesSubplot at 0x1c203cbb50>"
      ]
     },
     "execution_count": 51,
     "metadata": {},
     "output_type": "execute_result"
    },
    {
     "data": {
      "image/png": "[encoded data removed]",
      "text/plain": [
       "<Figure size 432x288 with 1 Axes>"
      ]
     },
     "metadata": {
      "needs_background": "light"
     },
     "output_type": "display_data"
    }
   ],
   "source": [
    "# Plot p values\n",
    "coefs.plot.line()"
   ]
  },
  {
   "cell_type": "markdown",
   "metadata": {},
   "source": [
    "# Export results"
   ]
  },
  {
   "cell_type": "code",
   "execution_count": 52,
   "metadata": {},
   "outputs": [
    {
     "data": {
      "text/plain": [
       "{'arma_pq_mse': 0.0007402748649233892,\n",
       " 'random_forest_mse': 0.0007574543045053425,\n",
       " 'ols_adj_r2': 0.12693119009581844,\n",
       " 'ols_adj_r2_lag1': 0.027138138054692673,\n",
       " 'fs_ols_adj_r2': 0.06487687530878328}"
      ]
     },
     "execution_count": 52,
     "metadata": {},
     "output_type": "execute_result"
    }
   ],
   "source": [
    "results"
   ]
  },
  {
   "cell_type": "code",
   "execution_count": 53,
   "metadata": {},
   "outputs": [],
   "source": [
    "results_df = pd.DataFrame(pd.Series(results)).T\n",
    "results_df.index = [signal_name]"
   ]
  },
  {
   "cell_type": "code",
   "execution_count": 54,
   "metadata": {},
   "outputs": [],
   "source": [
    "results_df.to_csv(f'../Data/regression_results/{signal_name}.csv')"
   ]
  },
  {
   "cell_type": "code",
   "execution_count": null,
   "metadata": {},
   "outputs": [],
   "source": []
  },
  {
   "cell_type": "markdown",
   "metadata": {},
   "source": [
    "# Support"
   ]
  },
  {
   "cell_type": "code",
   "execution_count": null,
   "metadata": {},
   "outputs": [],
   "source": []
  }
 ],
 "metadata": {
  "kernelspec": {
   "display_name": "Python 3",
   "language": "python",
   "name": "python3"
  },
  "language_info": {
   "codemirror_mode": {
    "name": "ipython",
    "version": 3
   },
   "file_extension": ".py",
   "mimetype": "text/x-python",
   "name": "python",
   "nbconvert_exporter": "python",
   "pygments_lexer": "ipython3",
   "version": "3.7.4"
  },
  "toc": {
   "base_numbering": 1,
   "nav_menu": {},
   "number_sections": true,
   "sideBar": true,
   "skip_h1_title": false,
   "title_cell": "Table of Contents",
   "title_sidebar": "Contents",
   "toc_cell": false,
   "toc_position": {},
   "toc_section_display": true,
   "toc_window_display": true
  }
 },
 "nbformat": 4,
 "nbformat_minor": 4
}
