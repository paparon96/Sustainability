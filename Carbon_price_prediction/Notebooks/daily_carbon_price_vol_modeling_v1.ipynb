{
 "cells": [
  {
   "cell_type": "markdown",
   "metadata": {},
   "source": [
    "# Import packages"
   ]
  },
  {
   "cell_type": "code",
   "execution_count": 1,
   "metadata": {},
   "outputs": [],
   "source": [
    "# loading packages\n",
    "import numpy as np\n",
    "import pandas as pd\n",
    "import matplotlib.pyplot as plt\n",
    "import os\n",
    "import seaborn as sns\n",
    "plt.rcParams['figure.dpi'] = 300\n",
    "\n",
    "import matplotlib.dates as mdates\n",
    "\n",
    "# ignoring warnings\n",
    "import warnings\n",
    "warnings.simplefilter(\"ignore\")"
   ]
  },
  {
   "cell_type": "code",
   "execution_count": 2,
   "metadata": {},
   "outputs": [],
   "source": [
    "import sklearn as sk\n",
    "import statsmodels.api as sm\n",
    "\n",
    "# Import Statsmodels\n",
    "from statsmodels.tsa.api import VAR\n",
    "from statsmodels.tsa.api import ARMA\n",
    "\n",
    "\n",
    "from statsmodels.tsa.stattools import adfuller\n",
    "from statsmodels.tools.eval_measures import rmse, aic\n",
    "from statsmodels.tsa.stattools import grangercausalitytests\n",
    "from statsmodels.tsa.vector_ar.vecm import coint_johansen\n",
    "from statsmodels.stats.stattools import durbin_watson\n",
    "\n",
    "from sklearn.metrics import r2_score,mean_squared_error\n",
    "from sklearn.linear_model import Lasso\n",
    "from sklearn.model_selection import GridSearchCV\n",
    "\n",
    "from sklearn.ensemble import RandomForestRegressor\n",
    "\n",
    "import copy"
   ]
  },
  {
   "cell_type": "markdown",
   "metadata": {},
   "source": [
    "# Custom functions"
   ]
  },
  {
   "cell_type": "code",
   "execution_count": 3,
   "metadata": {},
   "outputs": [],
   "source": [
    "def diff_for_stationarity(df_input,cols,threshold):\n",
    "    \n",
    "    \"\"\"Checks the series for stationarity then difference it until it is stationary\n",
    "    (with the given threshold)\"\"\"\n",
    "    \n",
    "    df = copy.deepcopy(df_input)\n",
    "    \n",
    "    \n",
    "    # Get length of DF\n",
    "    n = len(df)\n",
    "    \n",
    "    # Loop over columns of interest\n",
    "    for col in cols:\n",
    "        stationarity = False\n",
    "        series = list(df[col].astype(float))\n",
    "        linear_diff = False\n",
    "        \n",
    "        try:\n",
    "        \n",
    "            counter = 0\n",
    "\n",
    "\n",
    "\n",
    "            while not stationarity:\n",
    "\n",
    "                #print(counter)\n",
    "\n",
    "                # Run ADF test\n",
    "                adf_test = adfuller(series)\n",
    "                pval = adf_test[1]\n",
    "\n",
    "                if pval < threshold:\n",
    "                    stationarity = True\n",
    "\n",
    "                else:\n",
    "                    # Difference the series\n",
    "                    #series = [np.log(series[i]/series[i-1]) for i in range(1,n-counter)]\n",
    "                    series = [series[i]-series[i-1] for i in range(1,n-counter)]\n",
    "\n",
    "                    counter += 1\n",
    "                    \n",
    "        except:\n",
    "            \n",
    "            counter = 0\n",
    "            stationarity = False\n",
    "            series = list(df[col].astype(float))\n",
    "            linear_diff = True\n",
    "\n",
    "            while not stationarity:\n",
    "\n",
    "                #print(counter)\n",
    "\n",
    "                # Run ADF test\n",
    "                adf_test = adfuller(series)\n",
    "                pval = adf_test[1]\n",
    "\n",
    "                if pval < threshold:\n",
    "                    stationarity = True\n",
    "\n",
    "                elif counter>1:\n",
    "                    stationarity = True\n",
    "                    series = list(df[col].astype(float))\n",
    "                else:\n",
    "                    # Difference the series\n",
    "                    series = [series[i]-series[i-1] for i in range(1,n-counter)]\n",
    "\n",
    "                    counter += 1\n",
    "        \n",
    "        # Create final series and assign it back to the dataframe\n",
    "        final_series = [None]*counter + series\n",
    "        df[col] = final_series\n",
    "        \n",
    "        if linear_diff:\n",
    "            type_diff = \"linear difference\"\n",
    "        else:\n",
    "            type_diff = \"linear difference\"\n",
    "        \n",
    "        print(\"Variable: {} is {}-order integrated ({})!\".format(col,counter,type_diff))\n",
    "        \n",
    "        \n",
    "    return df"
   ]
  },
  {
   "cell_type": "markdown",
   "metadata": {},
   "source": [
    "# Import data"
   ]
  },
  {
   "cell_type": "code",
   "execution_count": 4,
   "metadata": {
    "scrolled": true
   },
   "outputs": [
    {
     "name": "stdout",
     "output_type": "stream",
     "text": [
      "            carbon_price  oil_price  gas_price  stock_market_index_level  hupx\n",
      "Date                                                                          \n",
      "2017-01-02          6.12        NaN       3.71                       NaN   NaN\n",
      "2017-01-03          5.43      52.36       3.41               3315.020020   NaN\n",
      "2017-01-04          5.72      53.26       3.42               3317.520020   NaN\n",
      "2017-01-05          5.29      53.77       3.42               3316.469971   NaN\n",
      "2017-01-06          5.50      53.98       3.38               3321.169922   NaN\n"
     ]
    }
   ],
   "source": [
    "df = pd.read_csv('../Data/merged_dataset.csv')\n",
    "\n",
    "df.set_index('Date',inplace=True)\n",
    "\n",
    "print(df.head())"
   ]
  },
  {
   "cell_type": "code",
   "execution_count": 7,
   "metadata": {},
   "outputs": [
    {
     "name": "stdout",
     "output_type": "stream",
     "text": [
      "            SMA_30\n",
      "SQLDATE           \n",
      "2020-01-06     NaN\n",
      "2020-01-07     NaN\n",
      "2020-01-08     NaN\n",
      "2020-01-12     NaN\n",
      "2020-01-13     NaN\n",
      "              SMA_30\n",
      "SQLDATE             \n",
      "2021-05-26  4.066667\n",
      "2021-05-28  4.100000\n",
      "2021-05-29  4.000000\n",
      "2021-05-31  4.033333\n",
      "2021-06-01  4.333333\n"
     ]
    }
   ],
   "source": [
    "news_df = pd.read_csv('../Data/carbon_news_mentions_sma_30.csv')\n",
    "\n",
    "news_df.set_index('SQLDATE',inplace=True)\n",
    "\n",
    "print(news_df.head())\n",
    "print(news_df.tail())"
   ]
  },
  {
   "cell_type": "markdown",
   "metadata": {},
   "source": [
    "# Data preprocessing"
   ]
  },
  {
   "cell_type": "markdown",
   "metadata": {},
   "source": [
    "## Handle missing values"
   ]
  },
  {
   "cell_type": "code",
   "execution_count": 8,
   "metadata": {},
   "outputs": [],
   "source": [
    "df = df.fillna(method='bfill')"
   ]
  },
  {
   "cell_type": "markdown",
   "metadata": {},
   "source": [
    "## Stationarity checks"
   ]
  },
  {
   "cell_type": "code",
   "execution_count": 9,
   "metadata": {},
   "outputs": [
    {
     "name": "stdout",
     "output_type": "stream",
     "text": [
      "Variable: carbon_price is 1-order integrated (linear difference)!\n",
      "Variable: oil_price is 1-order integrated (linear difference)!\n",
      "Variable: gas_price is 0-order integrated (linear difference)!\n",
      "Variable: stock_market_index_level is 1-order integrated (linear difference)!\n",
      "Variable: hupx is 1-order integrated (linear difference)!\n"
     ]
    }
   ],
   "source": [
    "# Parameters\n",
    "stacioner_threshold = 0.01\n",
    "arno_cols = df.columns\n",
    "current_df = df\n",
    "\n",
    "# Check for stationarity\n",
    "df_stationer = diff_for_stationarity(df_input=current_df,cols=arno_cols,threshold=stacioner_threshold)"
   ]
  },
  {
   "cell_type": "code",
   "execution_count": 10,
   "metadata": {
    "scrolled": true
   },
   "outputs": [
    {
     "data": {
      "text/html": [
       "<div>\n",
       "<style scoped>\n",
       "    .dataframe tbody tr th:only-of-type {\n",
       "        vertical-align: middle;\n",
       "    }\n",
       "\n",
       "    .dataframe tbody tr th {\n",
       "        vertical-align: top;\n",
       "    }\n",
       "\n",
       "    .dataframe thead th {\n",
       "        text-align: right;\n",
       "    }\n",
       "</style>\n",
       "<table border=\"1\" class=\"dataframe\">\n",
       "  <thead>\n",
       "    <tr style=\"text-align: right;\">\n",
       "      <th></th>\n",
       "      <th>carbon_price</th>\n",
       "      <th>oil_price</th>\n",
       "      <th>gas_price</th>\n",
       "      <th>stock_market_index_level</th>\n",
       "      <th>hupx</th>\n",
       "    </tr>\n",
       "    <tr>\n",
       "      <th>Date</th>\n",
       "      <th></th>\n",
       "      <th></th>\n",
       "      <th></th>\n",
       "      <th></th>\n",
       "      <th></th>\n",
       "    </tr>\n",
       "  </thead>\n",
       "  <tbody>\n",
       "    <tr>\n",
       "      <td>2017-01-02</td>\n",
       "      <td>NaN</td>\n",
       "      <td>NaN</td>\n",
       "      <td>3.71</td>\n",
       "      <td>NaN</td>\n",
       "      <td>NaN</td>\n",
       "    </tr>\n",
       "    <tr>\n",
       "      <td>2017-01-03</td>\n",
       "      <td>-0.69</td>\n",
       "      <td>0.00</td>\n",
       "      <td>3.41</td>\n",
       "      <td>0.000000</td>\n",
       "      <td>0.000000</td>\n",
       "    </tr>\n",
       "    <tr>\n",
       "      <td>2017-01-04</td>\n",
       "      <td>0.29</td>\n",
       "      <td>0.90</td>\n",
       "      <td>3.42</td>\n",
       "      <td>2.500000</td>\n",
       "      <td>0.000000</td>\n",
       "    </tr>\n",
       "    <tr>\n",
       "      <td>2017-01-05</td>\n",
       "      <td>-0.43</td>\n",
       "      <td>0.51</td>\n",
       "      <td>3.42</td>\n",
       "      <td>-1.050049</td>\n",
       "      <td>0.000000</td>\n",
       "    </tr>\n",
       "    <tr>\n",
       "      <td>2017-01-06</td>\n",
       "      <td>0.21</td>\n",
       "      <td>0.21</td>\n",
       "      <td>3.38</td>\n",
       "      <td>4.699951</td>\n",
       "      <td>0.000000</td>\n",
       "    </tr>\n",
       "    <tr>\n",
       "      <td>...</td>\n",
       "      <td>...</td>\n",
       "      <td>...</td>\n",
       "      <td>...</td>\n",
       "      <td>...</td>\n",
       "      <td>...</td>\n",
       "    </tr>\n",
       "    <tr>\n",
       "      <td>2021-04-07</td>\n",
       "      <td>-0.38</td>\n",
       "      <td>0.43</td>\n",
       "      <td>2.43</td>\n",
       "      <td>-13.649902</td>\n",
       "      <td>10.769167</td>\n",
       "    </tr>\n",
       "    <tr>\n",
       "      <td>2021-04-08</td>\n",
       "      <td>-0.38</td>\n",
       "      <td>-0.16</td>\n",
       "      <td>2.47</td>\n",
       "      <td>21.060058</td>\n",
       "      <td>3.313750</td>\n",
       "    </tr>\n",
       "    <tr>\n",
       "      <td>2021-04-09</td>\n",
       "      <td>0.18</td>\n",
       "      <td>-0.32</td>\n",
       "      <td>2.48</td>\n",
       "      <td>1.010010</td>\n",
       "      <td>-5.000000</td>\n",
       "    </tr>\n",
       "    <tr>\n",
       "      <td>2021-04-12</td>\n",
       "      <td>0.83</td>\n",
       "      <td>0.41</td>\n",
       "      <td>2.50</td>\n",
       "      <td>-16.940186</td>\n",
       "      <td>2.904167</td>\n",
       "    </tr>\n",
       "    <tr>\n",
       "      <td>2021-04-13</td>\n",
       "      <td>-0.63</td>\n",
       "      <td>0.50</td>\n",
       "      <td>2.57</td>\n",
       "      <td>5.090088</td>\n",
       "      <td>4.632917</td>\n",
       "    </tr>\n",
       "  </tbody>\n",
       "</table>\n",
       "<p>1104 rows × 5 columns</p>\n",
       "</div>"
      ],
      "text/plain": [
       "            carbon_price  oil_price  gas_price  stock_market_index_level  \\\n",
       "Date                                                                       \n",
       "2017-01-02           NaN        NaN       3.71                       NaN   \n",
       "2017-01-03         -0.69       0.00       3.41                  0.000000   \n",
       "2017-01-04          0.29       0.90       3.42                  2.500000   \n",
       "2017-01-05         -0.43       0.51       3.42                 -1.050049   \n",
       "2017-01-06          0.21       0.21       3.38                  4.699951   \n",
       "...                  ...        ...        ...                       ...   \n",
       "2021-04-07         -0.38       0.43       2.43                -13.649902   \n",
       "2021-04-08         -0.38      -0.16       2.47                 21.060058   \n",
       "2021-04-09          0.18      -0.32       2.48                  1.010010   \n",
       "2021-04-12          0.83       0.41       2.50                -16.940186   \n",
       "2021-04-13         -0.63       0.50       2.57                  5.090088   \n",
       "\n",
       "                 hupx  \n",
       "Date                   \n",
       "2017-01-02        NaN  \n",
       "2017-01-03   0.000000  \n",
       "2017-01-04   0.000000  \n",
       "2017-01-05   0.000000  \n",
       "2017-01-06   0.000000  \n",
       "...               ...  \n",
       "2021-04-07  10.769167  \n",
       "2021-04-08   3.313750  \n",
       "2021-04-09  -5.000000  \n",
       "2021-04-12   2.904167  \n",
       "2021-04-13   4.632917  \n",
       "\n",
       "[1104 rows x 5 columns]"
      ]
     },
     "execution_count": 10,
     "metadata": {},
     "output_type": "execute_result"
    }
   ],
   "source": [
    "df_stationer"
   ]
  },
  {
   "cell_type": "code",
   "execution_count": 11,
   "metadata": {},
   "outputs": [],
   "source": [
    "# Drop first row after differencing the series\n",
    "df_stationer = df_stationer.dropna()"
   ]
  },
  {
   "cell_type": "code",
   "execution_count": 12,
   "metadata": {},
   "outputs": [
    {
     "data": {
      "image/png": "[encoded data removed]",
      "text/plain": [
       "<Figure size 432x288 with 1 Axes>"
      ]
     },
     "metadata": {
      "needs_background": "light"
     },
     "output_type": "display_data"
    }
   ],
   "source": [
    "plt.hist(df_stationer.carbon_price)\n",
    "plt.show()"
   ]
  },
  {
   "cell_type": "markdown",
   "metadata": {},
   "source": [
    "# Modelling"
   ]
  },
  {
   "cell_type": "code",
   "execution_count": 18,
   "metadata": {},
   "outputs": [
    {
     "data": {
      "text/html": [
       "<div>\n",
       "<style scoped>\n",
       "    .dataframe tbody tr th:only-of-type {\n",
       "        vertical-align: middle;\n",
       "    }\n",
       "\n",
       "    .dataframe tbody tr th {\n",
       "        vertical-align: top;\n",
       "    }\n",
       "\n",
       "    .dataframe thead th {\n",
       "        text-align: right;\n",
       "    }\n",
       "</style>\n",
       "<table border=\"1\" class=\"dataframe\">\n",
       "  <thead>\n",
       "    <tr style=\"text-align: right;\">\n",
       "      <th></th>\n",
       "      <th>carbon_price</th>\n",
       "      <th>SMA_30</th>\n",
       "    </tr>\n",
       "  </thead>\n",
       "  <tbody>\n",
       "    <tr>\n",
       "      <td>2020-02-11</td>\n",
       "      <td>0.14</td>\n",
       "      <td>4.166667</td>\n",
       "    </tr>\n",
       "    <tr>\n",
       "      <td>2020-02-12</td>\n",
       "      <td>0.58</td>\n",
       "      <td>4.033333</td>\n",
       "    </tr>\n",
       "    <tr>\n",
       "      <td>2020-02-13</td>\n",
       "      <td>0.52</td>\n",
       "      <td>4.066667</td>\n",
       "    </tr>\n",
       "    <tr>\n",
       "      <td>2020-02-14</td>\n",
       "      <td>-0.11</td>\n",
       "      <td>4.100000</td>\n",
       "    </tr>\n",
       "    <tr>\n",
       "      <td>2020-02-17</td>\n",
       "      <td>0.76</td>\n",
       "      <td>3.866667</td>\n",
       "    </tr>\n",
       "  </tbody>\n",
       "</table>\n",
       "</div>"
      ],
      "text/plain": [
       "            carbon_price    SMA_30\n",
       "2020-02-11          0.14  4.166667\n",
       "2020-02-12          0.58  4.033333\n",
       "2020-02-13          0.52  4.066667\n",
       "2020-02-14         -0.11  4.100000\n",
       "2020-02-17          0.76  3.866667"
      ]
     },
     "execution_count": 18,
     "metadata": {},
     "output_type": "execute_result"
    }
   ],
   "source": [
    "# Merge changes in carbon price and the news sentiment\n",
    "merged_df = df_stationer['carbon_price'].to_frame().merge(news_df,\n",
    "                                                          left_index=True, right_index=True, how='inner')\n",
    "\n",
    "merged_df = merged_df.dropna()\n",
    "\n",
    "merged_df.head()"
   ]
  },
  {
   "cell_type": "code",
   "execution_count": 24,
   "metadata": {},
   "outputs": [],
   "source": [
    "# Create volatility metric\n",
    "merged_df['carbon_price_vol'] = abs(merged_df['carbon_price']) #**2"
   ]
  },
  {
   "cell_type": "code",
   "execution_count": 27,
   "metadata": {},
   "outputs": [
    {
     "data": {
      "image/png": "[encoded data removed]",
      "text/plain": [
       "<Figure size 432x288 with 1 Axes>"
      ]
     },
     "metadata": {
      "needs_background": "light"
     },
     "output_type": "display_data"
    }
   ],
   "source": [
    "# Compare prediction and actual in the test set\n",
    "plt.scatter(merged_df['SMA_30'],merged_df['carbon_price_vol'])\n",
    "plt.xlabel(\"News sentiment (30-days MA)\")\n",
    "plt.ylabel(\"Carbon price implied volatility\")\n",
    "plt.savefig('../Outputs/carbon_price_vol_model_news_corr.pdf')\n",
    "plt.show()"
   ]
  },
  {
   "cell_type": "code",
   "execution_count": 28,
   "metadata": {},
   "outputs": [
    {
     "data": {
      "text/plain": [
       "array([[1.        , 0.02470981],\n",
       "       [0.02470981, 1.        ]])"
      ]
     },
     "execution_count": 28,
     "metadata": {},
     "output_type": "execute_result"
    }
   ],
   "source": [
    "np.corrcoef(merged_df['SMA_30'],merged_df['carbon_price_vol'])"
   ]
  },
  {
   "cell_type": "code",
   "execution_count": null,
   "metadata": {},
   "outputs": [],
   "source": []
  }
 ],
 "metadata": {
  "kernelspec": {
   "display_name": "Python 3",
   "language": "python",
   "name": "python3"
  },
  "language_info": {
   "codemirror_mode": {
    "name": "ipython",
    "version": 3
   },
   "file_extension": ".py",
   "mimetype": "text/x-python",
   "name": "python",
   "nbconvert_exporter": "python",
   "pygments_lexer": "ipython3",
   "version": "3.7.4"
  },
  "toc": {
   "base_numbering": 1,
   "nav_menu": {},
   "number_sections": true,
   "sideBar": true,
   "skip_h1_title": false,
   "title_cell": "Table of Contents",
   "title_sidebar": "Contents",
   "toc_cell": false,
   "toc_position": {},
   "toc_section_display": true,
   "toc_window_display": true
  }
 },
 "nbformat": 4,
 "nbformat_minor": 4
}
