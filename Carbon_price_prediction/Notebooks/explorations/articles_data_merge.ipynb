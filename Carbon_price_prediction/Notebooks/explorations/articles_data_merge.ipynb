{
 "cells": [
  {
   "cell_type": "markdown",
   "metadata": {},
   "source": [
    "# Import packages"
   ]
  },
  {
   "cell_type": "code",
   "execution_count": 1,
   "metadata": {},
   "outputs": [],
   "source": [
    "import pandas as pd"
   ]
  },
  {
   "cell_type": "markdown",
   "metadata": {},
   "source": [
    "# Data import"
   ]
  },
  {
   "cell_type": "code",
   "execution_count": 2,
   "metadata": {},
   "outputs": [],
   "source": [
    "lemmatized_merged_articles = pd.read_csv(\"../../App/data/lemmatized_merged_articles.csv\", index_col=0)"
   ]
  },
  {
   "cell_type": "code",
   "execution_count": 3,
   "metadata": {},
   "outputs": [
    {
     "data": {
      "text/html": [
       "<div>\n",
       "<style scoped>\n",
       "    .dataframe tbody tr th:only-of-type {\n",
       "        vertical-align: middle;\n",
       "    }\n",
       "\n",
       "    .dataframe tbody tr th {\n",
       "        vertical-align: top;\n",
       "    }\n",
       "\n",
       "    .dataframe thead th {\n",
       "        text-align: right;\n",
       "    }\n",
       "</style>\n",
       "<table border=\"1\" class=\"dataframe\">\n",
       "  <thead>\n",
       "    <tr style=\"text-align: right;\">\n",
       "      <th></th>\n",
       "      <th>globaleventid</th>\n",
       "      <th>date</th>\n",
       "      <th>lemmatized_text</th>\n",
       "    </tr>\n",
       "  </thead>\n",
       "  <tbody>\n",
       "    <tr>\n",
       "      <th>0</th>\n",
       "      <td>1065219434</td>\n",
       "      <td>20220929</td>\n",
       "      <td>- israeli raid - - west bank flashpoint kill -...</td>\n",
       "    </tr>\n",
       "    <tr>\n",
       "      <th>1</th>\n",
       "      <td>1065221254</td>\n",
       "      <td>20220929</td>\n",
       "      <td>russia say - - go - keep - - underway military...</td>\n",
       "    </tr>\n",
       "    <tr>\n",
       "      <th>2</th>\n",
       "      <td>1065222942</td>\n",
       "      <td>20220929</td>\n",
       "      <td>local inspect - home - - hit - israeli fire - ...</td>\n",
       "    </tr>\n",
       "    <tr>\n",
       "      <th>3</th>\n",
       "      <td>1065238628</td>\n",
       "      <td>20220929</td>\n",
       "      <td>moscow - poise - wednesday - annex - swath - u...</td>\n",
       "    </tr>\n",
       "    <tr>\n",
       "      <th>4</th>\n",
       "      <td>1065246144</td>\n",
       "      <td>20220929</td>\n",
       "      <td>- - - happen - please make sure - browser supp...</td>\n",
       "    </tr>\n",
       "    <tr>\n",
       "      <th>...</th>\n",
       "      <td>...</td>\n",
       "      <td>...</td>\n",
       "      <td>...</td>\n",
       "    </tr>\n",
       "    <tr>\n",
       "      <th>59</th>\n",
       "      <td>1076393045</td>\n",
       "      <td>20221215</td>\n",
       "      <td>aung san suu kyi - chairman myanmarthe civil g...</td>\n",
       "    </tr>\n",
       "    <tr>\n",
       "      <th>60</th>\n",
       "      <td>1076393053</td>\n",
       "      <td>20221215</td>\n",
       "      <td>brussels - - european union say thursday - app...</td>\n",
       "    </tr>\n",
       "    <tr>\n",
       "      <th>61</th>\n",
       "      <td>1076394903</td>\n",
       "      <td>20221215</td>\n",
       "      <td>georgia - imprison former president - mikheil ...</td>\n",
       "    </tr>\n",
       "    <tr>\n",
       "      <th>62</th>\n",
       "      <td>1076407991</td>\n",
       "      <td>20221215</td>\n",
       "      <td>european union ambassador - thursday even appr...</td>\n",
       "    </tr>\n",
       "    <tr>\n",
       "      <th>63</th>\n",
       "      <td>1076410816</td>\n",
       "      <td>20221215</td>\n",
       "      <td>lebanese musician ahmad kaabour performs - - i...</td>\n",
       "    </tr>\n",
       "  </tbody>\n",
       "</table>\n",
       "<p>725 rows × 3 columns</p>\n",
       "</div>"
      ],
      "text/plain": [
       "    globaleventid      date                                    lemmatized_text\n",
       "0      1065219434  20220929  - israeli raid - - west bank flashpoint kill -...\n",
       "1      1065221254  20220929  russia say - - go - keep - - underway military...\n",
       "2      1065222942  20220929  local inspect - home - - hit - israeli fire - ...\n",
       "3      1065238628  20220929  moscow - poise - wednesday - annex - swath - u...\n",
       "4      1065246144  20220929  - - - happen - please make sure - browser supp...\n",
       "..            ...       ...                                                ...\n",
       "59     1076393045  20221215  aung san suu kyi - chairman myanmarthe civil g...\n",
       "60     1076393053  20221215  brussels - - european union say thursday - app...\n",
       "61     1076394903  20221215  georgia - imprison former president - mikheil ...\n",
       "62     1076407991  20221215  european union ambassador - thursday even appr...\n",
       "63     1076410816  20221215  lebanese musician ahmad kaabour performs - - i...\n",
       "\n",
       "[725 rows x 3 columns]"
      ]
     },
     "execution_count": 3,
     "metadata": {},
     "output_type": "execute_result"
    }
   ],
   "source": [
    "lemmatized_merged_articles"
   ]
  },
  {
   "cell_type": "code",
   "execution_count": 12,
   "metadata": {},
   "outputs": [
    {
     "data": {
      "text/plain": [
       "20210929"
      ]
     },
     "execution_count": 12,
     "metadata": {},
     "output_type": "execute_result"
    }
   ],
   "source": [
    "lemmatized_merged_articles.date.min()"
   ]
  },
  {
   "cell_type": "code",
   "execution_count": 9,
   "metadata": {},
   "outputs": [
    {
     "data": {
      "text/plain": [
       "20221215"
      ]
     },
     "execution_count": 9,
     "metadata": {},
     "output_type": "execute_result"
    }
   ],
   "source": [
    "lemmatized_merged_articles.date.max()"
   ]
  },
  {
   "cell_type": "code",
   "execution_count": 4,
   "metadata": {},
   "outputs": [],
   "source": [
    "lemmatized_merged_articles_new1 = pd.read_csv( \"./2022_2023_mar_lemmatized_merged_articles.csv\", index_col=0)"
   ]
  },
  {
   "cell_type": "code",
   "execution_count": 5,
   "metadata": {},
   "outputs": [
    {
     "data": {
      "text/html": [
       "<div>\n",
       "<style scoped>\n",
       "    .dataframe tbody tr th:only-of-type {\n",
       "        vertical-align: middle;\n",
       "    }\n",
       "\n",
       "    .dataframe tbody tr th {\n",
       "        vertical-align: top;\n",
       "    }\n",
       "\n",
       "    .dataframe thead th {\n",
       "        text-align: right;\n",
       "    }\n",
       "</style>\n",
       "<table border=\"1\" class=\"dataframe\">\n",
       "  <thead>\n",
       "    <tr style=\"text-align: right;\">\n",
       "      <th></th>\n",
       "      <th>date</th>\n",
       "      <th>lemmatized_text</th>\n",
       "    </tr>\n",
       "  </thead>\n",
       "  <tbody>\n",
       "    <tr>\n",
       "      <th>0</th>\n",
       "      <td>2021-12-14</td>\n",
       "      <td>emmanuel macron tell - - - get serious - - - l...</td>\n",
       "    </tr>\n",
       "    <tr>\n",
       "      <th>1</th>\n",
       "      <td>2021-12-14</td>\n",
       "      <td>- find something - - choice - click - category...</td>\n",
       "    </tr>\n",
       "    <tr>\n",
       "      <th>2</th>\n",
       "      <td>2021-12-14</td>\n",
       "      <td>- kanifing municipal council - kmc - - partner...</td>\n",
       "    </tr>\n",
       "    <tr>\n",
       "      <th>3</th>\n",
       "      <td>2021-12-14</td>\n",
       "      <td>moscow - russia - supreme court - resume - hea...</td>\n",
       "    </tr>\n",
       "    <tr>\n",
       "      <th>4</th>\n",
       "      <td>2021-12-14</td>\n",
       "      <td>- european union slap sanction - - group - pri...</td>\n",
       "    </tr>\n",
       "    <tr>\n",
       "      <th>...</th>\n",
       "      <td>...</td>\n",
       "      <td>...</td>\n",
       "    </tr>\n",
       "    <tr>\n",
       "      <th>5313</th>\n",
       "      <td>2023-02-24</td>\n",
       "      <td>tiktok - push back - - european union - - info...</td>\n",
       "    </tr>\n",
       "    <tr>\n",
       "      <th>5314</th>\n",
       "      <td>2023-02-24</td>\n",
       "      <td>- nolte - biden - buttigieg fumble - trump run...</td>\n",
       "    </tr>\n",
       "    <tr>\n",
       "      <th>5315</th>\n",
       "      <td>2023-02-24</td>\n",
       "      <td>- russian foreign ministry - warn - - action -...</td>\n",
       "    </tr>\n",
       "    <tr>\n",
       "      <th>5316</th>\n",
       "      <td>2023-02-24</td>\n",
       "      <td>- cnn - - china - reiterate - call - - politic...</td>\n",
       "    </tr>\n",
       "    <tr>\n",
       "      <th>5317</th>\n",
       "      <td>2023-02-24</td>\n",
       "      <td>- - adopt - tenth round - sanction - russia - ...</td>\n",
       "    </tr>\n",
       "  </tbody>\n",
       "</table>\n",
       "<p>5318 rows × 2 columns</p>\n",
       "</div>"
      ],
      "text/plain": [
       "            date                                    lemmatized_text\n",
       "0     2021-12-14  emmanuel macron tell - - - get serious - - - l...\n",
       "1     2021-12-14  - find something - - choice - click - category...\n",
       "2     2021-12-14  - kanifing municipal council - kmc - - partner...\n",
       "3     2021-12-14  moscow - russia - supreme court - resume - hea...\n",
       "4     2021-12-14  - european union slap sanction - - group - pri...\n",
       "...          ...                                                ...\n",
       "5313  2023-02-24  tiktok - push back - - european union - - info...\n",
       "5314  2023-02-24  - nolte - biden - buttigieg fumble - trump run...\n",
       "5315  2023-02-24  - russian foreign ministry - warn - - action -...\n",
       "5316  2023-02-24  - cnn - - china - reiterate - call - - politic...\n",
       "5317  2023-02-24  - - adopt - tenth round - sanction - russia - ...\n",
       "\n",
       "[5318 rows x 2 columns]"
      ]
     },
     "execution_count": 5,
     "metadata": {},
     "output_type": "execute_result"
    }
   ],
   "source": [
    "lemmatized_merged_articles_new1"
   ]
  },
  {
   "cell_type": "code",
   "execution_count": 18,
   "metadata": {},
   "outputs": [
    {
     "data": {
      "text/plain": [
       "'2021-12-13'"
      ]
     },
     "execution_count": 18,
     "metadata": {},
     "output_type": "execute_result"
    }
   ],
   "source": [
    "lemmatized_merged_articles_new1.date.min()"
   ]
  },
  {
   "cell_type": "code",
   "execution_count": 19,
   "metadata": {},
   "outputs": [
    {
     "data": {
      "text/plain": [
       "'2023-03-06'"
      ]
     },
     "execution_count": 19,
     "metadata": {},
     "output_type": "execute_result"
    }
   ],
   "source": [
    "lemmatized_merged_articles_new1.date.max()"
   ]
  },
  {
   "cell_type": "code",
   "execution_count": 6,
   "metadata": {},
   "outputs": [],
   "source": [
    "lemmatized_merged_articles_new2 = pd.read_csv( \"./2023_mar_nov_lemmatized_merged_articles.csv\", index_col=0)"
   ]
  },
  {
   "cell_type": "code",
   "execution_count": 10,
   "metadata": {},
   "outputs": [
    {
     "data": {
      "text/plain": [
       "'2023-03-06'"
      ]
     },
     "execution_count": 10,
     "metadata": {},
     "output_type": "execute_result"
    }
   ],
   "source": [
    "lemmatized_merged_articles_new2.date.min()"
   ]
  },
  {
   "cell_type": "code",
   "execution_count": 11,
   "metadata": {},
   "outputs": [
    {
     "data": {
      "text/plain": [
       "'2023-11-20'"
      ]
     },
     "execution_count": 11,
     "metadata": {},
     "output_type": "execute_result"
    }
   ],
   "source": [
    "lemmatized_merged_articles_new2.date.max()"
   ]
  },
  {
   "cell_type": "code",
   "execution_count": 13,
   "metadata": {},
   "outputs": [],
   "source": [
    "lemmatized_merged_articles_new0 = pd.read_csv( \"./lemmatized_merged_articles.csv\", index_col=0)"
   ]
  },
  {
   "cell_type": "code",
   "execution_count": 14,
   "metadata": {},
   "outputs": [
    {
     "data": {
      "text/html": [
       "<div>\n",
       "<style scoped>\n",
       "    .dataframe tbody tr th:only-of-type {\n",
       "        vertical-align: middle;\n",
       "    }\n",
       "\n",
       "    .dataframe tbody tr th {\n",
       "        vertical-align: top;\n",
       "    }\n",
       "\n",
       "    .dataframe thead th {\n",
       "        text-align: right;\n",
       "    }\n",
       "</style>\n",
       "<table border=\"1\" class=\"dataframe\">\n",
       "  <thead>\n",
       "    <tr style=\"text-align: right;\">\n",
       "      <th></th>\n",
       "      <th>date</th>\n",
       "      <th>lemmatized_text</th>\n",
       "    </tr>\n",
       "  </thead>\n",
       "  <tbody>\n",
       "    <tr>\n",
       "      <th>0</th>\n",
       "      <td>2017-01-01</td>\n",
       "      <td>- - - conceit - - generation - believe - - exp...</td>\n",
       "    </tr>\n",
       "    <tr>\n",
       "      <th>1</th>\n",
       "      <td>2017-01-01</td>\n",
       "      <td>- - come - - close - world leader appear - - e...</td>\n",
       "    </tr>\n",
       "    <tr>\n",
       "      <th>2</th>\n",
       "      <td>2017-01-01</td>\n",
       "      <td>- - scandalridden - - safely - - - - country -...</td>\n",
       "    </tr>\n",
       "    <tr>\n",
       "      <th>3</th>\n",
       "      <td>2017-01-01</td>\n",
       "      <td>- process - automatic - - browser - redirect -...</td>\n",
       "    </tr>\n",
       "    <tr>\n",
       "      <th>4</th>\n",
       "      <td>2017-01-01</td>\n",
       "      <td>labour - - division - immigration - broken - -...</td>\n",
       "    </tr>\n",
       "  </tbody>\n",
       "</table>\n",
       "</div>"
      ],
      "text/plain": [
       "         date                                    lemmatized_text\n",
       "0  2017-01-01  - - - conceit - - generation - believe - - exp...\n",
       "1  2017-01-01  - - come - - close - world leader appear - - e...\n",
       "2  2017-01-01  - - scandalridden - - safely - - - - country -...\n",
       "3  2017-01-01  - process - automatic - - browser - redirect -...\n",
       "4  2017-01-01  labour - - division - immigration - broken - -..."
      ]
     },
     "execution_count": 14,
     "metadata": {},
     "output_type": "execute_result"
    }
   ],
   "source": [
    "lemmatized_merged_articles_new0.head()"
   ]
  },
  {
   "cell_type": "code",
   "execution_count": 15,
   "metadata": {},
   "outputs": [
    {
     "data": {
      "text/plain": [
       "'2017-01-01'"
      ]
     },
     "execution_count": 15,
     "metadata": {},
     "output_type": "execute_result"
    }
   ],
   "source": [
    "lemmatized_merged_articles_new0.date.min()"
   ]
  },
  {
   "cell_type": "code",
   "execution_count": 16,
   "metadata": {},
   "outputs": [
    {
     "data": {
      "text/plain": [
       "'2021-12-12'"
      ]
     },
     "execution_count": 16,
     "metadata": {},
     "output_type": "execute_result"
    }
   ],
   "source": [
    "lemmatized_merged_articles_new0.date.max()"
   ]
  },
  {
   "cell_type": "markdown",
   "metadata": {},
   "source": [
    "# Data preprocessing"
   ]
  },
  {
   "cell_type": "code",
   "execution_count": 20,
   "metadata": {},
   "outputs": [
    {
     "data": {
      "text/plain": [
       "(36183, 2)"
      ]
     },
     "execution_count": 20,
     "metadata": {},
     "output_type": "execute_result"
    }
   ],
   "source": [
    "lemmatized_merged_articles_new = pd.concat([lemmatized_merged_articles_new0,\n",
    "                                           lemmatized_merged_articles_new1,\n",
    "                                           lemmatized_merged_articles_new2], axis=0)\n",
    "\n",
    "lemmatized_merged_articles_new.shape"
   ]
  },
  {
   "cell_type": "code",
   "execution_count": 23,
   "metadata": {},
   "outputs": [],
   "source": [
    "lemmatized_merged_articles_new = lemmatized_merged_articles_new.sort_values(\"date\")\n",
    "lemmatized_merged_articles_new = lemmatized_merged_articles_new.drop_duplicates()"
   ]
  },
  {
   "cell_type": "code",
   "execution_count": 24,
   "metadata": {},
   "outputs": [
    {
     "data": {
      "text/plain": [
       "(36162, 2)"
      ]
     },
     "execution_count": 24,
     "metadata": {},
     "output_type": "execute_result"
    }
   ],
   "source": [
    "lemmatized_merged_articles_new.shape"
   ]
  },
  {
   "cell_type": "code",
   "execution_count": 25,
   "metadata": {},
   "outputs": [
    {
     "data": {
      "text/plain": [
       "'2017-01-01'"
      ]
     },
     "execution_count": 25,
     "metadata": {},
     "output_type": "execute_result"
    }
   ],
   "source": [
    "lemmatized_merged_articles_new.date.min()"
   ]
  },
  {
   "cell_type": "code",
   "execution_count": 26,
   "metadata": {},
   "outputs": [
    {
     "data": {
      "text/plain": [
       "'2023-11-20'"
      ]
     },
     "execution_count": 26,
     "metadata": {},
     "output_type": "execute_result"
    }
   ],
   "source": [
    "lemmatized_merged_articles_new.date.max()"
   ]
  },
  {
   "cell_type": "code",
   "execution_count": 27,
   "metadata": {},
   "outputs": [
    {
     "name": "stdout",
     "output_type": "stream",
     "text": [
      "         date                                    lemmatized_text\n",
      "0  2017-01-01  - - - conceit - - generation - believe - - exp...\n",
      "1  2017-01-01  - - come - - close - world leader appear - - e...\n",
      "2  2017-01-01  - - scandalridden - - safely - - - - country -...\n",
      "3  2017-01-01  - process - automatic - - browser - redirect -...\n",
      "4  2017-01-01  labour - - division - immigration - broken - -...\n",
      "          date                                    lemmatized_text\n",
      "26  2023-11-20  - else fail - - unlikely volunteer - - heart -...\n",
      "27  2023-11-20  budapest - - - - - hungary - - prime minister ...\n",
      "28  2023-11-20  italy - become - first country - - world - ban...\n",
      "15  2023-11-20  give putin - - late comment - ukraine - - depe...\n",
      "0   2023-11-20  - - - - block - - website - use - security ser...\n"
     ]
    }
   ],
   "source": [
    "print(lemmatized_merged_articles_new.head())\n",
    "print(lemmatized_merged_articles_new.tail())"
   ]
  },
  {
   "cell_type": "markdown",
   "metadata": {},
   "source": [
    "# Export new output"
   ]
  },
  {
   "cell_type": "code",
   "execution_count": 28,
   "metadata": {},
   "outputs": [],
   "source": [
    "lemmatized_merged_articles_new.to_csv(\"../../App/data/lemmatized_merged_articles.csv\")"
   ]
  }
 ],
 "metadata": {
  "kernelspec": {
   "display_name": "Python 3",
   "language": "python",
   "name": "python3"
  },
  "language_info": {
   "codemirror_mode": {
    "name": "ipython",
    "version": 3
   },
   "file_extension": ".py",
   "mimetype": "text/x-python",
   "name": "python",
   "nbconvert_exporter": "python",
   "pygments_lexer": "ipython3",
   "version": "3.6.4"
  },
  "toc": {
   "base_numbering": 1,
   "nav_menu": {},
   "number_sections": true,
   "sideBar": true,
   "skip_h1_title": false,
   "title_cell": "Table of Contents",
   "title_sidebar": "Contents",
   "toc_cell": false,
   "toc_position": {},
   "toc_section_display": true,
   "toc_window_display": true
  }
 },
 "nbformat": 4,
 "nbformat_minor": 2
}
