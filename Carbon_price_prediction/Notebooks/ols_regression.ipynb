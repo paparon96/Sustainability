{
  "nbformat": 4,
  "nbformat_minor": 0,
  "metadata": {
    "colab": {
      "name": "ols_regression.ipynb",
      "provenance": [],
      "authorship_tag": "ABX9TyOgSsC5CInrI4Y5COm2fw/7",
      "include_colab_link": true
    },
    "kernelspec": {
      "name": "python3",
      "display_name": "Python 3"
    },
    "language_info": {
      "name": "python"
    }
  },
  "cells": [
    {
      "cell_type": "markdown",
      "metadata": {
        "id": "view-in-github",
        "colab_type": "text"
      },
      "source": [
        "<a href=\"https://colab.research.google.com/github/paparon96/Sustainability/blob/main/Carbon_price_prediction/Notebooks/ols_regression.ipynb\" target=\"_parent\"><img src=\"https://colab.research.google.com/assets/colab-badge.svg\" alt=\"Open In Colab\"/></a>"
      ]
    },
    {
      "cell_type": "code",
      "metadata": {
        "id": "zSefqWkSAFxh",
        "colab": {
          "base_uri": "https://localhost:8080/"
        },
        "outputId": "99dfc236-077d-436d-9bd4-5ad5de76a644"
      },
      "source": [
        "from google.colab import drive\n",
        "drive.mount('/content/drive', force_remount=True)"
      ],
      "execution_count": 1,
      "outputs": [
        {
          "output_type": "stream",
          "name": "stdout",
          "text": [
            "Mounted at /content/drive\n"
          ]
        }
      ]
    },
    {
      "cell_type": "code",
      "metadata": {
        "id": "YNMuauf2_c6D",
        "colab": {
          "base_uri": "https://localhost:8080/"
        },
        "outputId": "298b255f-3c28-4f94-9564-0b4716998f2e"
      },
      "source": [
        "from statsmodels.regression.linear_model import OLS\n",
        "from statsmodels.tsa.stattools import adfuller\n",
        "import statsmodels.formula.api as smf\n",
        "import statsmodels.api as sm\n",
        "import pandas as pd\n",
        "import copy\n",
        "import matplotlib.pyplot as plt\n",
        "\n",
        "\n",
        "import os\n",
        "os.chdir('/content/drive/My Drive/Carbon_price_prediction/Workspace/Data')"
      ],
      "execution_count": 2,
      "outputs": [
        {
          "output_type": "stream",
          "name": "stderr",
          "text": [
            "/usr/local/lib/python3.7/dist-packages/statsmodels/tools/_testing.py:19: FutureWarning: pandas.util.testing is deprecated. Use the functions in the public API at pandas.testing instead.\n",
            "  import pandas.util.testing as tm\n"
          ]
        }
      ]
    },
    {
      "cell_type": "code",
      "metadata": {
        "id": "k-xmwHJrG5YW"
      },
      "source": [
        "def diff_for_stationarity(df_input,cols,threshold,verbose=False):\n",
        "    \n",
        "    \"\"\"Checks the series for stationarity then difference it until it is stationary\n",
        "    (with the given threshold)\"\"\"\n",
        "    \n",
        "    df = copy.deepcopy(df_input)\n",
        "    \n",
        "    \n",
        "    # Get length of DF\n",
        "    n = len(df)\n",
        "    \n",
        "    # Loop over columns of interest\n",
        "    for col in cols:\n",
        "        stationarity = False\n",
        "        series = list(df[col].astype(float))\n",
        "        linear_diff = False\n",
        "                \n",
        "        try:\n",
        "        \n",
        "            counter = 0\n",
        "\n",
        "\n",
        "\n",
        "            while not stationarity:\n",
        "\n",
        "                #print(counter)\n",
        "\n",
        "                # Run ADF test\n",
        "                adf_test = adfuller(series)\n",
        "                pval = adf_test[1]\n",
        "\n",
        "                if pval < threshold:\n",
        "                    stationarity = True\n",
        "\n",
        "                else:\n",
        "                    # Difference the series\n",
        "                    series = [np.log(series[i]/series[i-1]) for i in range(1,n-counter)]\n",
        "                    #series = [series[i]-series[i-1] for i in range(1,n-counter)]\n",
        "\n",
        "                    counter += 1\n",
        "                    \n",
        "        except:\n",
        "            \n",
        "            counter = 0\n",
        "            stationarity = False\n",
        "            series = list(df[col].astype(float))\n",
        "            linear_diff = True\n",
        "\n",
        "            while not stationarity:\n",
        "\n",
        "                #print(counter)\n",
        "\n",
        "                # Run ADF test\n",
        "                adf_test = adfuller(series)\n",
        "                pval = adf_test[1]\n",
        "\n",
        "                if pval < threshold:\n",
        "                    stationarity = True\n",
        "\n",
        "                elif counter>1:\n",
        "                    stationarity = True\n",
        "                    series = list(df[col].astype(float))\n",
        "                else:\n",
        "                    # Difference the series\n",
        "                    series = [series[i]-series[i-1] for i in range(1,n-counter)]\n",
        "\n",
        "                    counter += 1\n",
        "        \n",
        "        # Create final series and assign it back to the dataframe\n",
        "        final_series = [None]*counter + series\n",
        "        df[col] = final_series\n",
        "        \n",
        "        if not linear_diff:\n",
        "            type_diff = \"log difference\"\n",
        "        else:\n",
        "            type_diff = \"linear difference\"\n",
        "        if verbose:\n",
        "            print(\"Variable: {} is {}-order integrated ({})!\".format(col,counter,type_diff))\n",
        "        \n",
        "        \n",
        "    return df"
      ],
      "execution_count": 30,
      "outputs": []
    },
    {
      "cell_type": "code",
      "metadata": {
        "id": "9KokXcHU_gbb"
      },
      "source": [
        "predictors = pd.read_csv(\"merged_articles.csv\")"
      ],
      "execution_count": 16,
      "outputs": []
    },
    {
      "cell_type": "code",
      "metadata": {
        "colab": {
          "base_uri": "https://localhost:8080/",
          "height": 419
        },
        "id": "dy8NrSThlQqX",
        "outputId": "8ed03577-ecc3-45e0-d01c-57d9950cf53f"
      },
      "source": [
        "predictors"
      ],
      "execution_count": 17,
      "outputs": [
        {
          "output_type": "execute_result",
          "data": {
            "text/html": [
              "<div>\n",
              "<style scoped>\n",
              "    .dataframe tbody tr th:only-of-type {\n",
              "        vertical-align: middle;\n",
              "    }\n",
              "\n",
              "    .dataframe tbody tr th {\n",
              "        vertical-align: top;\n",
              "    }\n",
              "\n",
              "    .dataframe thead th {\n",
              "        text-align: right;\n",
              "    }\n",
              "</style>\n",
              "<table border=\"1\" class=\"dataframe\">\n",
              "  <thead>\n",
              "    <tr style=\"text-align: right;\">\n",
              "      <th></th>\n",
              "      <th>article</th>\n",
              "      <th>simple_target</th>\n",
              "      <th>log_target</th>\n",
              "      <th>categorical_target</th>\n",
              "      <th>date</th>\n",
              "      <th>source</th>\n",
              "      <th>binary_target</th>\n",
              "      <th>carbon_price</th>\n",
              "      <th>oil_price</th>\n",
              "      <th>gas_price</th>\n",
              "      <th>stock_market_index_level</th>\n",
              "      <th>energy_price</th>\n",
              "      <th>coal_price</th>\n",
              "    </tr>\n",
              "  </thead>\n",
              "  <tbody>\n",
              "    <tr>\n",
              "      <th>0</th>\n",
              "      <td>world economic forum two consecutive years res...</td>\n",
              "      <td>-0.69</td>\n",
              "      <td>-0.119623</td>\n",
              "      <td>0</td>\n",
              "      <td>2017-01-03</td>\n",
              "      <td>0</td>\n",
              "      <td>0</td>\n",
              "      <td>5.43</td>\n",
              "      <td>55.47</td>\n",
              "      <td>49.45</td>\n",
              "      <td>365.71</td>\n",
              "      <td>NaN</td>\n",
              "      <td>82.50</td>\n",
              "    </tr>\n",
              "    <tr>\n",
              "      <th>1</th>\n",
              "      <td>eu market euas fall 6 months energy weighs auc...</td>\n",
              "      <td>-0.69</td>\n",
              "      <td>-0.119623</td>\n",
              "      <td>0</td>\n",
              "      <td>2017-01-03</td>\n",
              "      <td>1</td>\n",
              "      <td>0</td>\n",
              "      <td>5.43</td>\n",
              "      <td>55.47</td>\n",
              "      <td>49.45</td>\n",
              "      <td>365.71</td>\n",
              "      <td>NaN</td>\n",
              "      <td>82.50</td>\n",
              "    </tr>\n",
              "    <tr>\n",
              "      <th>2</th>\n",
              "      <td>working towards completion tycoon bernard tapi...</td>\n",
              "      <td>-0.69</td>\n",
              "      <td>-0.119623</td>\n",
              "      <td>0</td>\n",
              "      <td>2017-01-03</td>\n",
              "      <td>0</td>\n",
              "      <td>0</td>\n",
              "      <td>5.43</td>\n",
              "      <td>55.47</td>\n",
              "      <td>49.45</td>\n",
              "      <td>365.71</td>\n",
              "      <td>NaN</td>\n",
              "      <td>82.50</td>\n",
              "    </tr>\n",
              "    <tr>\n",
              "      <th>3</th>\n",
              "      <td>israeli pm probed cash claims french carbon fr...</td>\n",
              "      <td>-0.69</td>\n",
              "      <td>-0.119623</td>\n",
              "      <td>0</td>\n",
              "      <td>2017-01-03</td>\n",
              "      <td>1</td>\n",
              "      <td>0</td>\n",
              "      <td>5.43</td>\n",
              "      <td>55.47</td>\n",
              "      <td>49.45</td>\n",
              "      <td>365.71</td>\n",
              "      <td>NaN</td>\n",
              "      <td>82.50</td>\n",
              "    </tr>\n",
              "    <tr>\n",
              "      <th>4</th>\n",
              "      <td>ten million degrees russian science foundation...</td>\n",
              "      <td>-0.69</td>\n",
              "      <td>-0.119623</td>\n",
              "      <td>0</td>\n",
              "      <td>2017-01-03</td>\n",
              "      <td>0</td>\n",
              "      <td>0</td>\n",
              "      <td>5.43</td>\n",
              "      <td>55.47</td>\n",
              "      <td>49.45</td>\n",
              "      <td>365.71</td>\n",
              "      <td>NaN</td>\n",
              "      <td>82.50</td>\n",
              "    </tr>\n",
              "    <tr>\n",
              "      <th>...</th>\n",
              "      <td>...</td>\n",
              "      <td>...</td>\n",
              "      <td>...</td>\n",
              "      <td>...</td>\n",
              "      <td>...</td>\n",
              "      <td>...</td>\n",
              "      <td>...</td>\n",
              "      <td>...</td>\n",
              "      <td>...</td>\n",
              "      <td>...</td>\n",
              "      <td>...</td>\n",
              "      <td>...</td>\n",
              "      <td>...</td>\n",
              "    </tr>\n",
              "    <tr>\n",
              "      <th>5927</th>\n",
              "      <td>upward trend compared suez canal bloceage shel...</td>\n",
              "      <td>-0.63</td>\n",
              "      <td>-0.014294</td>\n",
              "      <td>0</td>\n",
              "      <td>2021-04-13</td>\n",
              "      <td>0</td>\n",
              "      <td>0</td>\n",
              "      <td>43.76</td>\n",
              "      <td>63.67</td>\n",
              "      <td>48.60</td>\n",
              "      <td>435.75</td>\n",
              "      <td>2568.57</td>\n",
              "      <td>68.85</td>\n",
              "    </tr>\n",
              "    <tr>\n",
              "      <th>5928</th>\n",
              "      <td>shipbrokers charting course trade carbon shipb...</td>\n",
              "      <td>-0.63</td>\n",
              "      <td>-0.014294</td>\n",
              "      <td>0</td>\n",
              "      <td>2021-04-13</td>\n",
              "      <td>1</td>\n",
              "      <td>0</td>\n",
              "      <td>43.76</td>\n",
              "      <td>63.67</td>\n",
              "      <td>48.60</td>\n",
              "      <td>435.75</td>\n",
              "      <td>2568.57</td>\n",
              "      <td>68.85</td>\n",
              "    </tr>\n",
              "    <tr>\n",
              "      <th>5929</th>\n",
              "      <td>eu market euas slip back €44 profit taking hit...</td>\n",
              "      <td>-0.63</td>\n",
              "      <td>-0.014294</td>\n",
              "      <td>0</td>\n",
              "      <td>2021-04-13</td>\n",
              "      <td>1</td>\n",
              "      <td>0</td>\n",
              "      <td>43.76</td>\n",
              "      <td>63.67</td>\n",
              "      <td>48.60</td>\n",
              "      <td>435.75</td>\n",
              "      <td>2568.57</td>\n",
              "      <td>68.85</td>\n",
              "    </tr>\n",
              "    <tr>\n",
              "      <th>5930</th>\n",
              "      <td>use multiple subscriptions unevenly accessible...</td>\n",
              "      <td>-0.63</td>\n",
              "      <td>-0.014294</td>\n",
              "      <td>0</td>\n",
              "      <td>2021-04-13</td>\n",
              "      <td>0</td>\n",
              "      <td>0</td>\n",
              "      <td>43.76</td>\n",
              "      <td>63.67</td>\n",
              "      <td>48.60</td>\n",
              "      <td>435.75</td>\n",
              "      <td>2568.57</td>\n",
              "      <td>68.85</td>\n",
              "    </tr>\n",
              "    <tr>\n",
              "      <th>5931</th>\n",
              "      <td>eu must impose mandatory checks halt imported ...</td>\n",
              "      <td>-0.63</td>\n",
              "      <td>-0.014294</td>\n",
              "      <td>0</td>\n",
              "      <td>2021-04-13</td>\n",
              "      <td>1</td>\n",
              "      <td>0</td>\n",
              "      <td>43.76</td>\n",
              "      <td>63.67</td>\n",
              "      <td>48.60</td>\n",
              "      <td>435.75</td>\n",
              "      <td>2568.57</td>\n",
              "      <td>68.85</td>\n",
              "    </tr>\n",
              "  </tbody>\n",
              "</table>\n",
              "<p>5932 rows × 13 columns</p>\n",
              "</div>"
            ],
            "text/plain": [
              "                                                article  ...  coal_price\n",
              "0     world economic forum two consecutive years res...  ...       82.50\n",
              "1     eu market euas fall 6 months energy weighs auc...  ...       82.50\n",
              "2     working towards completion tycoon bernard tapi...  ...       82.50\n",
              "3     israeli pm probed cash claims french carbon fr...  ...       82.50\n",
              "4     ten million degrees russian science foundation...  ...       82.50\n",
              "...                                                 ...  ...         ...\n",
              "5927  upward trend compared suez canal bloceage shel...  ...       68.85\n",
              "5928  shipbrokers charting course trade carbon shipb...  ...       68.85\n",
              "5929  eu market euas slip back €44 profit taking hit...  ...       68.85\n",
              "5930  use multiple subscriptions unevenly accessible...  ...       68.85\n",
              "5931  eu must impose mandatory checks halt imported ...  ...       68.85\n",
              "\n",
              "[5932 rows x 13 columns]"
            ]
          },
          "metadata": {},
          "execution_count": 17
        }
      ]
    },
    {
      "cell_type": "code",
      "metadata": {
        "id": "-hMohC1PxXqZ"
      },
      "source": [
        "df = predictors"
      ],
      "execution_count": null,
      "outputs": []
    },
    {
      "cell_type": "code",
      "metadata": {
        "id": "RuXDMquoAo1g"
      },
      "source": [
        "signal1 = pd.read_csv(\"cat2_predictions_lstm.csv\")\n",
        "signal2 = pd.read_csv(\"num_predictions_regression_cnn.csv\")\n",
        "signal3 = pd.read_csv(\"num_predictions_lstm_diff.csv\")"
      ],
      "execution_count": null,
      "outputs": []
    },
    {
      "cell_type": "code",
      "metadata": {
        "id": "hepFlFE8AwFQ"
      },
      "source": [
        "df = pd.merge(predictors, signal1, on=\"date\")\n",
        "df = pd.merge(df, signal2, on=\"date\")\n",
        "df = pd.merge(df, signal3, on=\"date\")"
      ],
      "execution_count": null,
      "outputs": []
    },
    {
      "cell_type": "code",
      "metadata": {
        "id": "SbHr7BqaBk70"
      },
      "source": [
        "df = df.groupby('date').mean()"
      ],
      "execution_count": null,
      "outputs": []
    },
    {
      "cell_type": "code",
      "metadata": {
        "colab": {
          "base_uri": "https://localhost:8080/",
          "height": 338
        },
        "id": "VfuQoXMzAHrC",
        "outputId": "774e9c92-635f-426f-8702-fb18eae253fc"
      },
      "source": [
        "df.head()"
      ],
      "execution_count": null,
      "outputs": [
        {
          "output_type": "execute_result",
          "data": {
            "text/html": [
              "<div>\n",
              "<style scoped>\n",
              "    .dataframe tbody tr th:only-of-type {\n",
              "        vertical-align: middle;\n",
              "    }\n",
              "\n",
              "    .dataframe tbody tr th {\n",
              "        vertical-align: top;\n",
              "    }\n",
              "\n",
              "    .dataframe thead th {\n",
              "        text-align: right;\n",
              "    }\n",
              "</style>\n",
              "<table border=\"1\" class=\"dataframe\">\n",
              "  <thead>\n",
              "    <tr style=\"text-align: right;\">\n",
              "      <th></th>\n",
              "      <th>simple_target</th>\n",
              "      <th>log_target</th>\n",
              "      <th>categorical_target</th>\n",
              "      <th>source</th>\n",
              "      <th>binary_target</th>\n",
              "      <th>carbon_price</th>\n",
              "      <th>oil_price</th>\n",
              "      <th>gas_price</th>\n",
              "      <th>stock_market_index_level</th>\n",
              "      <th>energy_price</th>\n",
              "      <th>coal_price</th>\n",
              "      <th>pred_x</th>\n",
              "      <th>target_x</th>\n",
              "      <th>pred_y</th>\n",
              "      <th>target_y</th>\n",
              "      <th>text_feature</th>\n",
              "      <th>pred</th>\n",
              "      <th>target</th>\n",
              "    </tr>\n",
              "    <tr>\n",
              "      <th>date</th>\n",
              "      <th></th>\n",
              "      <th></th>\n",
              "      <th></th>\n",
              "      <th></th>\n",
              "      <th></th>\n",
              "      <th></th>\n",
              "      <th></th>\n",
              "      <th></th>\n",
              "      <th></th>\n",
              "      <th></th>\n",
              "      <th></th>\n",
              "      <th></th>\n",
              "      <th></th>\n",
              "      <th></th>\n",
              "      <th></th>\n",
              "      <th></th>\n",
              "      <th></th>\n",
              "      <th></th>\n",
              "    </tr>\n",
              "  </thead>\n",
              "  <tbody>\n",
              "    <tr>\n",
              "      <th>2017-09-27</th>\n",
              "      <td>-0.05</td>\n",
              "      <td>-0.007189</td>\n",
              "      <td>1.0</td>\n",
              "      <td>0.461538</td>\n",
              "      <td>0.0</td>\n",
              "      <td>6.93</td>\n",
              "      <td>57.90</td>\n",
              "      <td>46.32</td>\n",
              "      <td>385.62</td>\n",
              "      <td>1020.29</td>\n",
              "      <td>91.50</td>\n",
              "      <td>0.544859</td>\n",
              "      <td>0.0</td>\n",
              "      <td>-0.010888</td>\n",
              "      <td>-0.007189</td>\n",
              "      <td>0.0</td>\n",
              "      <td>-0.043365</td>\n",
              "      <td>0.224929</td>\n",
              "    </tr>\n",
              "    <tr>\n",
              "      <th>2017-09-28</th>\n",
              "      <td>0.03</td>\n",
              "      <td>0.004320</td>\n",
              "      <td>2.0</td>\n",
              "      <td>0.600000</td>\n",
              "      <td>1.0</td>\n",
              "      <td>6.96</td>\n",
              "      <td>57.41</td>\n",
              "      <td>46.45</td>\n",
              "      <td>386.36</td>\n",
              "      <td>1022.39</td>\n",
              "      <td>91.45</td>\n",
              "      <td>0.533136</td>\n",
              "      <td>1.0</td>\n",
              "      <td>-0.010404</td>\n",
              "      <td>0.004320</td>\n",
              "      <td>0.0</td>\n",
              "      <td>-0.137377</td>\n",
              "      <td>0.143931</td>\n",
              "    </tr>\n",
              "    <tr>\n",
              "      <th>2017-09-29</th>\n",
              "      <td>0.74</td>\n",
              "      <td>0.101041</td>\n",
              "      <td>3.0</td>\n",
              "      <td>0.666667</td>\n",
              "      <td>1.0</td>\n",
              "      <td>7.70</td>\n",
              "      <td>57.54</td>\n",
              "      <td>47.32</td>\n",
              "      <td>388.16</td>\n",
              "      <td>1019.04</td>\n",
              "      <td>91.40</td>\n",
              "      <td>0.519479</td>\n",
              "      <td>1.0</td>\n",
              "      <td>-0.009336</td>\n",
              "      <td>0.101041</td>\n",
              "      <td>0.0</td>\n",
              "      <td>-0.057870</td>\n",
              "      <td>-0.481756</td>\n",
              "    </tr>\n",
              "    <tr>\n",
              "      <th>2017-10-02</th>\n",
              "      <td>-0.76</td>\n",
              "      <td>-0.103919</td>\n",
              "      <td>0.0</td>\n",
              "      <td>0.600000</td>\n",
              "      <td>0.0</td>\n",
              "      <td>6.94</td>\n",
              "      <td>56.12</td>\n",
              "      <td>48.22</td>\n",
              "      <td>390.13</td>\n",
              "      <td>1024.34</td>\n",
              "      <td>90.65</td>\n",
              "      <td>0.557878</td>\n",
              "      <td>0.0</td>\n",
              "      <td>-0.011871</td>\n",
              "      <td>-0.103919</td>\n",
              "      <td>0.0</td>\n",
              "      <td>0.171293</td>\n",
              "      <td>0.668878</td>\n",
              "    </tr>\n",
              "    <tr>\n",
              "      <th>2017-10-03</th>\n",
              "      <td>0.06</td>\n",
              "      <td>0.008608</td>\n",
              "      <td>2.0</td>\n",
              "      <td>0.200000</td>\n",
              "      <td>1.0</td>\n",
              "      <td>7.00</td>\n",
              "      <td>56.00</td>\n",
              "      <td>49.24</td>\n",
              "      <td>390.72</td>\n",
              "      <td>1026.63</td>\n",
              "      <td>91.80</td>\n",
              "      <td>0.532884</td>\n",
              "      <td>1.0</td>\n",
              "      <td>-0.009511</td>\n",
              "      <td>0.008608</td>\n",
              "      <td>0.0</td>\n",
              "      <td>-0.070146</td>\n",
              "      <td>0.240814</td>\n",
              "    </tr>\n",
              "  </tbody>\n",
              "</table>\n",
              "</div>"
            ],
            "text/plain": [
              "            simple_target  log_target  ...      pred    target\n",
              "date                                   ...                    \n",
              "2017-09-27          -0.05   -0.007189  ... -0.043365  0.224929\n",
              "2017-09-28           0.03    0.004320  ... -0.137377  0.143931\n",
              "2017-09-29           0.74    0.101041  ... -0.057870 -0.481756\n",
              "2017-10-02          -0.76   -0.103919  ...  0.171293  0.668878\n",
              "2017-10-03           0.06    0.008608  ... -0.070146  0.240814\n",
              "\n",
              "[5 rows x 18 columns]"
            ]
          },
          "metadata": {},
          "execution_count": 26
        }
      ]
    },
    {
      "cell_type": "code",
      "metadata": {
        "id": "6n65ksMiHQC2"
      },
      "source": [
        "df.dropna(inplace=True)"
      ],
      "execution_count": null,
      "outputs": []
    },
    {
      "cell_type": "code",
      "metadata": {
        "colab": {
          "base_uri": "https://localhost:8080/"
        },
        "id": "mbjoecu9HYk8",
        "outputId": "8b945d5f-28c3-4ed8-ee5b-f6f9dc0841e8"
      },
      "source": [
        "stacioner_threshold = 0.01\n",
        "arno_cols = df.columns\n",
        "current_df = df\n",
        "\n",
        "# Check for stationarity\n",
        "df_stationer = diff_for_stationarity(df_input=current_df,cols=arno_cols,threshold=stacioner_threshold)"
      ],
      "execution_count": null,
      "outputs": [
        {
          "output_type": "stream",
          "name": "stdout",
          "text": [
            "Variable: simple_target is 0-order integrated (log difference)!\n",
            "Variable: log_target is 0-order integrated (log difference)!\n",
            "Variable: categorical_target is 0-order integrated (log difference)!\n",
            "Variable: source is 0-order integrated (log difference)!\n",
            "Variable: binary_target is 0-order integrated (log difference)!\n",
            "Variable: carbon_price is 1-order integrated (linear difference)!\n",
            "Variable: oil_price is 1-order integrated (linear difference)!\n",
            "Variable: gas_price is 1-order integrated (linear difference)!\n",
            "Variable: stock_market_index_level is 1-order integrated (linear difference)!\n",
            "Variable: energy_price is 1-order integrated (linear difference)!\n",
            "Variable: coal_price is 1-order integrated (linear difference)!\n",
            "Variable: pred_x is 0-order integrated (log difference)!\n",
            "Variable: target_x is 0-order integrated (log difference)!\n",
            "Variable: pred_y is 0-order integrated (log difference)!\n",
            "Variable: target_y is 0-order integrated (log difference)!\n",
            "Variable: text_feature is 0-order integrated (log difference)!\n",
            "Variable: pred is 0-order integrated (log difference)!\n",
            "Variable: target is 0-order integrated (log difference)!\n"
          ]
        }
      ]
    },
    {
      "cell_type": "code",
      "metadata": {
        "id": "TS_FbcQ4IAl9"
      },
      "source": [
        "df_stationer.dropna(inplace=True)"
      ],
      "execution_count": null,
      "outputs": []
    },
    {
      "cell_type": "code",
      "metadata": {
        "id": "D8no1uprBsXQ"
      },
      "source": [
        "#y = df.carbon_price[1:]\n",
        "y = df_stationer.carbon_price"
      ],
      "execution_count": null,
      "outputs": []
    },
    {
      "cell_type": "code",
      "metadata": {
        "id": "24fx3kuMBwj9"
      },
      "source": [
        "#x = df.loc[:,['oil_price', 'gas_price', 'stock_market_index_level', 'energy_price', 'coal_price', 'pred']][:-1]\n",
        "x = df_stationer.loc[:,['oil_price', 'gas_price', 'stock_market_index_level', 'energy_price', 'coal_price','pred',# 'pred_x', 'pred_y', 'text_feature'\n",
        "]]"
      ],
      "execution_count": null,
      "outputs": []
    },
    {
      "cell_type": "code",
      "metadata": {
        "id": "7DYTjDKFCM6d"
      },
      "source": [
        "x = sm.add_constant(x)"
      ],
      "execution_count": null,
      "outputs": []
    },
    {
      "cell_type": "code",
      "metadata": {
        "id": "1Nx42hC5CDkM"
      },
      "source": [
        "model = sm.OLS(y,x)\n",
        "results = model.fit()"
      ],
      "execution_count": null,
      "outputs": []
    },
    {
      "cell_type": "code",
      "metadata": {
        "colab": {
          "base_uri": "https://localhost:8080/"
        },
        "id": "_dnpqVugChNe",
        "outputId": "7c0dbb25-40a6-433f-9d48-a6093b7a101f"
      },
      "source": [
        "print(results.summary())"
      ],
      "execution_count": null,
      "outputs": [
        {
          "output_type": "stream",
          "name": "stdout",
          "text": [
            "                            OLS Regression Results                            \n",
            "==============================================================================\n",
            "Dep. Variable:           carbon_price   R-squared:                       0.190\n",
            "Model:                            OLS   Adj. R-squared:                  0.184\n",
            "Method:                 Least Squares   F-statistic:                     32.63\n",
            "Date:                Wed, 27 Oct 2021   Prob (F-statistic):           2.06e-35\n",
            "Time:                        13:38:42   Log-Likelihood:                -797.91\n",
            "No. Observations:                 844   AIC:                             1610.\n",
            "Df Residuals:                     837   BIC:                             1643.\n",
            "Df Model:                           6                                         \n",
            "Covariance Type:            nonrobust                                         \n",
            "============================================================================================\n",
            "                               coef    std err          t      P>|t|      [0.025      0.975]\n",
            "--------------------------------------------------------------------------------------------\n",
            "const                        0.0348      0.022      1.600      0.110      -0.008       0.078\n",
            "oil_price                    0.0643      0.017      3.748      0.000       0.031       0.098\n",
            "gas_price                    0.1089      0.014      7.980      0.000       0.082       0.136\n",
            "stock_market_index_level     0.0325      0.007      4.888      0.000       0.019       0.046\n",
            "energy_price                 0.0016      0.001      1.755      0.080      -0.000       0.003\n",
            "coal_price                   0.0298      0.021      1.403      0.161      -0.012       0.072\n",
            "pred                        -0.2324      0.165     -1.407      0.160      -0.557       0.092\n",
            "==============================================================================\n",
            "Omnibus:                       28.237   Durbin-Watson:                   2.076\n",
            "Prob(Omnibus):                  0.000   Jarque-Bera (JB):               70.119\n",
            "Skew:                           0.004   Prob(JB):                     5.94e-16\n",
            "Kurtosis:                       4.412   Cond. No.                         226.\n",
            "==============================================================================\n",
            "\n",
            "Warnings:\n",
            "[1] Standard Errors assume that the covariance matrix of the errors is correctly specified.\n"
          ]
        }
      ]
    },
    {
      "cell_type": "code",
      "metadata": {
        "id": "sigSuN2FvK07"
      },
      "source": [
        "#x = df.loc[:,['oil_price', 'gas_price', 'stock_market_index_level', 'energy_price', 'coal_price', 'pred']][:-1]\n",
        "x = df_stationer.loc[:,['oil_price', 'gas_price', 'stock_market_index_level', 'energy_price', 'coal_price']]"
      ],
      "execution_count": null,
      "outputs": []
    },
    {
      "cell_type": "code",
      "metadata": {
        "id": "KHsAI3XhvK08"
      },
      "source": [
        "x = sm.add_constant(x)"
      ],
      "execution_count": null,
      "outputs": []
    },
    {
      "cell_type": "code",
      "metadata": {
        "id": "WmTENj3NvK08"
      },
      "source": [
        "model = sm.OLS(y,x)\n",
        "results = model.fit()"
      ],
      "execution_count": null,
      "outputs": []
    },
    {
      "cell_type": "code",
      "metadata": {
        "colab": {
          "base_uri": "https://localhost:8080/"
        },
        "id": "AvbhmnnivK08",
        "outputId": "8ed28e15-6cd7-40a0-8627-4a3a6d1ccb22"
      },
      "source": [
        "print(results.summary())"
      ],
      "execution_count": null,
      "outputs": [
        {
          "output_type": "stream",
          "name": "stdout",
          "text": [
            "                            OLS Regression Results                            \n",
            "==============================================================================\n",
            "Dep. Variable:           carbon_price   R-squared:                       0.188\n",
            "Model:                            OLS   Adj. R-squared:                  0.184\n",
            "Method:                 Least Squares   F-statistic:                     39.23\n",
            "Date:                Tue, 26 Oct 2021   Prob (F-statistic):           2.72e-36\n",
            "Time:                        13:14:50   Log-Likelihood:                -802.61\n",
            "No. Observations:                 851   AIC:                             1617.\n",
            "Df Residuals:                     845   BIC:                             1646.\n",
            "Df Model:                           5                                         \n",
            "Covariance Type:            nonrobust                                         \n",
            "============================================================================================\n",
            "                               coef    std err          t      P>|t|      [0.025      0.975]\n",
            "--------------------------------------------------------------------------------------------\n",
            "const                        0.0383      0.021      1.788      0.074      -0.004       0.080\n",
            "oil_price                    0.0638      0.017      3.738      0.000       0.030       0.097\n",
            "gas_price                    0.1098      0.014      8.088      0.000       0.083       0.136\n",
            "stock_market_index_level     0.0323      0.007      4.875      0.000       0.019       0.045\n",
            "energy_price                 0.0016      0.001      1.815      0.070      -0.000       0.003\n",
            "coal_price                   0.0309      0.021      1.461      0.144      -0.011       0.072\n",
            "==============================================================================\n",
            "Omnibus:                       29.001   Durbin-Watson:                   2.069\n",
            "Prob(Omnibus):                  0.000   Jarque-Bera (JB):               72.932\n",
            "Skew:                          -0.000   Prob(JB):                     1.46e-16\n",
            "Kurtosis:                       4.434   Cond. No.                         30.2\n",
            "==============================================================================\n",
            "\n",
            "Warnings:\n",
            "[1] Standard Errors assume that the covariance matrix of the errors is correctly specified.\n"
          ]
        }
      ]
    },
    {
      "cell_type": "code",
      "metadata": {
        "id": "Qra-yinDtOIq"
      },
      "source": [
        "difference = results.fittedvalues - y"
      ],
      "execution_count": null,
      "outputs": []
    },
    {
      "cell_type": "code",
      "metadata": {
        "id": "rncZqlqZuKL4"
      },
      "source": [
        "difference.to_csv(\"difference.csv\", index=False)"
      ],
      "execution_count": null,
      "outputs": []
    },
    {
      "cell_type": "code",
      "metadata": {
        "id": "wW8WGyWEJ8-G"
      },
      "source": [
        "data = df_stationer.loc[:,['carbon_price', 'oil_price', 'gas_price',\n",
        "       'stock_market_index_level', 'energy_price', 'coal_price','pred', 'pred_x', 'pred_y', 'text_feature']]\n",
        "for lag in range(1, 4):\n",
        "        lag_data = data.shift( lag )\n",
        "        lag_data.columns = [ str( col ) + f'_lag{ lag }' for col in lag_data.columns ]\n",
        "        data = pd.concat( [ data, lag_data ], axis = 1 )"
      ],
      "execution_count": null,
      "outputs": []
    },
    {
      "cell_type": "code",
      "metadata": {
        "id": "WDnyfk9arWVI"
      },
      "source": [
        "data.dropna(inplace=True)"
      ],
      "execution_count": null,
      "outputs": []
    },
    {
      "cell_type": "code",
      "metadata": {
        "id": "wmMEPiXHsH3H"
      },
      "source": [
        "y = data.carbon_price"
      ],
      "execution_count": null,
      "outputs": []
    },
    {
      "cell_type": "code",
      "metadata": {
        "id": "DZ9bIh93r3I7"
      },
      "source": [
        "x = data.drop([\"carbon_price\"], axis=1)"
      ],
      "execution_count": null,
      "outputs": []
    },
    {
      "cell_type": "code",
      "metadata": {
        "id": "ZIzH7R3TsSnG"
      },
      "source": [
        "x = sm.add_constant(x)"
      ],
      "execution_count": null,
      "outputs": []
    },
    {
      "cell_type": "code",
      "metadata": {
        "id": "mlgvGKjDsSnG"
      },
      "source": [
        "model = sm.OLS(y,x)\n",
        "results = model.fit()"
      ],
      "execution_count": null,
      "outputs": []
    },
    {
      "cell_type": "code",
      "metadata": {
        "colab": {
          "base_uri": "https://localhost:8080/"
        },
        "id": "HvPiyLj_sSnG",
        "outputId": "20989c1f-46fa-4b44-a514-aa9c8a82d942"
      },
      "source": [
        "print(results.summary())"
      ],
      "execution_count": null,
      "outputs": [
        {
          "output_type": "stream",
          "name": "stdout",
          "text": [
            "                            OLS Regression Results                            \n",
            "==============================================================================\n",
            "Dep. Variable:           carbon_price   R-squared:                       0.266\n",
            "Model:                            OLS   Adj. R-squared:                  0.200\n",
            "Method:                 Least Squares   F-statistic:                     4.039\n",
            "Date:                Wed, 27 Oct 2021   Prob (F-statistic):           5.54e-22\n",
            "Time:                        13:37:34   Log-Likelihood:                -752.37\n",
            "No. Observations:                 838   AIC:                             1645.\n",
            "Df Residuals:                     768   BIC:                             1976.\n",
            "Df Model:                          69                                         \n",
            "Covariance Type:            nonrobust                                         \n",
            "===========================================================================================================\n",
            "                                              coef    std err          t      P>|t|      [0.025      0.975]\n",
            "-----------------------------------------------------------------------------------------------------------\n",
            "const                                      -0.1392      0.737     -0.189      0.850      -1.586       1.307\n",
            "oil_price                                   0.0546      0.018      3.073      0.002       0.020       0.089\n",
            "gas_price                                   0.1075      0.014      7.475      0.000       0.079       0.136\n",
            "stock_market_index_level                    0.0281      0.007      3.987      0.000       0.014       0.042\n",
            "energy_price                                0.0013      0.001      1.344      0.179      -0.001       0.003\n",
            "coal_price                                  0.0371      0.022      1.680      0.093      -0.006       0.080\n",
            "pred                                       -0.1738      0.173     -1.008      0.314      -0.512       0.165\n",
            "pred_x                                      1.8534      1.146      1.617      0.106      -0.396       4.103\n",
            "pred_y                                      1.0036      2.034      0.493      0.622      -2.989       4.996\n",
            "text_feature                                0.0009      0.218      0.004      0.997      -0.427       0.429\n",
            "carbon_price_lag1                          -0.0292      0.036     -0.807      0.420      -0.100       0.042\n",
            "oil_price_lag1                             -0.0312      0.018     -1.764      0.078      -0.066       0.004\n",
            "gas_price_lag1                             -0.0208      0.015     -1.391      0.165      -0.050       0.009\n",
            "stock_market_index_level_lag1               0.0015      0.007      0.216      0.829      -0.012       0.015\n",
            "energy_price_lag1                          -0.0002      0.001     -0.186      0.853      -0.002       0.002\n",
            "coal_price_lag1                            -0.0336      0.022     -1.512      0.131      -0.077       0.010\n",
            "pred_lag1                                  -0.0259      0.173     -0.149      0.881      -0.366       0.314\n",
            "pred_x_lag1                                 0.0844      1.201      0.070      0.944      -2.273       2.442\n",
            "pred_y_lag1                                -0.0819      2.583     -0.032      0.975      -5.153       4.989\n",
            "text_feature_lag1                          -0.0136      0.309     -0.044      0.965      -0.619       0.592\n",
            "carbon_price_lag2                           0.0387      0.036      1.072      0.284      -0.032       0.109\n",
            "oil_price_lag2                              0.0149      0.018      0.838      0.402      -0.020       0.050\n",
            "gas_price_lag2                              0.0049      0.015      0.324      0.746      -0.025       0.034\n",
            "stock_market_index_level_lag2              -0.0002      0.007     -0.023      0.982      -0.014       0.014\n",
            "energy_price_lag2                           0.0001      0.001      0.146      0.884      -0.002       0.002\n",
            "coal_price_lag2                            -0.0344      0.022     -1.544      0.123      -0.078       0.009\n",
            "pred_lag2                                  -0.1120      0.173     -0.648      0.517      -0.452       0.228\n",
            "pred_x_lag2                                 0.0098      1.193      0.008      0.993      -2.331       2.351\n",
            "pred_y_lag2                                -3.2654      2.560     -1.276      0.203      -8.291       1.760\n",
            "text_feature_lag2                          -0.0917      0.307     -0.298      0.765      -0.695       0.511\n",
            "carbon_price_lag1_lag2                     -0.0350      0.018     -1.952      0.051      -0.070       0.000\n",
            "oil_price_lag1_lag2                         0.0169      0.009      1.890      0.059      -0.001       0.034\n",
            "gas_price_lag1_lag2                        -0.0075      0.007     -0.995      0.320      -0.022       0.007\n",
            "stock_market_index_level_lag1_lag2          0.0012      0.004      0.331      0.741      -0.006       0.008\n",
            "energy_price_lag1_lag2                     -0.0002      0.000     -0.506      0.613      -0.001       0.001\n",
            "coal_price_lag1_lag2                        0.0255      0.011      2.283      0.023       0.004       0.047\n",
            "pred_lag1_lag2                              0.0320      0.087      0.369      0.712      -0.138       0.202\n",
            "pred_x_lag1_lag2                           -0.3883      0.598     -0.650      0.516      -1.562       0.785\n",
            "pred_y_lag1_lag2                            0.3340      1.279      0.261      0.794      -2.177       2.845\n",
            "text_feature_lag1_lag2                      0.0816      0.153      0.533      0.594      -0.219       0.382\n",
            "carbon_price_lag3                          -0.0350      0.018     -1.952      0.051      -0.070       0.000\n",
            "oil_price_lag3                              0.0169      0.009      1.890      0.059      -0.001       0.034\n",
            "gas_price_lag3                             -0.0075      0.007     -0.995      0.320      -0.022       0.007\n",
            "stock_market_index_level_lag3               0.0012      0.004      0.331      0.741      -0.006       0.008\n",
            "energy_price_lag3                          -0.0002      0.000     -0.506      0.613      -0.001       0.001\n",
            "coal_price_lag3                             0.0255      0.011      2.283      0.023       0.004       0.047\n",
            "pred_lag3                                   0.0320      0.087      0.369      0.712      -0.138       0.202\n",
            "pred_x_lag3                                -0.3883      0.598     -0.650      0.516      -1.562       0.785\n",
            "pred_y_lag3                                 0.3340      1.279      0.261      0.794      -2.177       2.845\n",
            "text_feature_lag3                           0.0816      0.153      0.533      0.594      -0.219       0.382\n",
            "carbon_price_lag1_lag3                      0.0095      0.036      0.267      0.790      -0.060       0.079\n",
            "oil_price_lag1_lag3                        -0.0165      0.018     -0.918      0.359      -0.052       0.019\n",
            "gas_price_lag1_lag3                         0.0255      0.015      1.719      0.086      -0.004       0.055\n",
            "stock_market_index_level_lag1_lag3          0.0156      0.007      2.194      0.029       0.002       0.030\n",
            "energy_price_lag1_lag3                   9.227e-05      0.001      0.097      0.923      -0.002       0.002\n",
            "coal_price_lag1_lag3                        0.0269      0.022      1.202      0.230      -0.017       0.071\n",
            "pred_lag1_lag3                             -0.0774      0.173     -0.446      0.656      -0.418       0.263\n",
            "pred_x_lag1_lag3                           -0.9336      1.185     -0.788      0.431      -3.259       1.392\n",
            "pred_y_lag1_lag3                           -0.3221      2.574     -0.125      0.900      -5.374       4.730\n",
            "text_feature_lag1_lag3                      0.0456      0.307      0.149      0.882      -0.556       0.648\n",
            "carbon_price_lag2_lag3                     -0.0648      0.036     -1.818      0.069      -0.135       0.005\n",
            "oil_price_lag2_lag3                         0.0052      0.018      0.286      0.775      -0.030       0.041\n",
            "gas_price_lag2_lag3                        -0.0256      0.015     -1.736      0.083      -0.055       0.003\n",
            "stock_market_index_level_lag2_lag3          0.0083      0.007      1.175      0.240      -0.006       0.022\n",
            "energy_price_lag2_lag3                     -0.0006      0.001     -0.574      0.566      -0.002       0.001\n",
            "coal_price_lag2_lag3                       -0.0029      0.022     -0.131      0.896      -0.047       0.041\n",
            "pred_lag2_lag3                             -0.1502      0.174     -0.861      0.389      -0.493       0.192\n",
            "pred_x_lag2_lag3                            0.4872      1.184      0.412      0.681      -1.837       2.811\n",
            "pred_y_lag2_lag3                            3.3906      2.561      1.324      0.186      -1.637       8.418\n",
            "text_feature_lag2_lag3                     -0.3432      0.309     -1.111      0.267      -0.950       0.263\n",
            "carbon_price_lag1_lag2_lag3                -0.0176      0.036     -0.495      0.621      -0.088       0.052\n",
            "oil_price_lag1_lag2_lag3                    0.0014      0.018      0.075      0.940      -0.034       0.037\n",
            "gas_price_lag1_lag2_lag3                   -0.0149      0.015     -1.018      0.309      -0.044       0.014\n",
            "stock_market_index_level_lag1_lag2_lag3     0.0014      0.007      0.195      0.845      -0.013       0.015\n",
            "energy_price_lag1_lag2_lag3                -0.0007      0.001     -0.741      0.459      -0.003       0.001\n",
            "coal_price_lag1_lag2_lag3                  -0.0077      0.022     -0.349      0.727      -0.051       0.036\n",
            "pred_lag1_lag2_lag3                        -0.0494      0.173     -0.285      0.776      -0.390       0.291\n",
            "pred_x_lag1_lag2_lag3                      -0.4028      1.135     -0.355      0.723      -2.631       1.825\n",
            "pred_y_lag1_lag2_lag3                      -0.3643      2.004     -0.182      0.856      -4.299       3.570\n",
            "text_feature_lag1_lag2_lag3                 0.1998      0.219      0.914      0.361      -0.229       0.629\n",
            "==============================================================================\n",
            "Omnibus:                       20.759   Durbin-Watson:                   1.997\n",
            "Prob(Omnibus):                  0.000   Jarque-Bera (JB):               43.082\n",
            "Skew:                          -0.039   Prob(JB):                     4.41e-10\n",
            "Kurtosis:                       4.108   Cond. No.                     2.01e+16\n",
            "==============================================================================\n",
            "\n",
            "Warnings:\n",
            "[1] Standard Errors assume that the covariance matrix of the errors is correctly specified.\n",
            "[2] The smallest eigenvalue is 3.73e-27. This might indicate that there are\n",
            "strong multicollinearity problems or that the design matrix is singular.\n"
          ]
        }
      ]
    },
    {
      "cell_type": "code",
      "metadata": {
        "id": "WWPdRoSXyPfS"
      },
      "source": [
        "difference = results.fittedvalues - y"
      ],
      "execution_count": null,
      "outputs": []
    },
    {
      "cell_type": "code",
      "metadata": {
        "colab": {
          "base_uri": "https://localhost:8080/"
        },
        "id": "ocnE83Qgzf27",
        "outputId": "f1f7db56-eaeb-4c15-e4ae-7eb5e4d6e77a"
      },
      "source": [
        "difference.head()"
      ],
      "execution_count": null,
      "outputs": [
        {
          "output_type": "execute_result",
          "data": {
            "text/plain": [
              "date\n",
              "2017-09-27    0.224929\n",
              "2017-09-28    0.143931\n",
              "2017-09-29   -0.481756\n",
              "2017-10-02    0.668878\n",
              "2017-10-03    0.240814\n",
              "dtype: float64"
            ]
          },
          "metadata": {},
          "execution_count": 129
        }
      ]
    },
    {
      "cell_type": "code",
      "metadata": {
        "id": "nAPkFS20yPfT"
      },
      "source": [
        "difference.to_csv(\"difference.csv\")"
      ],
      "execution_count": null,
      "outputs": []
    },
    {
      "cell_type": "code",
      "metadata": {
        "id": "SuWEh3G0JW8V"
      },
      "source": [
        "\n",
        "def forward_selected( df, response, lags ):\n",
        "    data = df\n",
        "    for lag in range( 1, lags + 1 ):\n",
        "        lag_data = df.shift( lag )\n",
        "        lag_data.columns = [ str( col ) + f'_lag{ lag }' for col in lag_data.columns ]\n",
        "        data = pd.concat( [ data, lag_data ], axis = 1 )\n",
        "    \n",
        "    # Add constant\n",
        "    # data = sm.add_constant( data )\n",
        "    remaining = set( data.columns )\n",
        "\n",
        "    remaining.difference_update(df.columns)\n",
        "    selected = []\n",
        "    current_score, best_new_score = 0.0, 0.0\n",
        "    while remaining and current_score == best_new_score:\n",
        "        scores_with_candidates = []\n",
        "        for candidate in remaining:\n",
        "            formula = \"{} ~ {} + 1\".format(response,\n",
        "                                           ' + '.join(sorted(selected + [candidate])))\n",
        "            score = smf.ols(formula, data).fit().rsquared_adj\n",
        "            scores_with_candidates.append((score, candidate))\n",
        "        scores_with_candidates.sort()\n",
        "        best_new_score, best_candidate = scores_with_candidates.pop()\n",
        "        if current_score < best_new_score:\n",
        "            remaining.remove(best_candidate)\n",
        "            selected.append(best_candidate)\n",
        "            current_score = best_new_score\n",
        "    formula = \"{} ~ {} + 1\".format(response,\n",
        "                                   ' + '.join(sorted(selected)))\n",
        "    model = smf.ols(formula, data).fit()\n",
        "    return model"
      ],
      "execution_count": null,
      "outputs": []
    },
    {
      "cell_type": "code",
      "metadata": {
        "id": "izVumiHtI3D-"
      },
      "source": [
        "lags = 5\n",
        "response = 'carbon_price'\n",
        "model = forward_selected( df_stationer, response, lags )\n",
        "print( model.summary() )"
      ],
      "execution_count": null,
      "outputs": []
    },
    {
      "cell_type": "code",
      "metadata": {
        "id": "LdeXAznbK4ud"
      },
      "source": [
        ""
      ],
      "execution_count": null,
      "outputs": []
    },
    {
      "cell_type": "markdown",
      "metadata": {
        "id": "RZ24K3aYo972"
      },
      "source": [
        "# Automated regressions"
      ]
    },
    {
      "cell_type": "code",
      "metadata": {
        "id": "h4ONB3dGlJhA"
      },
      "source": [
        "def simple_OLS(signal_name, verbose=True):\n",
        "    stacioner_threshold = 0.01\n",
        "\n",
        "    data = pd.read_csv(\"merged_articles.csv\")\n",
        "    data = data.loc[:,['date', 'carbon_price', 'oil_price', 'gas_price','stock_market_index_level', 'energy_price', 'coal_price']]\n",
        "    signal = pd.read_csv(f'https://raw.githubusercontent.com/paparon96/Sustainability/main/Carbon_price_prediction/Data/signals/{signal_name}.csv', index_col=0)\n",
        "    df = pd.merge(data, signal, on=\"date\", how='left')\n",
        "    df = df.groupby('date').mean()\n",
        "    df.dropna(inplace=True)\n",
        "\n",
        "    # Check for stationarity\n",
        "    arno_cols = df.columns\n",
        "    df_stationer = diff_for_stationarity(df_input=df, cols=arno_cols, threshold=stacioner_threshold, verbose=False)\n",
        "    df_stationer.dropna(inplace=True)\n",
        "\n",
        "    y = df_stationer.carbon_price\n",
        "    x = df_stationer.drop([\"carbon_price\"], axis=1)\n",
        "    x = sm.add_constant(x)\n",
        "\n",
        "    model = sm.OLS(y,x)\n",
        "    results = model.fit()\n",
        "\n",
        "    print('----- Signal: {} ----------------'.format(signal_name))\n",
        "    if verbose:\n",
        "        print(results.summary())\n",
        "    else:\n",
        "        print(results.rsquared)"
      ],
      "execution_count": 63,
      "outputs": []
    },
    {
      "cell_type": "code",
      "metadata": {
        "colab": {
          "base_uri": "https://localhost:8080/"
        },
        "id": "iByb2L84owpn",
        "outputId": "91c53c73-0337-4983-9821-8bd51bfd38b0"
      },
      "source": [
        "simple_OLS('binary_prob')"
      ],
      "execution_count": 48,
      "outputs": [
        {
          "output_type": "stream",
          "name": "stdout",
          "text": [
            "----- Signal: binary_prob ----------------\n",
            "                            OLS Regression Results                            \n",
            "==============================================================================\n",
            "Dep. Variable:           carbon_price   R-squared:                       0.190\n",
            "Model:                            OLS   Adj. R-squared:                  0.185\n",
            "Method:                 Least Squares   F-statistic:                     33.06\n",
            "Date:                Wed, 10 Nov 2021   Prob (F-statistic):           6.85e-36\n",
            "Time:                        16:31:13   Log-Likelihood:                -801.62\n",
            "No. Observations:                 851   AIC:                             1617.\n",
            "Df Residuals:                     844   BIC:                             1650.\n",
            "Df Model:                           6                                         \n",
            "Covariance Type:            nonrobust                                         \n",
            "============================================================================================\n",
            "                               coef    std err          t      P>|t|      [0.025      0.975]\n",
            "--------------------------------------------------------------------------------------------\n",
            "const                       -0.6337      0.479     -1.324      0.186      -1.573       0.306\n",
            "oil_price                    0.0648      0.017      3.794      0.000       0.031       0.098\n",
            "gas_price                    0.1085      0.014      7.980      0.000       0.082       0.135\n",
            "stock_market_index_level     0.0321      0.007      4.851      0.000       0.019       0.045\n",
            "energy_price                 0.0016      0.001      1.833      0.067      -0.000       0.003\n",
            "coal_price                   0.0308      0.021      1.454      0.146      -0.011       0.072\n",
            "pred                         1.2586      0.896      1.405      0.160      -0.499       3.016\n",
            "==============================================================================\n",
            "Omnibus:                       27.797   Durbin-Watson:                   2.065\n",
            "Prob(Omnibus):                  0.000   Jarque-Bera (JB):               68.058\n",
            "Skew:                          -0.012   Prob(JB):                     1.67e-15\n",
            "Kurtosis:                       4.385   Cond. No.                     1.40e+03\n",
            "==============================================================================\n",
            "\n",
            "Warnings:\n",
            "[1] Standard Errors assume that the covariance matrix of the errors is correctly specified.\n",
            "[2] The condition number is large, 1.4e+03. This might indicate that there are\n",
            "strong multicollinearity or other numerical problems.\n"
          ]
        }
      ]
    },
    {
      "cell_type": "code",
      "metadata": {
        "id": "bQM8Fu11pr0r"
      },
      "source": [
        ""
      ],
      "execution_count": null,
      "outputs": []
    },
    {
      "cell_type": "code",
      "metadata": {
        "id": "psLFwByoqAmF"
      },
      "source": [
        "def lagged_OLS(signal_name, verbose=True):\n",
        "    stacioner_threshold = 0.01\n",
        "\n",
        "    data = pd.read_csv(\"merged_articles.csv\")\n",
        "    data = data.loc[:,['date', 'carbon_price', 'oil_price', 'gas_price','stock_market_index_level', 'energy_price', 'coal_price']]\n",
        "    signal = pd.read_csv(f'https://raw.githubusercontent.com/paparon96/Sustainability/main/Carbon_price_prediction/Data/signals/{signal_name}.csv', index_col=0)\n",
        "    df = pd.merge(data, signal, on=\"date\", how='left')\n",
        "    df = df.groupby('date').mean()\n",
        "    df.dropna(inplace=True)\n",
        "\n",
        "    # Check for stationarity\n",
        "    arno_cols = df.columns\n",
        "    df_stationer = diff_for_stationarity(df_input=df, cols=arno_cols, threshold=stacioner_threshold, verbose=False)\n",
        "    df_stationer.dropna(inplace=True)\n",
        "\n",
        "    for lag in range(1, 4):\n",
        "        lag_data = df_stationer.shift(lag)\n",
        "        lag_data.columns = [str(col) + f'_lag{lag}' for col in lag_data.columns]\n",
        "        df_stationer = pd.concat([df_stationer, lag_data ], axis=1)\n",
        "\n",
        "    df_stationer.dropna(inplace=True)\n",
        "\n",
        "    y = df_stationer.carbon_price\n",
        "    x = df_stationer.drop([\"carbon_price\"], axis=1)\n",
        "    x = sm.add_constant(x)\n",
        "\n",
        "    model = sm.OLS(y,x)\n",
        "    results = model.fit()\n",
        "\n",
        "    print('----- Signal: {} ----------------'.format(signal_name))\n",
        "    if verbose:\n",
        "        print(results.summary())\n",
        "    else:\n",
        "        print(results.rsquared)"
      ],
      "execution_count": 64,
      "outputs": []
    },
    {
      "cell_type": "code",
      "metadata": {
        "colab": {
          "base_uri": "https://localhost:8080/"
        },
        "id": "yRFKzezirTj-",
        "outputId": "66983a3d-10c8-4ba3-98f8-1dfe2ac98fca"
      },
      "source": [
        "lagged_OLS('binary_prob')"
      ],
      "execution_count": 65,
      "outputs": [
        {
          "output_type": "stream",
          "name": "stdout",
          "text": [
            "----- Signal: binary_prob ----------------\n",
            "                            OLS Regression Results                            \n",
            "==============================================================================\n",
            "Dep. Variable:           carbon_price   R-squared:                       0.255\n",
            "Model:                            OLS   Adj. R-squared:                  0.210\n",
            "Method:                 Least Squares   F-statistic:                     5.677\n",
            "Date:                Wed, 10 Nov 2021   Prob (F-statistic):           1.67e-27\n",
            "Time:                        16:40:44   Log-Likelihood:                -762.76\n",
            "No. Observations:                 845   AIC:                             1624.\n",
            "Df Residuals:                     796   BIC:                             1856.\n",
            "Df Model:                          48                                         \n",
            "Covariance Type:            nonrobust                                         \n",
            "===========================================================================================================\n",
            "                                              coef    std err          t      P>|t|      [0.025      0.975]\n",
            "-----------------------------------------------------------------------------------------------------------\n",
            "const                                       0.0051      0.687      0.007      0.994      -1.344       1.354\n",
            "oil_price                                   0.0561      0.017      3.205      0.001       0.022       0.090\n",
            "gas_price                                   0.1075      0.014      7.714      0.000       0.080       0.135\n",
            "stock_market_index_level                    0.0281      0.007      4.078      0.000       0.015       0.042\n",
            "energy_price                                0.0013      0.001      1.384      0.167      -0.001       0.003\n",
            "coal_price                                  0.0396      0.022      1.841      0.066      -0.003       0.082\n",
            "pred                                        1.7570      1.104      1.591      0.112      -0.411       3.925\n",
            "carbon_price_lag1                          -0.0232      0.035     -0.654      0.513      -0.093       0.046\n",
            "oil_price_lag1                             -0.0304      0.017     -1.746      0.081      -0.065       0.004\n",
            "gas_price_lag1                             -0.0225      0.015     -1.547      0.122      -0.051       0.006\n",
            "stock_market_index_level_lag1              -0.0007      0.007     -0.096      0.924      -0.014       0.013\n",
            "energy_price_lag1                        5.063e-05      0.001      0.055      0.956      -0.002       0.002\n",
            "coal_price_lag1                            -0.0331      0.022     -1.525      0.128      -0.076       0.010\n",
            "pred_lag1                                   0.2364      1.163      0.203      0.839      -2.046       2.519\n",
            "carbon_price_lag2                           0.0409      0.035      1.160      0.246      -0.028       0.110\n",
            "oil_price_lag2                              0.0140      0.017      0.802      0.423      -0.020       0.048\n",
            "gas_price_lag2                              0.0006      0.015      0.043      0.965      -0.028       0.029\n",
            "stock_market_index_level_lag2              -0.0002      0.007     -0.033      0.974      -0.014       0.013\n",
            "energy_price_lag2                           0.0003      0.001      0.305      0.760      -0.002       0.002\n",
            "coal_price_lag2                            -0.0303      0.022     -1.394      0.164      -0.073       0.012\n",
            "pred_lag2                                  -0.3549      1.155     -0.307      0.759      -2.621       1.912\n",
            "carbon_price_lag1_lag2                     -0.0336      0.018     -1.914      0.056      -0.068       0.001\n",
            "oil_price_lag1_lag2                         0.0171      0.009      1.939      0.053      -0.000       0.034\n",
            "gas_price_lag1_lag2                        -0.0081      0.007     -1.105      0.269      -0.022       0.006\n",
            "stock_market_index_level_lag1_lag2          0.0007      0.003      0.213      0.832      -0.006       0.008\n",
            "energy_price_lag1_lag2                     -0.0002      0.000     -0.443      0.658      -0.001       0.001\n",
            "coal_price_lag1_lag2                        0.0262      0.011      2.402      0.017       0.005       0.048\n",
            "pred_lag1_lag2                             -0.4135      0.580     -0.713      0.476      -1.551       0.724\n",
            "carbon_price_lag3                          -0.0336      0.018     -1.914      0.056      -0.068       0.001\n",
            "oil_price_lag3                              0.0171      0.009      1.939      0.053      -0.000       0.034\n",
            "gas_price_lag3                             -0.0081      0.007     -1.105      0.269      -0.022       0.006\n",
            "stock_market_index_level_lag3               0.0007      0.003      0.213      0.832      -0.006       0.008\n",
            "energy_price_lag3                          -0.0002      0.000     -0.443      0.658      -0.001       0.001\n",
            "coal_price_lag3                             0.0262      0.011      2.402      0.017       0.005       0.048\n",
            "pred_lag3                                  -0.4135      0.580     -0.713      0.476      -1.551       0.724\n",
            "carbon_price_lag1_lag3                      0.0086      0.035      0.246      0.806      -0.060       0.077\n",
            "oil_price_lag1_lag3                        -0.0193      0.018     -1.093      0.275      -0.054       0.015\n",
            "gas_price_lag1_lag3                         0.0230      0.014      1.590      0.112      -0.005       0.051\n",
            "stock_market_index_level_lag1_lag3          0.0160      0.007      2.323      0.020       0.002       0.029\n",
            "energy_price_lag1_lag3                      0.0001      0.001      0.119      0.905      -0.002       0.002\n",
            "coal_price_lag1_lag3                        0.0362      0.022      1.655      0.098      -0.007       0.079\n",
            "pred_lag1_lag3                             -0.9393      1.150     -0.817      0.414      -3.196       1.318\n",
            "carbon_price_lag2_lag3                     -0.0616      0.035     -1.763      0.078      -0.130       0.007\n",
            "oil_price_lag2_lag3                         0.0036      0.018      0.205      0.838      -0.031       0.038\n",
            "gas_price_lag2_lag3                        -0.0254      0.014     -1.769      0.077      -0.054       0.003\n",
            "stock_market_index_level_lag2_lag3          0.0081      0.007      1.186      0.236      -0.005       0.022\n",
            "energy_price_lag2_lag3                     -0.0007      0.001     -0.710      0.478      -0.003       0.001\n",
            "coal_price_lag2_lag3                       -0.0021      0.022     -0.096      0.923      -0.045       0.041\n",
            "pred_lag2_lag3                              0.4596      1.152      0.399      0.690      -1.801       2.720\n",
            "carbon_price_lag1_lag2_lag3                -0.0153      0.035     -0.439      0.661      -0.084       0.053\n",
            "oil_price_lag1_lag2_lag3                    0.0002      0.018      0.010      0.992      -0.035       0.035\n",
            "gas_price_lag1_lag2_lag3                   -0.0147      0.014     -1.019      0.309      -0.043       0.014\n",
            "stock_market_index_level_lag1_lag2_lag3     0.0026      0.007      0.376      0.707      -0.011       0.016\n",
            "energy_price_lag1_lag2_lag3                -0.0008      0.001     -0.874      0.382      -0.003       0.001\n",
            "coal_price_lag1_lag2_lag3                  -0.0097      0.022     -0.446      0.655      -0.052       0.033\n",
            "pred_lag1_lag2_lag3                        -0.2544      1.100     -0.231      0.817      -2.414       1.906\n",
            "==============================================================================\n",
            "Omnibus:                       22.649   Durbin-Watson:                   1.997\n",
            "Prob(Omnibus):                  0.000   Jarque-Bera (JB):               48.864\n",
            "Skew:                          -0.046   Prob(JB):                     2.45e-11\n",
            "Kurtosis:                       4.175   Cond. No.                     1.85e+16\n",
            "==============================================================================\n",
            "\n",
            "Warnings:\n",
            "[1] Standard Errors assume that the covariance matrix of the errors is correctly specified.\n",
            "[2] The smallest eigenvalue is 4.4e-27. This might indicate that there are\n",
            "strong multicollinearity problems or that the design matrix is singular.\n"
          ]
        }
      ]
    },
    {
      "cell_type": "code",
      "metadata": {
        "id": "0c_-TIVXrUoj"
      },
      "source": [
        ""
      ],
      "execution_count": null,
      "outputs": []
    },
    {
      "cell_type": "code",
      "metadata": {
        "id": "6E-sKV8gis9n"
      },
      "source": [
        "signal_names = ['binary_prob', 'log_difference', 'cp_news_signal', 'residuals', 'text_feature']"
      ],
      "execution_count": 66,
      "outputs": []
    },
    {
      "cell_type": "code",
      "metadata": {
        "colab": {
          "base_uri": "https://localhost:8080/"
        },
        "id": "lW5R-vdesMEu",
        "outputId": "3ecaffd9-4178-4266-e97d-d71695ec317d"
      },
      "source": [
        "for signal in signal_names:\n",
        "    simple_OLS(signal, verbose=False)"
      ],
      "execution_count": 67,
      "outputs": [
        {
          "output_type": "stream",
          "name": "stdout",
          "text": [
            "----- Signal: binary_prob ----------------\n",
            "0.1902876583258446\n",
            "----- Signal: log_difference ----------------\n",
            "0.1884478934908661\n",
            "----- Signal: cp_news_signal ----------------\n",
            "0.19745410966196297\n",
            "----- Signal: residuals ----------------\n",
            "0.18954275475015236\n",
            "----- Signal: text_feature ----------------\n",
            "0.18869051576605056\n"
          ]
        }
      ]
    }
  ]
}