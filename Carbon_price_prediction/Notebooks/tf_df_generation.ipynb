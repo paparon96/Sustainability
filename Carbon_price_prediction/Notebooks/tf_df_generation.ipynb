{
  "nbformat": 4,
  "nbformat_minor": 0,
  "metadata": {
    "colab": {
      "name": "tf_df_generation.ipynb",
      "provenance": [],
      "collapsed_sections": [],
      "toc_visible": true
    },
    "kernelspec": {
      "name": "python3",
      "display_name": "Python 3"
    },
    "language_info": {
      "name": "python"
    }
  },
  "cells": [
    {
      "cell_type": "markdown",
      "source": [
        "# Import packages"
      ],
      "metadata": {
        "id": "_ZVLsqmJAcZP"
      }
    },
    {
      "cell_type": "code",
      "source": [
        "# Run this if running in Google Collab\n",
        "# Mount google drive if running from Google Collab\n",
        "from google.colab import drive\n",
        "drive.mount('/content/drive')\n",
        "\n",
        "# Set current directory if running from Google Collab\n",
        "import os\n",
        "os.chdir('/content/drive/My Drive/Carbon_price_prediction/Workspace/Data')\n",
        "\n",
        "import pandas as pd\n",
        "import numpy as np\n",
        "\n",
        "import matplotlib.pyplot as plt\n",
        "%matplotlib inline\n",
        "\n",
        "import pickle"
      ],
      "metadata": {
        "id": "8ijxHd92TnUY"
      },
      "execution_count": null,
      "outputs": []
    },
    {
      "cell_type": "markdown",
      "source": [
        "# Custom functions"
      ],
      "metadata": {
        "id": "E2SYCbr0BHY1"
      }
    },
    {
      "cell_type": "code",
      "source": [
        "def tf_idf(df: pd.DataFrame) -> pd.DataFrame:\n",
        "    \"\"\"\n",
        "    Creates TF-IDF scores based on term-document matrix\n",
        "\n",
        "    Parameters:\n",
        "        df (pandas DataFrame):term-document dataframe\n",
        "\n",
        "    Returns:\n",
        "        tf_idf_df (pandas DataFrame): Dataframe of TF-IDF scores\n",
        "\n",
        "    \"\"\"\n",
        "\n",
        "    # Count term occurences across documents (dates in ur case)\n",
        "    nt = (df > 0).sum(axis=0)\n",
        "\n",
        "    # Broadcast to dataframe for compatible shapes\n",
        "    nt = (df < 0) + nt\n",
        "\n",
        "    # Get number of documents\n",
        "    N = len(df)\n",
        "\n",
        "    # Implementation based on the 2. recommended option here: https://en.wikipedia.org/wiki/Tf%E2%80%93idf\n",
        "    tf_idf_df = np.log(1 + df) * np.log(1 + N / nt)\n",
        "\n",
        "    return tf_idf_df"
      ],
      "metadata": {
        "id": "bLgn-i6HBJUl"
      },
      "execution_count": null,
      "outputs": []
    },
    {
      "cell_type": "code",
      "source": [
        "def agg_keyword_index_tf_idf_plot(ma_window, first_date, df, grouping):\n",
        "    filtered_df = df[df.index > first_date]\n",
        "\n",
        "    plt.plot(filtered_df, label='Raw scores', alpha=0.2)\n",
        "    plt.plot(filtered_df.rolling(ma_window).mean(), label=f'{ma_window}-day moving average')\n",
        "    plt.ylabel(\"TF-IDF score\")\n",
        "    plt.title(\"Time series of aggregated keyword index\")\n",
        "    plt.legend()\n",
        "    plt.tight_layout()\n",
        "    grouping_flag = '_grouped' if grouping else ''\n",
        "    plt.savefig(f'./tf_idf/aggregated{grouping_flag}_tf_idf_index_ts_ma_window_{ma_window}_first_date_{first_date.strftime(\"%Y%m%d\")}.pdf')\n",
        "    plt.show()"
      ],
      "metadata": {
        "id": "BQVUp8No3kZg"
      },
      "execution_count": null,
      "outputs": []
    },
    {
      "cell_type": "markdown",
      "source": [
        "# Parameters / Constants"
      ],
      "metadata": {
        "id": "iL7Dq1GUAe4w"
      }
    },
    {
      "cell_type": "code",
      "source": [
        "ngrams = [1, 2, 3]\n",
        "grouping = True"
      ],
      "metadata": {
        "id": "0x9EpJqFDhOm"
      },
      "execution_count": null,
      "outputs": []
    },
    {
      "cell_type": "code",
      "source": [
        "if grouping:\n",
        "    group_mapping = pd.read_csv('./keyword_lists/group_mapping.csv', index_col=0).squeeze()\n",
        "    group_mapping.head()"
      ],
      "metadata": {
        "id": "rkk5QOgQMTiV"
      },
      "execution_count": null,
      "outputs": []
    },
    {
      "cell_type": "markdown",
      "source": [
        "# Data import"
      ],
      "metadata": {
        "id": "_V32IcvVAr8Y"
      }
    },
    {
      "cell_type": "code",
      "source": [
        "dfs = [pd.read_csv(f'./merged_articles_carbon_keyword_term_document_matrix_ngram_{ngram}.csv', index_col=0)\n",
        "       for ngram in ngrams]\n",
        "df = pd.concat(dfs, axis=1)\n",
        "print(df.shape)\n",
        "print(df.head())"
      ],
      "metadata": {
        "id": "2tV15lTA0laB"
      },
      "execution_count": null,
      "outputs": []
    },
    {
      "cell_type": "code",
      "source": [
        "id_date_map_df = pd.read_csv(f'./lemmatized_merged_articles.csv', index_col=0)\n",
        "id_date_map_df.shape"
      ],
      "metadata": {
        "id": "_yL-tl_PRFzl"
      },
      "execution_count": null,
      "outputs": []
    },
    {
      "cell_type": "code",
      "source": [
        "df.shape"
      ],
      "metadata": {
        "id": "o4wWOOWLyVLn"
      },
      "execution_count": null,
      "outputs": []
    },
    {
      "cell_type": "code",
      "source": [
        "# Reindex keyword counts by dates\n",
        "df = df.rename(index=id_date_map_df['date'].squeeze().to_dict())\n",
        "print(df.head())"
      ],
      "metadata": {
        "id": "Rr3sas5Ry_J7"
      },
      "execution_count": null,
      "outputs": []
    },
    {
      "cell_type": "code",
      "source": [
        "# Sanity check\n",
        "print(min(df.index))\n",
        "print(max(df.index))"
      ],
      "metadata": {
        "id": "Hv2ikcrpzPG1"
      },
      "execution_count": null,
      "outputs": []
    },
    {
      "cell_type": "markdown",
      "source": [
        "# Data Preprocessing"
      ],
      "metadata": {
        "id": "YW-dfTY2AtiR"
      }
    },
    {
      "cell_type": "code",
      "source": [
        "# Potential grouping\n",
        "if grouping:\n",
        "    df = df.rename(columns=group_mapping)\n",
        "    df = df.groupby(by=df.columns, axis=1).apply(lambda g: g.sum(axis=1))\n",
        "    # df = df.groupby(by=df.index, axis=0).apply(lambda g: g.sum())"
      ],
      "metadata": {
        "id": "yNtHyJHcM49K"
      },
      "execution_count": null,
      "outputs": []
    },
    {
      "cell_type": "code",
      "source": [
        "df.head()"
      ],
      "metadata": {
        "id": "uUcL7JyEPfDp"
      },
      "execution_count": null,
      "outputs": []
    },
    {
      "cell_type": "code",
      "source": [
        "# Aggregate by dates\n",
        "agg_df = df.groupby(df.index).sum()"
      ],
      "metadata": {
        "id": "aZPoRYDIzlap"
      },
      "execution_count": null,
      "outputs": []
    },
    {
      "cell_type": "code",
      "source": [
        "agg_df"
      ],
      "metadata": {
        "id": "7imKGDZZzl0l"
      },
      "execution_count": null,
      "outputs": []
    },
    {
      "cell_type": "markdown",
      "source": [
        "# TF-IDF generation"
      ],
      "metadata": {
        "id": "unVOe-HdzoRg"
      }
    },
    {
      "cell_type": "code",
      "source": [
        "# Generate TF-IDF scores\n",
        "tf_idf_df = tf_idf(agg_df)"
      ],
      "metadata": {
        "id": "crwINpmgyCKG"
      },
      "execution_count": null,
      "outputs": []
    },
    {
      "cell_type": "code",
      "source": [
        "tf_idf_df"
      ],
      "metadata": {
        "id": "2q4Zkb3y-Cv4"
      },
      "execution_count": null,
      "outputs": []
    },
    {
      "cell_type": "markdown",
      "source": [
        "# Export results"
      ],
      "metadata": {
        "id": "HWZNgi2ABozs"
      }
    },
    {
      "cell_type": "code",
      "source": [
        "grouping_flag = '_grouped' if grouping else ''"
      ],
      "metadata": {
        "id": "JoWojHlFQCYO"
      },
      "execution_count": null,
      "outputs": []
    },
    {
      "cell_type": "code",
      "source": [
        "tf_idf_df.to_csv(f'./tf_idf_gdelt_lemmatized{grouping_flag}_custom_keywords.csv')"
      ],
      "metadata": {
        "id": "MW2c8MA9_3aP"
      },
      "execution_count": null,
      "outputs": []
    },
    {
      "cell_type": "markdown",
      "source": [
        "# Aggregated keywords \"index\""
      ],
      "metadata": {
        "id": "2qnAZPXEw2T6"
      }
    },
    {
      "cell_type": "code",
      "source": [
        "agg_keyword_index_df = df.groupby(df.index).sum().sum(axis=1)\n",
        "agg_keyword_index_df"
      ],
      "metadata": {
        "id": "b3LhuAz6w6kF"
      },
      "execution_count": null,
      "outputs": []
    },
    {
      "cell_type": "code",
      "source": [
        "agg_keyword_index_tf_idf_df = tf_idf(agg_keyword_index_df)"
      ],
      "metadata": {
        "id": "ClImxZqpzu2K"
      },
      "execution_count": null,
      "outputs": []
    },
    {
      "cell_type": "code",
      "source": [
        "agg_keyword_index_tf_idf_df"
      ],
      "metadata": {
        "id": "zQYZJjIkzzba"
      },
      "execution_count": null,
      "outputs": []
    },
    {
      "cell_type": "code",
      "source": [
        "# Converting the index to date type\n",
        "agg_keyword_index_tf_idf_df.index = pd.to_datetime(agg_keyword_index_tf_idf_df.index)"
      ],
      "metadata": {
        "id": "p3vVqIOu0G6o"
      },
      "execution_count": null,
      "outputs": []
    },
    {
      "cell_type": "code",
      "source": [
        "# Visualize index over time\n",
        "ma_window = 7\n",
        "first_date = pd.to_datetime('2021-01-01')\n",
        "\n",
        "agg_keyword_index_tf_idf_plot(ma_window, first_date,\n",
        "                              agg_keyword_index_tf_idf_df, grouping)"
      ],
      "metadata": {
        "id": "2euH2ptIz-kO"
      },
      "execution_count": null,
      "outputs": []
    },
    {
      "cell_type": "markdown",
      "source": [
        "# Support"
      ],
      "metadata": {
        "id": "uh_NrrJ_-57f"
      }
    },
    {
      "cell_type": "code",
      "source": [
        "# Single dataframe\n",
        "# df = pd.read_csv(f'./merged_articles_carbon_keyword_term_document_matrix_ngram_{ngram}.csv', index_col=0)\n",
        "# df.head()"
      ],
      "metadata": {
        "id": "LhfiFheR_iQj"
      },
      "execution_count": null,
      "outputs": []
    },
    {
      "cell_type": "code",
      "source": [
        "# nt = (agg_df > 0).sum(axis=0)\n",
        "# nt = (agg_df < 0) + nt\n",
        "# print(nt)"
      ],
      "metadata": {
        "id": "2I48yH7w8gjB"
      },
      "execution_count": null,
      "outputs": []
    },
    {
      "cell_type": "code",
      "source": [
        "# # Implementation based on the 2. recommended option here: https://en.wikipedia.org/wiki/Tf%E2%80%93idf\n",
        "# N = len(agg_df)\n",
        "\n",
        "# tf_idf_df = np.log(1 + agg_df) * np.log(1 + N / nt)"
      ],
      "metadata": {
        "id": "Ffy1aZRe6PjS"
      },
      "execution_count": null,
      "outputs": []
    },
    {
      "cell_type": "code",
      "source": [
        "# agg_keyword_index_tf_idf_df[agg_keyword_index_tf_idf_df.index > pd.to_datetime('2021-10-10')]"
      ],
      "metadata": {
        "id": "QxZoXkUX3MVy"
      },
      "execution_count": null,
      "outputs": []
    },
    {
      "cell_type": "code",
      "source": [
        "# plt.plot(agg_keyword_index_tf_idf_df, label='Raw scores', alpha=0.7)\n",
        "# plt.plot(agg_keyword_index_tf_idf_df.rolling(ma_window).mean(), label=f'{ma_window}-day moving average')\n",
        "# plt.ylabel(\"TF-IDF score\")\n",
        "# plt.title(\"TEST\")\n",
        "# plt.tight_layout()\n",
        "# plt.savefig(f'./tf_idf/aggregated_tf_idf_index_ts.pdf')\n",
        "# plt.show()"
      ],
      "metadata": {
        "id": "-ljq2f5J3O-h"
      },
      "execution_count": null,
      "outputs": []
    },
    {
      "cell_type": "code",
      "source": [
        "# df2 = df.rename(columns=group_mapping).transpose()\n",
        "# df2 = df2.groupby(by=df2.index, axis=0).apply(lambda g: g.sum())\n",
        "# df2.transpose().groupby(by=df2.transpose().index, axis=0).apply(lambda g: g.sum())"
      ],
      "metadata": {
        "id": "sEtHdWGyOwON"
      },
      "execution_count": null,
      "outputs": []
    },
    {
      "cell_type": "code",
      "source": [
        "# df3 = df2.groupby(by=df2.columns, axis=1).apply(lambda g: g.sum(axis=1))\n",
        "\n",
        "# df.reset_index(inplace=True)\n",
        "# df.groupby('INCIDENTDATE').max()"
      ],
      "metadata": {
        "id": "lOBc0OXzNr6q"
      },
      "execution_count": null,
      "outputs": []
    },
    {
      "cell_type": "code",
      "source": [
        "# ngram = 1\n",
        "# df.columns"
      ],
      "metadata": {
        "id": "jjnd9kg5872s"
      },
      "execution_count": null,
      "outputs": []
    },
    {
      "cell_type": "code",
      "source": [
        "# groups = ['renewables', 'fossil_fuel', 'policy', 'emissions']\n",
        "# group_mapping = {'ghg': 'emissions',\n",
        "#                  'climate': 'policy',\n",
        "#                  'sustainability': 'policy',\n",
        "#                  'sustainable': 'policy',\n",
        "#                  'environment': 'policy',\n",
        "#                  'ets': 'policy',\n",
        "#                  'coal': 'fossil_fuel',\n",
        "#                 #  'gas': 'fossil_fuel',\n",
        "#                  'oil': 'fossil_fuel',\n",
        "#                  'crude': 'fossil_fuel',\n",
        "#                  'gasoline': 'fossil_fuel',\n",
        "#                  'diesel': 'fossil_fuel',\n",
        "#                  'petrol': 'fossil_fuel',\n",
        "#                  'fuel': 'fossil_fuel',\n",
        "#                  'electricity': 'renewables',\n",
        "#                  'renewable': 'renewables',\n",
        "#                  'carbon dioxide': 'emissions',\n",
        "#                  'greenhouse gas': 'emissions',\n",
        "#                  'green deal': 'policy',\n",
        "#                  'solar power': 'renewables',\n",
        "#                  'solar panel': 'renewables',\n",
        "#                  'solar energy': 'renewables',\n",
        "#                  'wind power': 'renewables',\n",
        "#                  'wind turbine': 'renewables',\n",
        "#                  'wind energy': 'renewables',\n",
        "#                  'natural gas': 'fossil_fuel',\n",
        "#                  'gas price': 'fossil_fuel',\n",
        "#                  'gas boiler': 'fossil_fuel',\n",
        "#                  'gas heating': 'fossil_fuel',\n",
        "#                  'gas turbine': 'fossil_fuel',\n",
        "#                  'fossil fuel': 'fossil_fuel',\n",
        "#                  'nuclear power': 'renewables',\n",
        "#                  'nuclear plant': 'renewables',\n",
        "#                  'nuclear energy': 'renewables',\n",
        "#                  'clean energy': 'renewables',\n",
        "#                  'green energy': 'renewables',\n",
        "#                  'emission trading system': 'policy',\n",
        "#                  'emission trading scheme': 'policy'}"
      ],
      "metadata": {
        "id": "clSmVg_q9DRv"
      },
      "execution_count": null,
      "outputs": []
    },
    {
      "cell_type": "code",
      "source": [
        "# pd.Series(group_mapping).to_csv('./keyword_lists/group_mapping.csv')"
      ],
      "metadata": {
        "id": "-1QYNaeb_xER"
      },
      "execution_count": null,
      "outputs": []
    }
  ]
}